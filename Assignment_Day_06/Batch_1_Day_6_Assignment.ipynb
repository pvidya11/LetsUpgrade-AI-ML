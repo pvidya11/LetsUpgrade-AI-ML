{
 "cells": [
  {
   "cell_type": "markdown",
   "metadata": {},
   "source": [
    "## Question 1:\n",
    "\n",
    "#### Assuming that we have some email addresses in the \"username@companyname.com\" format, please write program to print the company name of a given email address. Both user names and company names are composed of letters only.\n",
    "\n",
    "#### Input Format:\n",
    "    The first line of the input contains an email address.\n",
    "#### Output Format:\n",
    "    Print the company name in single line.\n",
    "#### Example;\n",
    "    Input:\n",
    "        john@google.com\n",
    "    Output:\n",
    "        google"
   ]
  },
  {
   "cell_type": "code",
   "execution_count": 28,
   "metadata": {},
   "outputs": [
    {
     "name": "stdout",
     "output_type": "stream",
     "text": [
      "enter email address:-\"username@companyname.com\"\n",
      "companyname\n"
     ]
    }
   ],
   "source": [
    "def extract_emailinfo(email):\n",
    "    sub_email_adress=email.split(\"@\")\n",
    "    username=sub_email_adress[0]\n",
    "    company_domain=sub_email_adress[1]\n",
    "    company=company_domain.split(\".\")[0]\n",
    "    domain=company_domain.split(\".\")[1]\n",
    "    return username,company,domain\n",
    "\n",
    "email_address=input(\"enter email address:-\")\n",
    "username1,company1,domain1=extract_emailinfo(email_address)\n",
    "print(company1)\n",
    "\n"
   ]
  },
  {
   "cell_type": "code",
   "execution_count": 29,
   "metadata": {},
   "outputs": [
    {
     "name": "stdout",
     "output_type": "stream",
     "text": [
      "google\n"
     ]
    }
   ],
   "source": [
    "email_address=\"john@google.com\"\n",
    "username2,company2,domain2=extract_emailinfo(email_address)\n",
    "print(company2)"
   ]
  },
  {
   "cell_type": "markdown",
   "metadata": {},
   "source": [
    "## Question 2:\n",
    "#### Write a program that accepts a comma-separated sequence of words as input and prints the words in a comma separated sequence after sorting them alphabetically.\n",
    "#### Input Format:\n",
    "    The first line of input contains words separated by the comma.\n",
    "#### Output Format:\n",
    "    Print the sorted words separated by the comma.\n",
    "##### Example:\n",
    "    Input:\n",
    "        without,hello,bag,world\n",
    "    Output:\n",
    "        bag,hello,without,world"
   ]
  },
  {
   "cell_type": "code",
   "execution_count": 53,
   "metadata": {},
   "outputs": [
    {
     "name": "stdout",
     "output_type": "stream",
     "text": [
      "Input comma separated sequence of words:- without,hello,bag,world\n",
      "bag,hello,without,world\n"
     ]
    }
   ],
   "source": [
    "items = input(\"Input comma separated sequence of words:- \")\n",
    "words=items.split(\",\")\n",
    "sorted_words=sorted(words)\n",
    "print(\",\".join(sorted_words))"
   ]
  },
  {
   "cell_type": "markdown",
   "metadata": {},
   "source": [
    "## Question 3:  Create your own Jupyter Notebook for Sets.\n",
    "\n",
    "##### Reference link: https://www.w3schools.com/python/python_sets.asp\n"
   ]
  },
  {
   "cell_type": "markdown",
   "metadata": {},
   "source": [
    "set is unordered collection of homogeneous, immutable and unique data.\n",
    "In Python, sets are written in curly brackets {}.\n",
    "###### Note:\n",
    "    1)Unordered:- Sets can not access by refering index.\n",
    "    2)homogeneous:- Sets contain unique(single) datatype elements. set can not contain mixed data type elements.\n",
    "    3)immutable:- Sets data unable to change.\n",
    "    4)unique:- Sets data can not be duplicate."
   ]
  },
  {
   "cell_type": "markdown",
   "metadata": {},
   "source": [
    "##### set() Constructor\n",
    "    set() constructor is used to make a set."
   ]
  },
  {
   "cell_type": "code",
   "execution_count": 22,
   "metadata": {},
   "outputs": [
    {
     "name": "stdout",
     "output_type": "stream",
     "text": [
      "{'work', 'student', 'team', 'letsupgread'}\n",
      "{'work', 'student', 'team', 'letsupgread'}\n"
     ]
    }
   ],
   "source": [
    "set1=set([\"letsupgread\",\"team\",\"work\",\"student\"])\n",
    "print(set1)\n",
    "set2=set((\"letsupgread\",\"team\",\"work\",\"student\"))\n",
    "print(set2)"
   ]
  },
  {
   "cell_type": "code",
   "execution_count": 23,
   "metadata": {},
   "outputs": [
    {
     "name": "stdout",
     "output_type": "stream",
     "text": [
      "{'student', 'work', 'letsupgread', 'team'}\n"
     ]
    }
   ],
   "source": [
    "# Unordered self sorted elements.\n",
    "set1={\"letsupgread\",\"team\",\"work\",\"student\"}   \n",
    "print(set1)"
   ]
  },
  {
   "cell_type": "markdown",
   "metadata": {},
   "source": [
    "###### Access Items:- \n",
    "    Sets are unordered collection of elements so we can not use index to access elements of set.\n",
    "    But we can use \"for loop\" for access of elements of set.\n",
    "    also we can use \"in\" keyword for specified value is present in set. "
   ]
  },
  {
   "cell_type": "code",
   "execution_count": 24,
   "metadata": {},
   "outputs": [
    {
     "name": "stdout",
     "output_type": "stream",
     "text": [
      "student\n",
      "work\n",
      "letsupgread\n",
      "team\n"
     ]
    }
   ],
   "source": [
    "set1={\"letsupgread\",\"team\",\"work\",\"student\"}\n",
    "\n",
    "for x in set1:\n",
    "    print(x)"
   ]
  },
  {
   "cell_type": "code",
   "execution_count": 26,
   "metadata": {},
   "outputs": [
    {
     "name": "stdout",
     "output_type": "stream",
     "text": [
      "False\n"
     ]
    }
   ],
   "source": [
    "set1={\"letsupgread\",\"work\",\"student\"}\n",
    "print(\"team\" in set1)"
   ]
  },
  {
   "cell_type": "markdown",
   "metadata": {},
   "source": [
    "###### Change Items:- \n",
    "when set is created we can not change items, but we can add new items by using \"add()\" or \"update()\" methods."
   ]
  },
  {
   "cell_type": "markdown",
   "metadata": {},
   "source": [
    "###### Add Items:- \n",
    "    add():- In set, add one item by use add() method.\n",
    "    update():- In set, add more than one item by use update() method"
   ]
  },
  {
   "cell_type": "code",
   "execution_count": 28,
   "metadata": {},
   "outputs": [
    {
     "name": "stdout",
     "output_type": "stream",
     "text": [
      "{'team', 'student', 'work', 'study', 'letsupgread'}\n"
     ]
    }
   ],
   "source": [
    "set1={\"letsupgread\",\"team\",\"work\",\"student\"}\n",
    "set1.add(\"study\")\n",
    "\n",
    "print(set1)"
   ]
  },
  {
   "cell_type": "code",
   "execution_count": 30,
   "metadata": {},
   "outputs": [
    {
     "name": "stdout",
     "output_type": "stream",
     "text": [
      "{'python', 'team', 'student', 'work', 'study', 'letsupgread'}\n"
     ]
    }
   ],
   "source": [
    "set1={\"letsupgread\",\"work\",\"student\"}\n",
    "\n",
    "set1.update([\"team\", \"study\", \"python\"])\n",
    "\n",
    "print(set1)"
   ]
  },
  {
   "cell_type": "markdown",
   "metadata": {},
   "source": [
    "##### Length of a Set:-\n",
    "    len() method is used for to determine how many items in set.  "
   ]
  },
  {
   "cell_type": "code",
   "execution_count": 32,
   "metadata": {},
   "outputs": [
    {
     "name": "stdout",
     "output_type": "stream",
     "text": [
      "4\n"
     ]
    }
   ],
   "source": [
    "set1={\"letsupgread\",\"work\",\"student\",\"python\"}\n",
    "print(len(set1))"
   ]
  },
  {
   "cell_type": "markdown",
   "metadata": {},
   "source": [
    "###### Remove Item\n",
    "    remove() and discard() method is used for to remove an item in set."
   ]
  },
  {
   "cell_type": "code",
   "execution_count": 10,
   "metadata": {},
   "outputs": [
    {
     "name": "stdout",
     "output_type": "stream",
     "text": [
      "None\n",
      "{'student', 'python', 'letsupgread'}\n"
     ]
    }
   ],
   "source": [
    "set1={\"letsupgread\",\"work\",\"student\",\"python\"}\n",
    "print(set1.remove(\"work\"))\n",
    "print(set1)"
   ]
  },
  {
   "cell_type": "code",
   "execution_count": 12,
   "metadata": {},
   "outputs": [
    {
     "name": "stdout",
     "output_type": "stream",
     "text": [
      "None\n",
      "{'student', 'python', 'letsupgread'}\n"
     ]
    }
   ],
   "source": [
    "set1={\"letsupgread\",\"work\",\"student\",\"python\"}\n",
    "print(set1.discard(\"work\"))\n",
    "print(set1)"
   ]
  },
  {
   "cell_type": "markdown",
   "metadata": {},
   "source": [
    "###### Note: \n",
    "    If the item to remove does not exist, discard() will NOT raise an error."
   ]
  },
  {
   "cell_type": "markdown",
   "metadata": {},
   "source": [
    "##### pop() method:-\n",
    "    pop() method is used for remove the last item.but remember that set is unordered,so we will not know what item is remove."
   ]
  },
  {
   "cell_type": "code",
   "execution_count": 36,
   "metadata": {},
   "outputs": [
    {
     "name": "stdout",
     "output_type": "stream",
     "text": [
      "student\n",
      "{'work', 'letsupgread', 'python'}\n"
     ]
    }
   ],
   "source": [
    "set1={\"letsupgread\",\"work\",\"student\",\"python\"}\n",
    "set2=set1.pop()\n",
    "print(set2)\n",
    "print(set1)"
   ]
  },
  {
   "cell_type": "markdown",
   "metadata": {},
   "source": [
    "###### clear() method:-\n",
    "    clear() method is used to make set empties."
   ]
  },
  {
   "cell_type": "code",
   "execution_count": 17,
   "metadata": {},
   "outputs": [
    {
     "name": "stdout",
     "output_type": "stream",
     "text": [
      "None\n",
      "set()\n"
     ]
    }
   ],
   "source": [
    "set1={\"letsupgread\",\"work\",\"student\",\"python\"}\n",
    "print(set1.clear())\n",
    "print(set1)"
   ]
  },
  {
   "cell_type": "markdown",
   "metadata": {},
   "source": [
    "###### del() method:- \n",
    "    del keyword is used for to delete set completely.\n",
    "\n",
    "###### this will raise an error because the set no longer exists"
   ]
  },
  {
   "cell_type": "code",
   "execution_count": 16,
   "metadata": {},
   "outputs": [
    {
     "ename": "NameError",
     "evalue": "name 'set1' is not defined",
     "output_type": "error",
     "traceback": [
      "\u001b[1;31m---------------------------------------------------------------------------\u001b[0m",
      "\u001b[1;31mNameError\u001b[0m                                 Traceback (most recent call last)",
      "\u001b[1;32m<ipython-input-16-93c52639f948>\u001b[0m in \u001b[0;36m<module>\u001b[1;34m()\u001b[0m\n\u001b[0;32m      2\u001b[0m \u001b[1;32mdel\u001b[0m \u001b[0mset1\u001b[0m\u001b[1;33m\u001b[0m\u001b[0m\n\u001b[0;32m      3\u001b[0m \u001b[1;33m\u001b[0m\u001b[0m\n\u001b[1;32m----> 4\u001b[1;33m \u001b[0mprint\u001b[0m\u001b[1;33m(\u001b[0m\u001b[0mset1\u001b[0m\u001b[1;33m)\u001b[0m\u001b[1;33m\u001b[0m\u001b[0m\n\u001b[0m",
      "\u001b[1;31mNameError\u001b[0m: name 'set1' is not defined"
     ]
    }
   ],
   "source": [
    "set1 = {\"letsupgread\",\"work\",\"student\",\"python\"}\n",
    "del set1\n",
    "\n",
    "print(set1)"
   ]
  },
  {
   "cell_type": "markdown",
   "metadata": {},
   "source": [
    "##### Join Two Sets:- \n",
    "    union() method is used to returns a new set with all items from both sets.\n",
    "    update() method is used to inserts the item in set1 into set2.\n",
    "##### Note:-\n",
    "    Both union() and update() will exclude any duplicate items."
   ]
  },
  {
   "cell_type": "code",
   "execution_count": 19,
   "metadata": {},
   "outputs": [
    {
     "name": "stdout",
     "output_type": "stream",
     "text": [
      "{'work', 'letsupgread', 'time', 'study', 'student', 'python', 'team'}\n"
     ]
    }
   ],
   "source": [
    "set1 = {\"letsupgread\",\"work\",\"student\",\"python\"}\n",
    "set2 = {\"team\",\"study\",\"time\",\"work\"}\n",
    "\n",
    "set3 = set1.union(set2)\n",
    "print(set3)"
   ]
  },
  {
   "cell_type": "code",
   "execution_count": 20,
   "metadata": {},
   "outputs": [
    {
     "name": "stdout",
     "output_type": "stream",
     "text": [
      "None\n",
      "{'work', 'letsupgread', 'time', 'study', 'student', 'python', 'team'}\n"
     ]
    }
   ],
   "source": [
    "set1 = {\"letsupgread\",\"work\",\"student\",\"python\"}\n",
    "set2 = {\"team\",\"study\",\"time\",\"work\"}\n",
    "\n",
    "print(set1.update(set2))\n",
    "print(set1)"
   ]
  },
  {
   "cell_type": "markdown",
   "metadata": {},
   "source": [
    "##### Difference():-\n",
    "    The difference() method returns a set that contains the difference between two sets."
   ]
  },
  {
   "cell_type": "code",
   "execution_count": 60,
   "metadata": {},
   "outputs": [
    {
     "name": "stdout",
     "output_type": "stream",
     "text": [
      "{'student', 'letsupgread', 'python'}\n"
     ]
    }
   ],
   "source": [
    "set1 = {\"letsupgread\",\"work\",\"student\",\"python\"}\n",
    "set2 = {\"team\",\"work\",\"time\"}\n",
    "\n",
    "set3 = set1.difference(set2)\n",
    "\n",
    "print(set3)"
   ]
  },
  {
   "cell_type": "markdown",
   "metadata": {},
   "source": [
    "##### Set difference_update() Method\n",
    "    difference_update() method removes the unwanted items from the original set."
   ]
  },
  {
   "cell_type": "code",
   "execution_count": 23,
   "metadata": {},
   "outputs": [
    {
     "name": "stdout",
     "output_type": "stream",
     "text": [
      "None\n",
      "{'student', 'python', 'letsupgread'}\n"
     ]
    }
   ],
   "source": [
    "set1 = {\"letsupgread\",\"work\",\"student\",\"python\"}\n",
    "set2 = {\"team\",\"work\",\"time\"}\n",
    "\n",
    "print(set1.difference_update(set2))\n",
    "\n",
    "print(set1)"
   ]
  },
  {
   "cell_type": "markdown",
   "metadata": {},
   "source": [
    "######  intersection() method:-\n",
    "    intersection() method returns a set that contains the similarity between two or more sets."
   ]
  },
  {
   "cell_type": "code",
   "execution_count": 61,
   "metadata": {},
   "outputs": [
    {
     "name": "stdout",
     "output_type": "stream",
     "text": [
      "{'c'}\n"
     ]
    }
   ],
   "source": [
    "x = {\"a\", \"b\", \"c\"}\n",
    "y = {\"c\", \"d\", \"e\"}\n",
    "z = {\"f\", \"g\", \"c\"}\n",
    "\n",
    "result = x.intersection(y, z)\n",
    "\n",
    "print(result)"
   ]
  },
  {
   "cell_type": "markdown",
   "metadata": {},
   "source": [
    "###### intersection_update() Method:-\n",
    "    The intersection_update() method removes the items that is not present in both sets"
   ]
  },
  {
   "cell_type": "code",
   "execution_count": 24,
   "metadata": {},
   "outputs": [
    {
     "name": "stdout",
     "output_type": "stream",
     "text": [
      "None\n",
      "{'c'}\n"
     ]
    }
   ],
   "source": [
    "x = {\"a\", \"b\", \"c\"}\n",
    "y = {\"c\", \"d\", \"e\"}\n",
    "z = {\"f\", \"g\", \"c\"}\n",
    "\n",
    "print(x.intersection_update(y, z))\n",
    "\n",
    "print(x)"
   ]
  },
  {
   "cell_type": "markdown",
   "metadata": {},
   "source": [
    "######  symmetric_difference() Method:-\n",
    "    The symmetric_difference() method returns a set that contains all items from both set, but not the items that are present in both sets."
   ]
  },
  {
   "cell_type": "code",
   "execution_count": 25,
   "metadata": {},
   "outputs": [
    {
     "name": "stdout",
     "output_type": "stream",
     "text": [
      "{'letsupgread', 'time', 'student', 'python', 'team'}\n"
     ]
    }
   ],
   "source": [
    "set1 = {\"letsupgread\",\"work\",\"student\",\"python\"}\n",
    "set2 = {\"team\",\"work\",\"time\"}\n",
    "\n",
    "set3=set1.symmetric_difference(set2)\n",
    "\n",
    "print(set3)"
   ]
  },
  {
   "cell_type": "markdown",
   "metadata": {},
   "source": [
    "###### symmetric_difference_update() Method:-\n",
    "    The symmetric_difference_update() method updates the original set by removing items that are present in both sets, and inserting the other items."
   ]
  },
  {
   "cell_type": "code",
   "execution_count": 26,
   "metadata": {},
   "outputs": [
    {
     "name": "stdout",
     "output_type": "stream",
     "text": [
      "None\n",
      "{'letsupgread', 'time', 'student', 'python', 'team'}\n"
     ]
    }
   ],
   "source": [
    "set1 = {\"letsupgread\",\"work\",\"student\",\"python\"}\n",
    "set2 = {\"team\",\"work\",\"time\"}\n",
    "\n",
    "print(set1.symmetric_difference_update(set2))\n",
    "\n",
    "print(set1)"
   ]
  },
  {
   "cell_type": "markdown",
   "metadata": {},
   "source": [
    "## Question 4:  Given a list of n-1 numbers ranging from 1 to n, your task is to find the missing number. There are no duplicates.\n",
    "#### Input Format: \n",
    "    The first line contains n-1 numbers with each number separated by a space.\n",
    "#### Output Format:\n",
    "    Print the missing number\n",
    "#### Example:\n",
    "    Input:1 2 4 6 3 7 8\n",
    "    Output:5\n",
    "#### Explanation:\n",
    "    In the above list of numbers 5 is missing and hence 5 is the input"
   ]
  },
  {
   "cell_type": "code",
   "execution_count": 2,
   "metadata": {},
   "outputs": [
    {
     "name": "stdout",
     "output_type": "stream",
     "text": [
      "3\n",
      "7\n"
     ]
    }
   ],
   "source": [
    "# Assuming n is integer and there is only 1 missing number\n",
    "def find_missing_num(n, v):\n",
    "    v = sorted(v)\n",
    "    for number in range(1, n+1):\n",
    "        if number == v[number - 1]:\n",
    "            continue\n",
    "        else:\n",
    "            return number\n",
    "    return lst2\n",
    "#test\n",
    "print(find_missing_num(5, [4,2,5,1]))\n",
    "print(find_missing_num(10, [4,2,5,3,9,6,8,1]))"
   ]
  },
  {
   "cell_type": "code",
   "execution_count": 8,
   "metadata": {},
   "outputs": [
    {
     "name": "stdout",
     "output_type": "stream",
     "text": [
      "5\n",
      "13\n"
     ]
    }
   ],
   "source": [
    "def find_missing_num(lst):\n",
    "    for i in range(lst[0],lst[-1]+1):\n",
    "        return sum(i)-sum(lst)\n",
    "\n",
    "print(missing_number([1,2,3,4,6,7,8]))\n",
    "print(missing_number([10,11,12,14,15,16,17]))    "
   ]
  },
  {
   "cell_type": "markdown",
   "metadata": {},
   "source": [
    "## Question 5:\n",
    "#### With a given list L, write a program to print this list L after removing all duplicate values with original order reserved.\n",
    "\n",
    "#### Example:\n",
    "    If the input list is\n",
    "        12 24 35 24 88 120 155 88 120 155\n",
    "    Then the output should be\n",
    "        12 24 35 88 120 155\n",
    "#### Explanation:\n",
    "    Third, seventh and ninth element of the list L has been removed because it was already present.\n",
    "#### Input Format:\n",
    "    In one line take the elements of the list L with each element separated by a space.\n",
    "#### Output Format:\n",
    "    Print the elements of the modified list in one line with each element separated by a space.\n",
    "#### Example:\n",
    "    Input: 12 24 35 24\n",
    "    Output: 12 24 35"
   ]
  },
  {
   "cell_type": "code",
   "execution_count": 30,
   "metadata": {},
   "outputs": [
    {
     "name": "stdout",
     "output_type": "stream",
     "text": [
      "2 4 10 20 5\n"
     ]
    }
   ],
   "source": [
    "def Remove_duplicate(input1):\n",
    "    lst=input1.split()\n",
    "    final_list = [] \n",
    "    for num in lst: \n",
    "        if num not in final_list: \n",
    "            final_list.append(num) \n",
    "    return \" \".join(final_list)\n",
    " \n",
    "input1=\"2 4 10 20 5 2 20 4\"\n",
    "print(Remove_duplicate(input1)) "
   ]
  },
  {
   "cell_type": "code",
   "execution_count": 31,
   "metadata": {},
   "outputs": [
    {
     "name": "stdout",
     "output_type": "stream",
     "text": [
      "12 24 35 88 120 155\n"
     ]
    }
   ],
   "source": [
    "input2=\"12 24 35 24 88 120 155 88 120 155\"\n",
    "print(Remove_duplicate(input2))"
   ]
  }
 ],
 "metadata": {
  "kernelspec": {
   "display_name": "Python 3",
   "language": "python",
   "name": "python3"
  },
  "language_info": {
   "codemirror_mode": {
    "name": "ipython",
    "version": 3
   },
   "file_extension": ".py",
   "mimetype": "text/x-python",
   "name": "python",
   "nbconvert_exporter": "python",
   "pygments_lexer": "ipython3",
   "version": "3.7.0"
  }
 },
 "nbformat": 4,
 "nbformat_minor": 2
}

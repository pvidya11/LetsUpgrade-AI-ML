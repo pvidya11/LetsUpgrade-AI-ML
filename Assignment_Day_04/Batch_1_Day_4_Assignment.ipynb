{
 "cells": [
  {
   "cell_type": "markdown",
   "metadata": {},
   "source": [
    "## Assignment Day_4"
   ]
  },
  {
   "cell_type": "markdown",
   "metadata": {},
   "source": [
    "### Question 1:     Reasearch on whether addition, substraction, multiplication, Division, Floor division, and Modulo operation be performed on complex numbers based on your study, implement a python program to demostrate these operation?"
   ]
  },
  {
   "cell_type": "code",
   "execution_count": 4,
   "metadata": {},
   "outputs": [
    {
     "name": "stdout",
     "output_type": "stream",
     "text": [
      "Addition of two complex numbers is:  (9-3j)\n",
      "Substraction of two complex numbers is:  (1+13j)\n",
      "Multiplication of two complex numbers is:  (60-20j)\n",
      "Division of two complex numbers is:  (-0.25+0.75j)\n"
     ]
    }
   ],
   "source": [
    "# Two complex number's\n",
    "a=5+5j\n",
    "b=4-8j\n",
    "\n",
    "\n",
    "print(\"Addition of two complex numbers is: \",a+b)\n",
    "print(\"Substraction of two complex numbers is: \",a-b)\n",
    "print(\"Multiplication of two complex numbers is: \",a*b)\n",
    "print(\"Division of two complex numbers is: \",a/b)\n"
   ]
  },
  {
   "cell_type": "markdown",
   "metadata": {},
   "source": [
    "##### Floor and modulus operators (// and % respectively) are not allowed to be used on complex number in Python 3.x. However, these operations are defined for complex numbers in Python 2.7.x\n",
    "\n",
    "##### a and b of  // and % (complex anything) will throw an error."
   ]
  },
  {
   "cell_type": "code",
   "execution_count": 5,
   "metadata": {},
   "outputs": [
    {
     "ename": "TypeError",
     "evalue": "can't take floor of complex number.",
     "output_type": "error",
     "traceback": [
      "\u001b[1;31m---------------------------------------------------------------------------\u001b[0m",
      "\u001b[1;31mTypeError\u001b[0m                                 Traceback (most recent call last)",
      "\u001b[1;32m<ipython-input-5-ab6585d595e2>\u001b[0m in \u001b[0;36m<module>\u001b[1;34m()\u001b[0m\n\u001b[1;32m----> 1\u001b[1;33m \u001b[0mprint\u001b[0m\u001b[1;33m(\u001b[0m\u001b[1;34m\"Floor Division of two complex numbers is: \"\u001b[0m\u001b[1;33m,\u001b[0m\u001b[0ma\u001b[0m\u001b[1;33m//\u001b[0m\u001b[0mb\u001b[0m\u001b[1;33m)\u001b[0m\u001b[1;33m\u001b[0m\u001b[0m\n\u001b[0m\u001b[0;32m      2\u001b[0m \u001b[0mprint\u001b[0m\u001b[1;33m(\u001b[0m\u001b[1;34m\"modulo of two complex numbers is: \"\u001b[0m\u001b[1;33m,\u001b[0m\u001b[0ma\u001b[0m\u001b[1;33m%\u001b[0m\u001b[0mb\u001b[0m\u001b[1;33m)\u001b[0m\u001b[1;33m\u001b[0m\u001b[0m\n",
      "\u001b[1;31mTypeError\u001b[0m: can't take floor of complex number."
     ]
    }
   ],
   "source": [
    "print(\"Floor Division of two complex numbers is: \",a//b)\n",
    "print(\"modulo of two complex numbers is: \",a%b)"
   ]
  },
  {
   "cell_type": "markdown",
   "metadata": {},
   "source": [
    "### Question 2: Research on range() functions and it's parameters. create markdown cell and write in your own words(no copy-paste from google) what you understand about it. Implement a small program of your choice on the same?"
   ]
  },
  {
   "cell_type": "markdown",
   "metadata": {},
   "source": [
    "range() is a built-in function of Python. It is used when a user needs to perform an action for a specific number of times. range() in Python(3.x) and xrange in Python(2.x). \n",
    "The range() function is used to generate a sequence of numbers.\n",
    "\n",
    "range() is commonly used in for looping. Most common use of range() function in Python is to iterate sequence type (List, string etc.. ) with for and while loop.\n",
    "The range() function returns a sequence of numbers, starting from 0 by default, and increments by 1 (by default), and stops before a specified number\n",
    "\n",
    "\n",
    "###### Syntax\n",
    "range(start, stop, step)\n",
    "\n",
    "range() takes mainly three arguments/parameters.\n",
    "\n",
    "start: It is optional. An integer number at which position to start. Default is 0\n",
    "\n",
    "stop: It is Required. An integer number at which position to stop and also it is not included.\n",
    "\n",
    "step: It is Optional. An integer number the incrementation/decrement. Default is 1.\n",
    "\n",
    "\n",
    "###### There are three ways you can call range() :\n",
    "range(stop) takes one argument.\n",
    "\n",
    "range(start, stop) takes two arguments.\n",
    "\n",
    "range(start, stop, step) takes three arguments.\n"
   ]
  },
  {
   "cell_type": "code",
   "execution_count": 9,
   "metadata": {},
   "outputs": [
    {
     "name": "stdout",
     "output_type": "stream",
     "text": [
      "The sum of even number from 1 to 10 is:  30\n",
      "The sum of odd number from 1 to 10 is:  25\n"
     ]
    }
   ],
   "source": [
    "num=10\n",
    "even_sum=0\n",
    "odd_sum=0\n",
    "\n",
    "for i in range(1,num+1):\n",
    "    if i%2==0:\n",
    "        even_sum+=i\n",
    "    else:\n",
    "        odd_sum+=i\n",
    "print(\"The sum of even number from 1 to 10 is: \",even_sum)\n",
    "print(\"The sum of odd number from 1 to 10 is: \",odd_sum)"
   ]
  },
  {
   "cell_type": "markdown",
   "metadata": {},
   "source": [
    "### Question 3: Consider two numbers. perform their substraction and if result of substraction is greater than 25, print multiplication result else print their division result?"
   ]
  },
  {
   "cell_type": "code",
   "execution_count": 11,
   "metadata": {},
   "outputs": [
    {
     "name": "stdout",
     "output_type": "stream",
     "text": [
      "Multiplication of two numbers:  900\n"
     ]
    }
   ],
   "source": [
    "x=60\n",
    "y=15\n",
    "if (x-y)>25:\n",
    "    print(\"Multiplication of two numbers: \",x*y)\n",
    "else:\n",
    "    print(\"Division of two numbers: \",x/y)"
   ]
  },
  {
   "cell_type": "markdown",
   "metadata": {},
   "source": [
    "### Question 4: consider a list of 10 elements of integer values. if the number in the list is divisible by 2, print result, square of that number minus 2?"
   ]
  },
  {
   "cell_type": "code",
   "execution_count": 14,
   "metadata": {},
   "outputs": [
    {
     "name": "stdout",
     "output_type": "stream",
     "text": [
      "square of num minus 2 is 2\n",
      "square of num minus 2 is 14\n",
      "square of num minus 2 is 34\n",
      "square of num minus 2 is 62\n",
      "square of num minus 2 is 98\n"
     ]
    }
   ],
   "source": [
    "# create a list of 10 elements\n",
    "lst=[1,2,3,4,5,6,7,8,9,10]\n",
    "\n",
    "for num in lst:\n",
    "    if num%2==0:\n",
    "        print(\"square of num minus 2 is\",(num**2)-2)"
   ]
  },
  {
   "cell_type": "markdown",
   "metadata": {},
   "source": [
    "## Question 5: Consider a list of 10 elements, print all the element in the list which are graeater than 7 when that number is divided by 2?"
   ]
  },
  {
   "cell_type": "code",
   "execution_count": 21,
   "metadata": {},
   "outputs": [
    {
     "name": "stdout",
     "output_type": "stream",
     "text": [
      "The numbers are greater than 7 and divisible by 2:  8\n",
      "The numbers are greater than 7 and divisible by 2:  10\n"
     ]
    }
   ],
   "source": [
    "# create a list of 10 elements\n",
    "lst=[1,2,3,4,5,6,7,8,9,10]\n",
    "\n",
    "for i in lst:\n",
    "    if i>7 and i%2==0:\n",
    "        print(\"The numbers are greater than 7 and divisible by 2: \",i)"
   ]
  }
 ],
 "metadata": {
  "kernelspec": {
   "display_name": "Python 3",
   "language": "python",
   "name": "python3"
  },
  "language_info": {
   "codemirror_mode": {
    "name": "ipython",
    "version": 3
   },
   "file_extension": ".py",
   "mimetype": "text/x-python",
   "name": "python",
   "nbconvert_exporter": "python",
   "pygments_lexer": "ipython3",
   "version": "3.7.0"
  }
 },
 "nbformat": 4,
 "nbformat_minor": 2
}

{
 "cells": [
  {
   "cell_type": "markdown",
   "metadata": {},
   "source": [
    "# 1. Create a 3x3x3 array with random values "
   ]
  },
  {
   "cell_type": "code",
   "execution_count": 5,
   "metadata": {},
   "outputs": [
    {
     "name": "stdout",
     "output_type": "stream",
     "text": [
      "[[[0.64523404 0.01226323 0.20127309]\n",
      "  [0.49979488 0.1002295  0.93617129]\n",
      "  [0.65672485 0.65067367 0.49872403]]\n",
      "\n",
      " [[0.66303535 0.03540172 0.61585464]\n",
      "  [0.23781783 0.56031637 0.74854335]\n",
      "  [0.68638108 0.51486625 0.49612394]]\n",
      "\n",
      " [[0.82953782 0.39219863 0.61469266]\n",
      "  [0.43153747 0.85621533 0.56568386]\n",
      "  [0.25621442 0.90224479 0.95496546]]]\n"
     ]
    }
   ],
   "source": [
    "import numpy as np\n",
    "array=np.random.random((3,3,3))\n",
    "print(array)"
   ]
  },
  {
   "cell_type": "markdown",
   "metadata": {},
   "source": [
    "# 2.Create a 5x5 matrix with values 1,2,3,4 just below the diagonal"
   ]
  },
  {
   "cell_type": "code",
   "execution_count": 15,
   "metadata": {},
   "outputs": [
    {
     "name": "stdout",
     "output_type": "stream",
     "text": [
      "[[0 0 0 0 0]\n",
      " [1 0 0 0 0]\n",
      " [0 2 0 0 0]\n",
      " [0 0 3 0 0]\n",
      " [0 0 0 4 0]]\n"
     ]
    }
   ],
   "source": [
    "Z = np.diag(1+np.arange(4),k=-1)\n",
    "print(Z)"
   ]
  },
  {
   "cell_type": "code",
   "execution_count": 18,
   "metadata": {},
   "outputs": [
    {
     "name": "stdout",
     "output_type": "stream",
     "text": [
      "[[0 0 0 0 0]\n",
      " [1 0 0 0 0]\n",
      " [0 2 0 0 0]\n",
      " [0 0 3 0 0]\n",
      " [0 0 0 4 0]]\n"
     ]
    }
   ],
   "source": [
    "import numpy as np\n",
    "y = np.diag([1,2,3,4],k=-1)\n",
    "print(Z)"
   ]
  },
  {
   "cell_type": "markdown",
   "metadata": {},
   "source": [
    "# 3.Create a 8x8 matrix and fill it with a checkerboard pattern"
   ]
  },
  {
   "cell_type": "code",
   "execution_count": 29,
   "metadata": {},
   "outputs": [
    {
     "name": "stdout",
     "output_type": "stream",
     "text": [
      "[[0 1 0 1 0 1 0 1]\n",
      " [1 0 1 0 1 0 1 0]\n",
      " [0 1 0 1 0 1 0 1]\n",
      " [1 0 1 0 1 0 1 0]\n",
      " [0 1 0 1 0 1 0 1]\n",
      " [1 0 1 0 1 0 1 0]\n",
      " [0 1 0 1 0 1 0 1]\n",
      " [1 0 1 0 1 0 1 0]]\n"
     ]
    }
   ],
   "source": [
    "x = np.ones((3,3))\n",
    "x = np.zeros((8,8), dtype=int)\n",
    "x[1::2, ::2] = 1\n",
    "x[::2, 1::2] = 1\n",
    "print(x)"
   ]
  },
  {
   "cell_type": "markdown",
   "metadata": {},
   "source": [
    "# 4. Normalize a 5x5 random matrix"
   ]
  },
  {
   "cell_type": "code",
   "execution_count": 32,
   "metadata": {},
   "outputs": [
    {
     "name": "stdout",
     "output_type": "stream",
     "text": [
      "Original Array:\n",
      "[[0.39155273 0.57690438 0.21637623]\n",
      " [0.45854071 0.56500829 0.53091966]\n",
      " [0.89128441 0.97325707 0.16162256]]\n",
      "After normalization:\n",
      "[[0.28329275 0.51166112 0.067461  ]\n",
      " [0.36582741 0.49700416 0.4550042 ]\n",
      " [0.89900299 1.         0.        ]]\n"
     ]
    }
   ],
   "source": [
    "import numpy as np\n",
    "x= np.random.random((3,3))\n",
    "print(\"Original Array:\")\n",
    "print(x)\n",
    "xmax, xmin = x.max(), x.min()\n",
    "x = (x - xmin)/(xmax - xmin)\n",
    "print(\"After normalization:\")\n",
    "print(x)"
   ]
  },
  {
   "cell_type": "code",
   "execution_count": 34,
   "metadata": {},
   "outputs": [
    {
     "name": "stdout",
     "output_type": "stream",
     "text": [
      "[[ 1.39004095 -1.13404435  1.51460045 -0.07584933 -0.94595178]\n",
      " [-1.35732003  0.36601331 -0.22579244  0.38860379  1.4294539 ]\n",
      " [-0.11478047  0.38945695  1.12259177  0.0281551  -0.09130133]\n",
      " [-0.77904579 -0.41771879 -1.55393928  1.35952621  0.12353387]\n",
      " [-1.56915832  1.513165    0.57301693 -1.6458235  -0.28743282]]\n"
     ]
    }
   ],
   "source": [
    "Z = np.random.random((5,5))\n",
    "Z = (Z - np.mean (Z)) / (np.std (Z))\n",
    "print(Z)"
   ]
  },
  {
   "cell_type": "markdown",
   "metadata": {},
   "source": [
    "# 5.  How to find common values between two arrays?"
   ]
  },
  {
   "cell_type": "code",
   "execution_count": 58,
   "metadata": {},
   "outputs": [
    {
     "name": "stdout",
     "output_type": "stream",
     "text": [
      "[0 1 3 4 5 7 8]\n"
     ]
    }
   ],
   "source": [
    "Z1 = np.random.randint(0,10,10)\n",
    "Z2 = np.random.randint(0,10,10)\n",
    "print(np.intersect1d(Z2, Z2))"
   ]
  },
  {
   "cell_type": "markdown",
   "metadata": {},
   "source": [
    "# 6.How to get the dates of yesterday, today and tomorrow?"
   ]
  },
  {
   "cell_type": "code",
   "execution_count": 61,
   "metadata": {},
   "outputs": [
    {
     "name": "stdout",
     "output_type": "stream",
     "text": [
      "Yesterday =  29-07-2020\n",
      "Today =  30-07-2020\n",
      "Tomorrow =  31-07-2020\n"
     ]
    }
   ],
   "source": [
    "from datetime import datetime, timedelta \n",
    "\n",
    "presentday = datetime.now() \n",
    "yesterday = presentday - timedelta(1) \n",
    "tomorrow = presentday + timedelta(1) \n",
    "    \n",
    "# strftime() is to format date according to \n",
    "# the need by converting them to string \n",
    "print(\"Yesterday = \", yesterday.strftime('%d-%m-%Y')) \n",
    "print(\"Today = \", presentday.strftime('%d-%m-%Y')) \n",
    "print(\"Tomorrow = \", tomorrow.strftime('%d-%m-%Y')) "
   ]
  },
  {
   "cell_type": "code",
   "execution_count": 62,
   "metadata": {},
   "outputs": [
    {
     "name": "stdout",
     "output_type": "stream",
     "text": [
      "2020-07-29\n",
      "2020-07-30\n",
      "2020-07-31\n"
     ]
    }
   ],
   "source": [
    "yesterday = np.datetime64('today') - np.timedelta64(1)\n",
    "today     = np.datetime64('today')\n",
    "tomorrow  = np.datetime64('today') + np.timedelta64(1)\n",
    "print(yesterday)\n",
    "print(today)\n",
    "print(tomorrow)"
   ]
  },
  {
   "cell_type": "markdown",
   "metadata": {},
   "source": [
    "# 7. Consider two random array A and B, check if they are equal"
   ]
  },
  {
   "cell_type": "code",
   "execution_count": 67,
   "metadata": {},
   "outputs": [
    {
     "name": "stdout",
     "output_type": "stream",
     "text": [
      "False\n",
      "False\n",
      "True\n"
     ]
    }
   ],
   "source": [
    "A = np.random.randint(0,2,5)\n",
    "B = np.random.randint(0,2,5)\n",
    "\n",
    "# Assuming identical shape of the arrays and a tolerance for the comparison of values\n",
    "equal = np.allclose(A,B)\n",
    "print(equal)\n",
    "\n",
    "# Checking both the shape and the element values, no tolerance (values have to be exactly equal)\n",
    "equal = np.array_equal(A,B)\n",
    "print(equal)\n",
    "\n",
    "compare = A == B\n",
    "equal_arrays = comparison.all()\n",
    "print(equal_arrays)"
   ]
  },
  {
   "cell_type": "markdown",
   "metadata": {},
   "source": [
    "# 8.Create random vector of size 10 and replace the maximum value by 0 "
   ]
  },
  {
   "cell_type": "code",
   "execution_count": 70,
   "metadata": {},
   "outputs": [
    {
     "name": "stdout",
     "output_type": "stream",
     "text": [
      "[0.62346854 0.79286859 0.         0.01958482 0.82684399 0.53242841\n",
      " 0.19876604 0.61426125 0.49500073 0.5094294 ]\n"
     ]
    }
   ],
   "source": [
    "Z = np.random.random(10)\n",
    "Z[Z.argmax()] = 0\n",
    "print(Z)"
   ]
  },
  {
   "cell_type": "markdown",
   "metadata": {},
   "source": [
    "# 9. How to print all the values of an array?"
   ]
  },
  {
   "cell_type": "code",
   "execution_count": 71,
   "metadata": {},
   "outputs": [
    {
     "name": "stdout",
     "output_type": "stream",
     "text": [
      "[[0. 0. 0. 0.]\n",
      " [0. 0. 0. 0.]\n",
      " [0. 0. 0. 0.]\n",
      " [0. 0. 0. 0.]]\n"
     ]
    }
   ],
   "source": [
    "import numpy as np\n",
    "np.set_printoptions(threshold=np.nan)\n",
    "x = np.zeros((4, 4))\n",
    "print(x)"
   ]
  },
  {
   "cell_type": "code",
   "execution_count": 73,
   "metadata": {},
   "outputs": [
    {
     "name": "stdout",
     "output_type": "stream",
     "text": [
      "[[0. 0. 0. 0.]\n",
      " [0. 0. 0. 0.]\n",
      " [0. 0. 0. 0.]\n",
      " [0. 0. 0. 0.]]\n"
     ]
    }
   ],
   "source": [
    "import sys\n",
    "import numpy\n",
    "numpy.set_printoptions(threshold=sys.maxsize)\n",
    "x = np.zeros((4, 4))\n",
    "print(x)"
   ]
  },
  {
   "cell_type": "markdown",
   "metadata": {},
   "source": [
    "# 10.Subtract the mean of each row of a matrix"
   ]
  },
  {
   "cell_type": "code",
   "execution_count": 89,
   "metadata": {},
   "outputs": [
    {
     "name": "stdout",
     "output_type": "stream",
     "text": [
      "[[ 0.25533394  0.2514639  -0.12717454  0.32064929 -0.24401758  0.0430976\n",
      "  -0.36569164  0.40497849 -0.49659925 -0.04204021]\n",
      " [ 0.13296999 -0.44919076 -0.18178268 -0.165795   -0.14834133  0.08262876\n",
      "   0.30055961  0.14850998 -0.18766913  0.46811057]\n",
      " [ 0.04205243 -0.33766966 -0.08400676  0.52724835  0.2440623  -0.03994756\n",
      "   0.23894041 -0.05879849 -0.28468123 -0.24719978]\n",
      " [-0.24758921 -0.4185526   0.48958418  0.2232906   0.41199316  0.15215142\n",
      "  -0.47871102  0.43017397 -0.12727113 -0.43506937]\n",
      " [ 0.32770156 -0.01542989  0.08970786 -0.44203588  0.04532346 -0.28615965\n",
      "   0.0984965  -0.04963205  0.35747081 -0.12544273]]\n",
      "[[ 0.25533394  0.2514639  -0.12717454  0.32064929 -0.24401758  0.0430976\n",
      "  -0.36569164  0.40497849 -0.49659925 -0.04204021]\n",
      " [ 0.13296999 -0.44919076 -0.18178268 -0.165795   -0.14834133  0.08262876\n",
      "   0.30055961  0.14850998 -0.18766913  0.46811057]\n",
      " [ 0.04205243 -0.33766966 -0.08400676  0.52724835  0.2440623  -0.03994756\n",
      "   0.23894041 -0.05879849 -0.28468123 -0.24719978]\n",
      " [-0.24758921 -0.4185526   0.48958418  0.2232906   0.41199316  0.15215142\n",
      "  -0.47871102  0.43017397 -0.12727113 -0.43506937]\n",
      " [ 0.32770156 -0.01542989  0.08970786 -0.44203588  0.04532346 -0.28615965\n",
      "   0.0984965  -0.04963205  0.35747081 -0.12544273]]\n"
     ]
    }
   ],
   "source": [
    "X = np.random.rand(5, 10)\n",
    "\n",
    "# Recent versions of numpy\n",
    "Y = X - X.mean(axis=1, keepdims=True)\n",
    "\n",
    "# Older versions of numpy\n",
    "Y1 = X - X.mean(axis=1).reshape(-1, 1)\n",
    "\n",
    "print(Y)\n",
    "print(Y1)"
   ]
  },
  {
   "cell_type": "markdown",
   "metadata": {},
   "source": [
    "# 11.Consider a given vector, how to add 1 to each element indexed by a second vector (be careful with repeated indices)? "
   ]
  },
  {
   "cell_type": "code",
   "execution_count": 91,
   "metadata": {},
   "outputs": [
    {
     "name": "stdout",
     "output_type": "stream",
     "text": [
      "[4. 3. 4. 3. 2. 1. 3. 3. 3. 4.]\n"
     ]
    }
   ],
   "source": [
    "Z = np.ones(10)\n",
    "I = np.random.randint(0,len(Z),20)\n",
    "Z += np.bincount(I, minlength=len(Z))\n",
    "print(Z)"
   ]
  },
  {
   "cell_type": "code",
   "execution_count": 92,
   "metadata": {},
   "outputs": [
    {
     "name": "stdout",
     "output_type": "stream",
     "text": [
      "[7. 5. 7. 5. 3. 1. 5. 5. 5. 7.]\n"
     ]
    }
   ],
   "source": [
    "np.add.at(Z, I, 1)\n",
    "print(Z)"
   ]
  },
  {
   "cell_type": "code",
   "execution_count": 93,
   "metadata": {},
   "outputs": [
    {
     "data": {
      "text/plain": [
       "array([2, 3, 4, 5, 6])"
      ]
     },
     "execution_count": 93,
     "metadata": {},
     "output_type": "execute_result"
    }
   ],
   "source": [
    "vector=np.array([1,2,3,4,5])\n",
    "add_1=lambda i:i+1\n",
    "vectorized=np.vectorize(add_1)\n",
    "vectorized(vector)"
   ]
  },
  {
   "cell_type": "markdown",
   "metadata": {},
   "source": [
    "# 12.How to get the diagonal of a dot product?"
   ]
  },
  {
   "cell_type": "code",
   "execution_count": 102,
   "metadata": {},
   "outputs": [
    {
     "name": "stdout",
     "output_type": "stream",
     "text": [
      "[[0.47143861 0.68270635 0.78363188 0.01181826 0.80586849]\n",
      " [0.78940052 0.49477352 0.43654406 0.28164255 0.44712443]\n",
      " [0.97919522 0.18151675 0.82317873 0.81016422 0.64713597]\n",
      " [0.26429569 0.64725146 0.38053234 0.88783319 0.85359229]\n",
      " [0.43474252 0.68512588 0.82066533 0.93710218 0.51983363]]\n",
      "[[0.44785749 0.98457304 0.56839981 0.89930631 0.72575466]\n",
      " [0.75183768 0.55347725 0.77155037 0.95034049 0.62768173]\n",
      " [0.03001103 0.49056269 0.45638698 0.04977898 0.55991881]\n",
      " [0.19686297 0.70063751 0.03983053 0.17928706 0.83491134]\n",
      " [0.57152859 0.31328318 0.28403907 0.57573674 0.37850159]]\n",
      "diagonal of a dot product method 1 is.... [1.21084273 1.60262648 1.2883929  1.52235601 2.18421845]\n",
      "diagonal of a dot product method 2 is.... [1.21084273 1.60262648 1.2883929  1.52235601 2.18421845]\n"
     ]
    }
   ],
   "source": [
    "A = np.random.uniform(0,1,(5,5))\n",
    "B = np.random.uniform(0,1,(5,5))\n",
    "print(A)\n",
    "print(B)\n",
    "# Slow version\n",
    "prod1=np.diag(np.dot(A, B))\n",
    "\n",
    "# Fast version\n",
    "prod2=np.sum(A * B.T, axis=1)\n",
    "\n",
    "print(\"diagonal of a dot product method 1 is....\",prod1)\n",
    "print(\"diagonal of a dot product method 2 is....\",prod2)"
   ]
  },
  {
   "cell_type": "code",
   "execution_count": 101,
   "metadata": {},
   "outputs": [
    {
     "name": "stdout",
     "output_type": "stream",
     "text": [
      "[  60  672 1932 3840 6396]\n",
      "[  60  672 1932 3840 6396]\n",
      "[  60  672 1932 3840 6396]\n"
     ]
    }
   ],
   "source": [
    "a = np.arange(15).reshape(5, 3)\n",
    "b = np.arange(9).reshape(3, 3)\n",
    "\n",
    "print(np.diag(np.dot(np.dot(a, b), a.T)))\n",
    "\n",
    "print(np.einsum('ij,ji->i', np.dot(a, b), a.T))\n",
    "\n",
    "print(np.einsum('ij,ij->i', np.dot(a, b), a))"
   ]
  },
  {
   "cell_type": "markdown",
   "metadata": {},
   "source": [
    "# 13.How to find the most frequent value in an array?"
   ]
  },
  {
   "cell_type": "code",
   "execution_count": 113,
   "metadata": {},
   "outputs": [
    {
     "name": "stdout",
     "output_type": "stream",
     "text": [
      "Original array:\n",
      "[7 8 5 0 8 6 2 7 9 2 4 7 1 7 8 4 9 3 9 3 5 3 7 2 1 5 7 1 8 7 8 8 7 1 3 5 3\n",
      " 8 2 2]\n",
      "Most frequent value in the above array:\n",
      "7\n"
     ]
    }
   ],
   "source": [
    " x = np.random.randint(0, 10, 40)\n",
    "print(\"Original array:\")\n",
    "print(x)\n",
    "print(\"Most frequent value in the above array:\") \n",
    "print(np.bincount(x).argmax())"
   ]
  },
  {
   "cell_type": "markdown",
   "metadata": {},
   "source": [
    "# 14.How to get the n largest values of an array"
   ]
  },
  {
   "cell_type": "code",
   "execution_count": 124,
   "metadata": {},
   "outputs": [
    {
     "name": "stdout",
     "output_type": "stream",
     "text": [
      "[65 90]\n"
     ]
    }
   ],
   "source": [
    "arr=np.array([12,45,65,90,37,39])\n",
    "n=2\n",
    "arr.sort()\n",
    "print(arr[-n:])"
   ]
  },
  {
   "cell_type": "code",
   "execution_count": 125,
   "metadata": {},
   "outputs": [
    {
     "name": "stdout",
     "output_type": "stream",
     "text": [
      "[9995 9996 9997 9998 9999]\n"
     ]
    }
   ],
   "source": [
    "Z = np.arange(10000)\n",
    "np.random.shuffle(Z)\n",
    "n = 5\n",
    "\n",
    "\n",
    "print (Z[np.argsort(Z)[-n:]])"
   ]
  },
  {
   "cell_type": "markdown",
   "metadata": {},
   "source": [
    "# 15.How to create a record array from a regular array?"
   ]
  },
  {
   "cell_type": "code",
   "execution_count": 126,
   "metadata": {},
   "outputs": [
    {
     "name": "stdout",
     "output_type": "stream",
     "text": [
      "[(b'Hello', 2.5, 3) (b'World', 3.6, 2)]\n"
     ]
    }
   ],
   "source": [
    "Z = np.array([(\"Hello\", 2.5, 3),\n",
    "              (\"World\", 3.6, 2)])\n",
    "R = np.core.records.fromarrays(Z.T,\n",
    "                               names='col1, col2, col3',\n",
    "                               formats = 'S8, f8, i8')\n",
    "print(R)"
   ]
  },
  {
   "cell_type": "code",
   "execution_count": 128,
   "metadata": {},
   "outputs": [
    {
     "name": "stdout",
     "output_type": "stream",
     "text": [
      "[(1.,  4.) (2., -1.)]\n"
     ]
    }
   ],
   "source": [
    "x = np.array([(1.0, 4.0,), (2.0, -1.0)], dtype=[('f0', '<f8'), ('f1', '<f8')])\n",
    "print(x)"
   ]
  },
  {
   "cell_type": "code",
   "execution_count": 133,
   "metadata": {},
   "outputs": [
    {
     "data": {
      "text/plain": [
       "array([[ 1.,  4.],\n",
       "       [ 2., -1.]])"
      ]
     },
     "execution_count": 133,
     "metadata": {},
     "output_type": "execute_result"
    }
   ],
   "source": [
    "np.array(x.tolist())"
   ]
  }
 ],
 "metadata": {
  "kernelspec": {
   "display_name": "Python 3",
   "language": "python",
   "name": "python3"
  },
  "language_info": {
   "codemirror_mode": {
    "name": "ipython",
    "version": 3
   },
   "file_extension": ".py",
   "mimetype": "text/x-python",
   "name": "python",
   "nbconvert_exporter": "python",
   "pygments_lexer": "ipython3",
   "version": "3.7.0"
  }
 },
 "nbformat": 4,
 "nbformat_minor": 2
}

{
 "cells": [
  {
   "cell_type": "code",
   "execution_count": 2,
   "metadata": {},
   "outputs": [],
   "source": [
    "#!pip install tweepy"
   ]
  },
  {
   "cell_type": "code",
   "execution_count": 5,
   "metadata": {},
   "outputs": [],
   "source": [
    "#!pip install openpyxl"
   ]
  },
  {
   "cell_type": "markdown",
   "metadata": {},
   "source": [
    "#### Import lib"
   ]
  },
  {
   "cell_type": "code",
   "execution_count": 27,
   "metadata": {},
   "outputs": [],
   "source": [
    "import numpy as np\n",
    "import pandas as pd\n",
    "import tweepy\n",
    "import json\n",
    "from tweepy import OAuthHandler"
   ]
  },
  {
   "cell_type": "markdown",
   "metadata": {},
   "source": [
    "###### We will use the Twitter API\n",
    "* Create a Twitter app\n",
    ">* Go to <a href=\"http://earthdatascience.org\" target=\"_blank\">Twitter Developer</a>\n",
    ">* Go to \"Apps\" then Create an app\n",
    "* Create credentials.py and put your credentials in it:\n",
    ">* API_KEY              = \" \"\n",
    ">* API_SECRET           = \" \"\n",
    ">* ACCESS_TOKEN         = \" \"\n",
    ">* ACCESS_TOKEN_SECRET  = \" \""
   ]
  },
  {
   "cell_type": "code",
   "execution_count": 29,
   "metadata": {},
   "outputs": [],
   "source": [
    "auth = tweepy.OAuthHandler( API_KEY , API_SECREAT_KEY)\n",
    "auth.set_access_token( ACCESS_TOKEN , ACCESS_TOKEN_SECRET )\n",
    "api = tweepy.API(auth)"
   ]
  },
  {
   "cell_type": "code",
   "execution_count": 134,
   "metadata": {},
   "outputs": [],
   "source": [
    "query = \"Python language\""
   ]
  },
  {
   "cell_type": "code",
   "execution_count": 135,
   "metadata": {},
   "outputs": [
    {
     "data": {
      "text/plain": [
       "'Python language'"
      ]
     },
     "execution_count": 135,
     "metadata": {},
     "output_type": "execute_result"
    }
   ],
   "source": [
    "query"
   ]
  },
  {
   "cell_type": "code",
   "execution_count": 136,
   "metadata": {},
   "outputs": [
    {
     "name": "stdout",
     "output_type": "stream",
     "text": [
      "Status(_api=<tweepy.api.API object at 0x000001650834A2E8>, _json={'created_at': 'Fri Oct 30 09:03:03 +0000 2020', 'id': 1322101701998829568, 'id_str': '1322101701998829568', 'full_text': 'Ƹ̵̡Ӝ̵̨̄Ʒ●●✯✮❉♥ WOW! ♥❉✮✯●Ƹ̵̡Ӝ̵̨̄Ʒ ♦ 40 Algorithms Every Programmer Should Know: Hone your problem-solving skills by learning different algorithms... ● #coding #Python #Algorithm #Programming ♦ Kindle: $26.59 ♦ Paperback: $35.99 ♦ https://t.co/dlfIHRvar2', 'truncated': False, 'display_text_range': [0, 253], 'entities': {'hashtags': [{'text': 'coding', 'indices': [151, 158]}, {'text': 'Python', 'indices': [159, 166]}, {'text': 'Algorithm', 'indices': [167, 177]}, {'text': 'Programming', 'indices': [178, 190]}], 'symbols': [], 'user_mentions': [], 'urls': [{'url': 'https://t.co/dlfIHRvar2', 'expanded_url': 'https://amzn.to/2HdSLDN', 'display_url': 'amzn.to/2HdSLDN', 'indices': [230, 253]}]}, 'metadata': {'iso_language_code': 'en', 'result_type': 'recent'}, 'source': '<a href=\"https://dlvrit.com/\" rel=\"nofollow\">dlvr.it</a>', 'in_reply_to_status_id': None, 'in_reply_to_status_id_str': None, 'in_reply_to_user_id': None, 'in_reply_to_user_id_str': None, 'in_reply_to_screen_name': None, 'user': {'id': 369885165, 'id_str': '369885165', 'name': 'Randi Athenas', 'screen_name': 'RandiAthenas', 'location': 'CyberTown, CA', 'description': 'Digital Assistant to @EricBrooksCom - I never sleep and I have a sick sense of humor. ;) I follow everyone back. #TeamFollowBack  #TRU  #TeamAutoFollow', 'url': 'https://t.co/OZihVPhgrZ', 'entities': {'url': {'urls': [{'url': 'https://t.co/OZihVPhgrZ', 'expanded_url': 'http://ericbrooks.com', 'display_url': 'ericbrooks.com', 'indices': [0, 23]}]}, 'description': {'urls': []}}, 'protected': False, 'followers_count': 25677, 'friends_count': 26745, 'listed_count': 184, 'created_at': 'Thu Sep 08 03:15:59 +0000 2011', 'favourites_count': 2705, 'utc_offset': None, 'time_zone': None, 'geo_enabled': False, 'verified': False, 'statuses_count': 48090, 'lang': None, 'contributors_enabled': False, 'is_translator': False, 'is_translation_enabled': False, 'profile_background_color': '6E091A', 'profile_background_image_url': 'http://abs.twimg.com/images/themes/theme1/bg.png', 'profile_background_image_url_https': 'https://abs.twimg.com/images/themes/theme1/bg.png', 'profile_background_tile': True, 'profile_image_url': 'http://pbs.twimg.com/profile_images/1533892239/me_guitar_cropped_normal.jpg', 'profile_image_url_https': 'https://pbs.twimg.com/profile_images/1533892239/me_guitar_cropped_normal.jpg', 'profile_banner_url': 'https://pbs.twimg.com/profile_banners/369885165/1381024607', 'profile_link_color': 'B01CAB', 'profile_sidebar_border_color': 'EBC1EB', 'profile_sidebar_fill_color': 'FFDEFC', 'profile_text_color': '333333', 'profile_use_background_image': True, 'has_extended_profile': False, 'default_profile': False, 'default_profile_image': False, 'following': False, 'follow_request_sent': False, 'notifications': False, 'translator_type': 'none'}, 'geo': None, 'coordinates': None, 'place': None, 'contributors': None, 'is_quote_status': False, 'retweet_count': 0, 'favorite_count': 0, 'favorited': False, 'retweeted': False, 'possibly_sensitive': False, 'lang': 'en'}, created_at=datetime.datetime(2020, 10, 30, 9, 3, 3), id=1322101701998829568, id_str='1322101701998829568', full_text='Ƹ̵̡Ӝ̵̨̄Ʒ●●✯✮❉♥ WOW! ♥❉✮✯●Ƹ̵̡Ӝ̵̨̄Ʒ ♦ 40 Algorithms Every Programmer Should Know: Hone your problem-solving skills by learning different algorithms... ● #coding #Python #Algorithm #Programming ♦ Kindle: $26.59 ♦ Paperback: $35.99 ♦ https://t.co/dlfIHRvar2', truncated=False, display_text_range=[0, 253], entities={'hashtags': [{'text': 'coding', 'indices': [151, 158]}, {'text': 'Python', 'indices': [159, 166]}, {'text': 'Algorithm', 'indices': [167, 177]}, {'text': 'Programming', 'indices': [178, 190]}], 'symbols': [], 'user_mentions': [], 'urls': [{'url': 'https://t.co/dlfIHRvar2', 'expanded_url': 'https://amzn.to/2HdSLDN', 'display_url': 'amzn.to/2HdSLDN', 'indices': [230, 253]}]}, metadata={'iso_language_code': 'en', 'result_type': 'recent'}, source='dlvr.it', source_url='https://dlvrit.com/', in_reply_to_status_id=None, in_reply_to_status_id_str=None, in_reply_to_user_id=None, in_reply_to_user_id_str=None, in_reply_to_screen_name=None, author=User(_api=<tweepy.api.API object at 0x000001650834A2E8>, _json={'id': 369885165, 'id_str': '369885165', 'name': 'Randi Athenas', 'screen_name': 'RandiAthenas', 'location': 'CyberTown, CA', 'description': 'Digital Assistant to @EricBrooksCom - I never sleep and I have a sick sense of humor. ;) I follow everyone back. #TeamFollowBack  #TRU  #TeamAutoFollow', 'url': 'https://t.co/OZihVPhgrZ', 'entities': {'url': {'urls': [{'url': 'https://t.co/OZihVPhgrZ', 'expanded_url': 'http://ericbrooks.com', 'display_url': 'ericbrooks.com', 'indices': [0, 23]}]}, 'description': {'urls': []}}, 'protected': False, 'followers_count': 25677, 'friends_count': 26745, 'listed_count': 184, 'created_at': 'Thu Sep 08 03:15:59 +0000 2011', 'favourites_count': 2705, 'utc_offset': None, 'time_zone': None, 'geo_enabled': False, 'verified': False, 'statuses_count': 48090, 'lang': None, 'contributors_enabled': False, 'is_translator': False, 'is_translation_enabled': False, 'profile_background_color': '6E091A', 'profile_background_image_url': 'http://abs.twimg.com/images/themes/theme1/bg.png', 'profile_background_image_url_https': 'https://abs.twimg.com/images/themes/theme1/bg.png', 'profile_background_tile': True, 'profile_image_url': 'http://pbs.twimg.com/profile_images/1533892239/me_guitar_cropped_normal.jpg', 'profile_image_url_https': 'https://pbs.twimg.com/profile_images/1533892239/me_guitar_cropped_normal.jpg', 'profile_banner_url': 'https://pbs.twimg.com/profile_banners/369885165/1381024607', 'profile_link_color': 'B01CAB', 'profile_sidebar_border_color': 'EBC1EB', 'profile_sidebar_fill_color': 'FFDEFC', 'profile_text_color': '333333', 'profile_use_background_image': True, 'has_extended_profile': False, 'default_profile': False, 'default_profile_image': False, 'following': False, 'follow_request_sent': False, 'notifications': False, 'translator_type': 'none'}, id=369885165, id_str='369885165', name='Randi Athenas', screen_name='RandiAthenas', location='CyberTown, CA', description='Digital Assistant to @EricBrooksCom - I never sleep and I have a sick sense of humor. ;) I follow everyone back. #TeamFollowBack  #TRU  #TeamAutoFollow', url='https://t.co/OZihVPhgrZ', entities={'url': {'urls': [{'url': 'https://t.co/OZihVPhgrZ', 'expanded_url': 'http://ericbrooks.com', 'display_url': 'ericbrooks.com', 'indices': [0, 23]}]}, 'description': {'urls': []}}, protected=False, followers_count=25677, friends_count=26745, listed_count=184, created_at=datetime.datetime(2011, 9, 8, 3, 15, 59), favourites_count=2705, utc_offset=None, time_zone=None, geo_enabled=False, verified=False, statuses_count=48090, lang=None, contributors_enabled=False, is_translator=False, is_translation_enabled=False, profile_background_color='6E091A', profile_background_image_url='http://abs.twimg.com/images/themes/theme1/bg.png', profile_background_image_url_https='https://abs.twimg.com/images/themes/theme1/bg.png', profile_background_tile=True, profile_image_url='http://pbs.twimg.com/profile_images/1533892239/me_guitar_cropped_normal.jpg', profile_image_url_https='https://pbs.twimg.com/profile_images/1533892239/me_guitar_cropped_normal.jpg', profile_banner_url='https://pbs.twimg.com/profile_banners/369885165/1381024607', profile_link_color='B01CAB', profile_sidebar_border_color='EBC1EB', profile_sidebar_fill_color='FFDEFC', profile_text_color='333333', profile_use_background_image=True, has_extended_profile=False, default_profile=False, default_profile_image=False, following=False, follow_request_sent=False, notifications=False, translator_type='none'), user=User(_api=<tweepy.api.API object at 0x000001650834A2E8>, _json={'id': 369885165, 'id_str': '369885165', 'name': 'Randi Athenas', 'screen_name': 'RandiAthenas', 'location': 'CyberTown, CA', 'description': 'Digital Assistant to @EricBrooksCom - I never sleep and I have a sick sense of humor. ;) I follow everyone back. #TeamFollowBack  #TRU  #TeamAutoFollow', 'url': 'https://t.co/OZihVPhgrZ', 'entities': {'url': {'urls': [{'url': 'https://t.co/OZihVPhgrZ', 'expanded_url': 'http://ericbrooks.com', 'display_url': 'ericbrooks.com', 'indices': [0, 23]}]}, 'description': {'urls': []}}, 'protected': False, 'followers_count': 25677, 'friends_count': 26745, 'listed_count': 184, 'created_at': 'Thu Sep 08 03:15:59 +0000 2011', 'favourites_count': 2705, 'utc_offset': None, 'time_zone': None, 'geo_enabled': False, 'verified': False, 'statuses_count': 48090, 'lang': None, 'contributors_enabled': False, 'is_translator': False, 'is_translation_enabled': False, 'profile_background_color': '6E091A', 'profile_background_image_url': 'http://abs.twimg.com/images/themes/theme1/bg.png', 'profile_background_image_url_https': 'https://abs.twimg.com/images/themes/theme1/bg.png', 'profile_background_tile': True, 'profile_image_url': 'http://pbs.twimg.com/profile_images/1533892239/me_guitar_cropped_normal.jpg', 'profile_image_url_https': 'https://pbs.twimg.com/profile_images/1533892239/me_guitar_cropped_normal.jpg', 'profile_banner_url': 'https://pbs.twimg.com/profile_banners/369885165/1381024607', 'profile_link_color': 'B01CAB', 'profile_sidebar_border_color': 'EBC1EB', 'profile_sidebar_fill_color': 'FFDEFC', 'profile_text_color': '333333', 'profile_use_background_image': True, 'has_extended_profile': False, 'default_profile': False, 'default_profile_image': False, 'following': False, 'follow_request_sent': False, 'notifications': False, 'translator_type': 'none'}, id=369885165, id_str='369885165', name='Randi Athenas', screen_name='RandiAthenas', location='CyberTown, CA', description='Digital Assistant to @EricBrooksCom - I never sleep and I have a sick sense of humor. ;) I follow everyone back. #TeamFollowBack  #TRU  #TeamAutoFollow', url='https://t.co/OZihVPhgrZ', entities={'url': {'urls': [{'url': 'https://t.co/OZihVPhgrZ', 'expanded_url': 'http://ericbrooks.com', 'display_url': 'ericbrooks.com', 'indices': [0, 23]}]}, 'description': {'urls': []}}, protected=False, followers_count=25677, friends_count=26745, listed_count=184, created_at=datetime.datetime(2011, 9, 8, 3, 15, 59), favourites_count=2705, utc_offset=None, time_zone=None, geo_enabled=False, verified=False, statuses_count=48090, lang=None, contributors_enabled=False, is_translator=False, is_translation_enabled=False, profile_background_color='6E091A', profile_background_image_url='http://abs.twimg.com/images/themes/theme1/bg.png', profile_background_image_url_https='https://abs.twimg.com/images/themes/theme1/bg.png', profile_background_tile=True, profile_image_url='http://pbs.twimg.com/profile_images/1533892239/me_guitar_cropped_normal.jpg', profile_image_url_https='https://pbs.twimg.com/profile_images/1533892239/me_guitar_cropped_normal.jpg', profile_banner_url='https://pbs.twimg.com/profile_banners/369885165/1381024607', profile_link_color='B01CAB', profile_sidebar_border_color='EBC1EB', profile_sidebar_fill_color='FFDEFC', profile_text_color='333333', profile_use_background_image=True, has_extended_profile=False, default_profile=False, default_profile_image=False, following=False, follow_request_sent=False, notifications=False, translator_type='none'), geo=None, coordinates=None, place=None, contributors=None, is_quote_status=False, retweet_count=0, favorite_count=0, favorited=False, retweeted=False, possibly_sensitive=False, lang='en') \n",
      "\n",
      ".....................................\n",
      "\n",
      "Status(_api=<tweepy.api.API object at 0x000001650834A2E8>, _json={'created_at': 'Fri Oct 30 08:59:32 +0000 2020', 'id': 1322100813947301915, 'id_str': '1322100813947301915', 'full_text': \"@CodingThunder @ritvikdubey27 @Deepak_python @Wikipedia @MozDevNet HTML is the best programming language especially for hacking ..\\nKids don't believe this fact since..\\nHacking is an art,\\nand, not everyone is an artist 🔥\", 'truncated': False, 'display_text_range': [67, 219], 'entities': {'hashtags': [], 'symbols': [], 'user_mentions': [{'screen_name': 'CodingThunder', 'name': 'YAKSH BARIYA 👨\\u200d💻', 'id': 1271807677920735232, 'id_str': '1271807677920735232', 'indices': [0, 14]}, {'screen_name': 'ritvikdubey27', 'name': 'Ritvik Dubey', 'id': 1142137768891437057, 'id_str': '1142137768891437057', 'indices': [15, 29]}, {'screen_name': 'Deepak_python', 'name': 'Deepak', 'id': 1279336059348717568, 'id_str': '1279336059348717568', 'indices': [30, 44]}, {'screen_name': 'Wikipedia', 'name': 'Wikipedia', 'id': 86390214, 'id_str': '86390214', 'indices': [45, 55]}, {'screen_name': 'MozDevNet', 'name': 'MDN Web Docs', 'id': 1317739632, 'id_str': '1317739632', 'indices': [56, 66]}], 'urls': []}, 'metadata': {'iso_language_code': 'en', 'result_type': 'recent'}, 'source': '<a href=\"https://mobile.twitter.com\" rel=\"nofollow\">Twitter Web App</a>', 'in_reply_to_status_id': 1322094914570657792, 'in_reply_to_status_id_str': '1322094914570657792', 'in_reply_to_user_id': 1271807677920735232, 'in_reply_to_user_id_str': '1271807677920735232', 'in_reply_to_screen_name': 'CodingThunder', 'user': {'id': 1160604591810994176, 'id_str': '1160604591810994176', 'name': 'Aditya Chaudhary👨\\u200d💻', 'screen_name': 'AdityaGameDev', 'location': 'Present 🙃', 'description': '17` | Programmer👨\\u200d💻 | Game Developer 🎮| Founder @AspectToday | Loves CSS 🌈| Python Enthusiast 🐍|Techie🚀https://t.co/KKvYIAQxcg  Wanna be a social Worker', 'url': 'https://t.co/tFKSUVzevd', 'entities': {'url': {'urls': [{'url': 'https://t.co/tFKSUVzevd', 'expanded_url': 'https://www.kongregate.com/accounts/AdityaChaudhary', 'display_url': 'kongregate.com/accounts/Adity…', 'indices': [0, 23]}]}, 'description': {'urls': [{'url': 'https://t.co/KKvYIAQxcg', 'expanded_url': 'http://discord.gg/vgmre4d', 'display_url': 'discord.gg/vgmre4d', 'indices': [103, 126]}]}}, 'protected': False, 'followers_count': 733, 'friends_count': 546, 'listed_count': 6, 'created_at': 'Sun Aug 11 17:31:12 +0000 2019', 'favourites_count': 10890, 'utc_offset': None, 'time_zone': None, 'geo_enabled': False, 'verified': False, 'statuses_count': 981, 'lang': None, 'contributors_enabled': False, 'is_translator': False, 'is_translation_enabled': False, 'profile_background_color': 'F5F8FA', 'profile_background_image_url': None, 'profile_background_image_url_https': None, 'profile_background_tile': False, 'profile_image_url': 'http://pbs.twimg.com/profile_images/1309373191974842368/igEsZDEP_normal.jpg', 'profile_image_url_https': 'https://pbs.twimg.com/profile_images/1309373191974842368/igEsZDEP_normal.jpg', 'profile_banner_url': 'https://pbs.twimg.com/profile_banners/1160604591810994176/1601520769', 'profile_link_color': '1DA1F2', 'profile_sidebar_border_color': 'C0DEED', 'profile_sidebar_fill_color': 'DDEEF6', 'profile_text_color': '333333', 'profile_use_background_image': True, 'has_extended_profile': True, 'default_profile': True, 'default_profile_image': False, 'following': False, 'follow_request_sent': False, 'notifications': False, 'translator_type': 'none'}, 'geo': None, 'coordinates': None, 'place': None, 'contributors': None, 'is_quote_status': False, 'retweet_count': 0, 'favorite_count': 2, 'favorited': False, 'retweeted': False, 'lang': 'en'}, created_at=datetime.datetime(2020, 10, 30, 8, 59, 32), id=1322100813947301915, id_str='1322100813947301915', full_text=\"@CodingThunder @ritvikdubey27 @Deepak_python @Wikipedia @MozDevNet HTML is the best programming language especially for hacking ..\\nKids don't believe this fact since..\\nHacking is an art,\\nand, not everyone is an artist 🔥\", truncated=False, display_text_range=[67, 219], entities={'hashtags': [], 'symbols': [], 'user_mentions': [{'screen_name': 'CodingThunder', 'name': 'YAKSH BARIYA 👨\\u200d💻', 'id': 1271807677920735232, 'id_str': '1271807677920735232', 'indices': [0, 14]}, {'screen_name': 'ritvikdubey27', 'name': 'Ritvik Dubey', 'id': 1142137768891437057, 'id_str': '1142137768891437057', 'indices': [15, 29]}, {'screen_name': 'Deepak_python', 'name': 'Deepak', 'id': 1279336059348717568, 'id_str': '1279336059348717568', 'indices': [30, 44]}, {'screen_name': 'Wikipedia', 'name': 'Wikipedia', 'id': 86390214, 'id_str': '86390214', 'indices': [45, 55]}, {'screen_name': 'MozDevNet', 'name': 'MDN Web Docs', 'id': 1317739632, 'id_str': '1317739632', 'indices': [56, 66]}], 'urls': []}, metadata={'iso_language_code': 'en', 'result_type': 'recent'}, source='Twitter Web App', source_url='https://mobile.twitter.com', in_reply_to_status_id=1322094914570657792, in_reply_to_status_id_str='1322094914570657792', in_reply_to_user_id=1271807677920735232, in_reply_to_user_id_str='1271807677920735232', in_reply_to_screen_name='CodingThunder', author=User(_api=<tweepy.api.API object at 0x000001650834A2E8>, _json={'id': 1160604591810994176, 'id_str': '1160604591810994176', 'name': 'Aditya Chaudhary👨\\u200d💻', 'screen_name': 'AdityaGameDev', 'location': 'Present 🙃', 'description': '17` | Programmer👨\\u200d💻 | Game Developer 🎮| Founder @AspectToday | Loves CSS 🌈| Python Enthusiast 🐍|Techie🚀https://t.co/KKvYIAQxcg  Wanna be a social Worker', 'url': 'https://t.co/tFKSUVzevd', 'entities': {'url': {'urls': [{'url': 'https://t.co/tFKSUVzevd', 'expanded_url': 'https://www.kongregate.com/accounts/AdityaChaudhary', 'display_url': 'kongregate.com/accounts/Adity…', 'indices': [0, 23]}]}, 'description': {'urls': [{'url': 'https://t.co/KKvYIAQxcg', 'expanded_url': 'http://discord.gg/vgmre4d', 'display_url': 'discord.gg/vgmre4d', 'indices': [103, 126]}]}}, 'protected': False, 'followers_count': 733, 'friends_count': 546, 'listed_count': 6, 'created_at': 'Sun Aug 11 17:31:12 +0000 2019', 'favourites_count': 10890, 'utc_offset': None, 'time_zone': None, 'geo_enabled': False, 'verified': False, 'statuses_count': 981, 'lang': None, 'contributors_enabled': False, 'is_translator': False, 'is_translation_enabled': False, 'profile_background_color': 'F5F8FA', 'profile_background_image_url': None, 'profile_background_image_url_https': None, 'profile_background_tile': False, 'profile_image_url': 'http://pbs.twimg.com/profile_images/1309373191974842368/igEsZDEP_normal.jpg', 'profile_image_url_https': 'https://pbs.twimg.com/profile_images/1309373191974842368/igEsZDEP_normal.jpg', 'profile_banner_url': 'https://pbs.twimg.com/profile_banners/1160604591810994176/1601520769', 'profile_link_color': '1DA1F2', 'profile_sidebar_border_color': 'C0DEED', 'profile_sidebar_fill_color': 'DDEEF6', 'profile_text_color': '333333', 'profile_use_background_image': True, 'has_extended_profile': True, 'default_profile': True, 'default_profile_image': False, 'following': False, 'follow_request_sent': False, 'notifications': False, 'translator_type': 'none'}, id=1160604591810994176, id_str='1160604591810994176', name='Aditya Chaudhary👨\\u200d💻', screen_name='AdityaGameDev', location='Present 🙃', description='17` | Programmer👨\\u200d💻 | Game Developer 🎮| Founder @AspectToday | Loves CSS 🌈| Python Enthusiast 🐍|Techie🚀https://t.co/KKvYIAQxcg  Wanna be a social Worker', url='https://t.co/tFKSUVzevd', entities={'url': {'urls': [{'url': 'https://t.co/tFKSUVzevd', 'expanded_url': 'https://www.kongregate.com/accounts/AdityaChaudhary', 'display_url': 'kongregate.com/accounts/Adity…', 'indices': [0, 23]}]}, 'description': {'urls': [{'url': 'https://t.co/KKvYIAQxcg', 'expanded_url': 'http://discord.gg/vgmre4d', 'display_url': 'discord.gg/vgmre4d', 'indices': [103, 126]}]}}, protected=False, followers_count=733, friends_count=546, listed_count=6, created_at=datetime.datetime(2019, 8, 11, 17, 31, 12), favourites_count=10890, utc_offset=None, time_zone=None, geo_enabled=False, verified=False, statuses_count=981, lang=None, contributors_enabled=False, is_translator=False, is_translation_enabled=False, profile_background_color='F5F8FA', profile_background_image_url=None, profile_background_image_url_https=None, profile_background_tile=False, profile_image_url='http://pbs.twimg.com/profile_images/1309373191974842368/igEsZDEP_normal.jpg', profile_image_url_https='https://pbs.twimg.com/profile_images/1309373191974842368/igEsZDEP_normal.jpg', profile_banner_url='https://pbs.twimg.com/profile_banners/1160604591810994176/1601520769', profile_link_color='1DA1F2', profile_sidebar_border_color='C0DEED', profile_sidebar_fill_color='DDEEF6', profile_text_color='333333', profile_use_background_image=True, has_extended_profile=True, default_profile=True, default_profile_image=False, following=False, follow_request_sent=False, notifications=False, translator_type='none'), user=User(_api=<tweepy.api.API object at 0x000001650834A2E8>, _json={'id': 1160604591810994176, 'id_str': '1160604591810994176', 'name': 'Aditya Chaudhary👨\\u200d💻', 'screen_name': 'AdityaGameDev', 'location': 'Present 🙃', 'description': '17` | Programmer👨\\u200d💻 | Game Developer 🎮| Founder @AspectToday | Loves CSS 🌈| Python Enthusiast 🐍|Techie🚀https://t.co/KKvYIAQxcg  Wanna be a social Worker', 'url': 'https://t.co/tFKSUVzevd', 'entities': {'url': {'urls': [{'url': 'https://t.co/tFKSUVzevd', 'expanded_url': 'https://www.kongregate.com/accounts/AdityaChaudhary', 'display_url': 'kongregate.com/accounts/Adity…', 'indices': [0, 23]}]}, 'description': {'urls': [{'url': 'https://t.co/KKvYIAQxcg', 'expanded_url': 'http://discord.gg/vgmre4d', 'display_url': 'discord.gg/vgmre4d', 'indices': [103, 126]}]}}, 'protected': False, 'followers_count': 733, 'friends_count': 546, 'listed_count': 6, 'created_at': 'Sun Aug 11 17:31:12 +0000 2019', 'favourites_count': 10890, 'utc_offset': None, 'time_zone': None, 'geo_enabled': False, 'verified': False, 'statuses_count': 981, 'lang': None, 'contributors_enabled': False, 'is_translator': False, 'is_translation_enabled': False, 'profile_background_color': 'F5F8FA', 'profile_background_image_url': None, 'profile_background_image_url_https': None, 'profile_background_tile': False, 'profile_image_url': 'http://pbs.twimg.com/profile_images/1309373191974842368/igEsZDEP_normal.jpg', 'profile_image_url_https': 'https://pbs.twimg.com/profile_images/1309373191974842368/igEsZDEP_normal.jpg', 'profile_banner_url': 'https://pbs.twimg.com/profile_banners/1160604591810994176/1601520769', 'profile_link_color': '1DA1F2', 'profile_sidebar_border_color': 'C0DEED', 'profile_sidebar_fill_color': 'DDEEF6', 'profile_text_color': '333333', 'profile_use_background_image': True, 'has_extended_profile': True, 'default_profile': True, 'default_profile_image': False, 'following': False, 'follow_request_sent': False, 'notifications': False, 'translator_type': 'none'}, id=1160604591810994176, id_str='1160604591810994176', name='Aditya Chaudhary👨\\u200d💻', screen_name='AdityaGameDev', location='Present 🙃', description='17` | Programmer👨\\u200d💻 | Game Developer 🎮| Founder @AspectToday | Loves CSS 🌈| Python Enthusiast 🐍|Techie🚀https://t.co/KKvYIAQxcg  Wanna be a social Worker', url='https://t.co/tFKSUVzevd', entities={'url': {'urls': [{'url': 'https://t.co/tFKSUVzevd', 'expanded_url': 'https://www.kongregate.com/accounts/AdityaChaudhary', 'display_url': 'kongregate.com/accounts/Adity…', 'indices': [0, 23]}]}, 'description': {'urls': [{'url': 'https://t.co/KKvYIAQxcg', 'expanded_url': 'http://discord.gg/vgmre4d', 'display_url': 'discord.gg/vgmre4d', 'indices': [103, 126]}]}}, protected=False, followers_count=733, friends_count=546, listed_count=6, created_at=datetime.datetime(2019, 8, 11, 17, 31, 12), favourites_count=10890, utc_offset=None, time_zone=None, geo_enabled=False, verified=False, statuses_count=981, lang=None, contributors_enabled=False, is_translator=False, is_translation_enabled=False, profile_background_color='F5F8FA', profile_background_image_url=None, profile_background_image_url_https=None, profile_background_tile=False, profile_image_url='http://pbs.twimg.com/profile_images/1309373191974842368/igEsZDEP_normal.jpg', profile_image_url_https='https://pbs.twimg.com/profile_images/1309373191974842368/igEsZDEP_normal.jpg', profile_banner_url='https://pbs.twimg.com/profile_banners/1160604591810994176/1601520769', profile_link_color='1DA1F2', profile_sidebar_border_color='C0DEED', profile_sidebar_fill_color='DDEEF6', profile_text_color='333333', profile_use_background_image=True, has_extended_profile=True, default_profile=True, default_profile_image=False, following=False, follow_request_sent=False, notifications=False, translator_type='none'), geo=None, coordinates=None, place=None, contributors=None, is_quote_status=False, retweet_count=0, favorite_count=2, favorited=False, retweeted=False, lang='en') \n",
      "\n",
      ".....................................\n",
      "\n",
      "Status(_api=<tweepy.api.API object at 0x000001650834A2E8>, _json={'created_at': 'Fri Oct 30 08:55:15 +0000 2020', 'id': 1322099736632037378, 'id_str': '1322099736632037378', 'full_text': 'Once upon a time, Python the professional object oriented language left her home. Python went home.', 'truncated': False, 'display_text_range': [0, 99], 'entities': {'hashtags': [], 'symbols': [], 'user_mentions': [], 'urls': []}, 'metadata': {'iso_language_code': 'en', 'result_type': 'recent'}, 'source': '<a href=\"https://cheapbotsdonequick.com\" rel=\"nofollow\">Cheap Bots, Done Quick!</a>', 'in_reply_to_status_id': None, 'in_reply_to_status_id_str': None, 'in_reply_to_user_id': None, 'in_reply_to_user_id_str': None, 'in_reply_to_screen_name': None, 'user': {'id': 718463394278477824, 'id_str': '718463394278477824', 'name': 'Jeffrey MacAskill', 'screen_name': 'Jeffrey_MacAsk', 'location': '', 'description': '', 'url': None, 'entities': {'description': {'urls': []}}, 'protected': False, 'followers_count': 37, 'friends_count': 1, 'listed_count': 13, 'created_at': 'Fri Apr 08 15:39:56 +0000 2016', 'favourites_count': 0, 'utc_offset': None, 'time_zone': None, 'geo_enabled': False, 'verified': False, 'statuses_count': 182716, 'lang': None, 'contributors_enabled': False, 'is_translator': False, 'is_translation_enabled': False, 'profile_background_color': 'F5F8FA', 'profile_background_image_url': None, 'profile_background_image_url_https': None, 'profile_background_tile': False, 'profile_image_url': 'http://abs.twimg.com/sticky/default_profile_images/default_profile_normal.png', 'profile_image_url_https': 'https://abs.twimg.com/sticky/default_profile_images/default_profile_normal.png', 'profile_link_color': '1DA1F2', 'profile_sidebar_border_color': 'C0DEED', 'profile_sidebar_fill_color': 'DDEEF6', 'profile_text_color': '333333', 'profile_use_background_image': True, 'has_extended_profile': False, 'default_profile': True, 'default_profile_image': True, 'following': False, 'follow_request_sent': False, 'notifications': False, 'translator_type': 'none'}, 'geo': None, 'coordinates': None, 'place': None, 'contributors': None, 'is_quote_status': False, 'retweet_count': 0, 'favorite_count': 0, 'favorited': False, 'retweeted': False, 'lang': 'en'}, created_at=datetime.datetime(2020, 10, 30, 8, 55, 15), id=1322099736632037378, id_str='1322099736632037378', full_text='Once upon a time, Python the professional object oriented language left her home. Python went home.', truncated=False, display_text_range=[0, 99], entities={'hashtags': [], 'symbols': [], 'user_mentions': [], 'urls': []}, metadata={'iso_language_code': 'en', 'result_type': 'recent'}, source='Cheap Bots, Done Quick!', source_url='https://cheapbotsdonequick.com', in_reply_to_status_id=None, in_reply_to_status_id_str=None, in_reply_to_user_id=None, in_reply_to_user_id_str=None, in_reply_to_screen_name=None, author=User(_api=<tweepy.api.API object at 0x000001650834A2E8>, _json={'id': 718463394278477824, 'id_str': '718463394278477824', 'name': 'Jeffrey MacAskill', 'screen_name': 'Jeffrey_MacAsk', 'location': '', 'description': '', 'url': None, 'entities': {'description': {'urls': []}}, 'protected': False, 'followers_count': 37, 'friends_count': 1, 'listed_count': 13, 'created_at': 'Fri Apr 08 15:39:56 +0000 2016', 'favourites_count': 0, 'utc_offset': None, 'time_zone': None, 'geo_enabled': False, 'verified': False, 'statuses_count': 182716, 'lang': None, 'contributors_enabled': False, 'is_translator': False, 'is_translation_enabled': False, 'profile_background_color': 'F5F8FA', 'profile_background_image_url': None, 'profile_background_image_url_https': None, 'profile_background_tile': False, 'profile_image_url': 'http://abs.twimg.com/sticky/default_profile_images/default_profile_normal.png', 'profile_image_url_https': 'https://abs.twimg.com/sticky/default_profile_images/default_profile_normal.png', 'profile_link_color': '1DA1F2', 'profile_sidebar_border_color': 'C0DEED', 'profile_sidebar_fill_color': 'DDEEF6', 'profile_text_color': '333333', 'profile_use_background_image': True, 'has_extended_profile': False, 'default_profile': True, 'default_profile_image': True, 'following': False, 'follow_request_sent': False, 'notifications': False, 'translator_type': 'none'}, id=718463394278477824, id_str='718463394278477824', name='Jeffrey MacAskill', screen_name='Jeffrey_MacAsk', location='', description='', url=None, entities={'description': {'urls': []}}, protected=False, followers_count=37, friends_count=1, listed_count=13, created_at=datetime.datetime(2016, 4, 8, 15, 39, 56), favourites_count=0, utc_offset=None, time_zone=None, geo_enabled=False, verified=False, statuses_count=182716, lang=None, contributors_enabled=False, is_translator=False, is_translation_enabled=False, profile_background_color='F5F8FA', profile_background_image_url=None, profile_background_image_url_https=None, profile_background_tile=False, profile_image_url='http://abs.twimg.com/sticky/default_profile_images/default_profile_normal.png', profile_image_url_https='https://abs.twimg.com/sticky/default_profile_images/default_profile_normal.png', profile_link_color='1DA1F2', profile_sidebar_border_color='C0DEED', profile_sidebar_fill_color='DDEEF6', profile_text_color='333333', profile_use_background_image=True, has_extended_profile=False, default_profile=True, default_profile_image=True, following=False, follow_request_sent=False, notifications=False, translator_type='none'), user=User(_api=<tweepy.api.API object at 0x000001650834A2E8>, _json={'id': 718463394278477824, 'id_str': '718463394278477824', 'name': 'Jeffrey MacAskill', 'screen_name': 'Jeffrey_MacAsk', 'location': '', 'description': '', 'url': None, 'entities': {'description': {'urls': []}}, 'protected': False, 'followers_count': 37, 'friends_count': 1, 'listed_count': 13, 'created_at': 'Fri Apr 08 15:39:56 +0000 2016', 'favourites_count': 0, 'utc_offset': None, 'time_zone': None, 'geo_enabled': False, 'verified': False, 'statuses_count': 182716, 'lang': None, 'contributors_enabled': False, 'is_translator': False, 'is_translation_enabled': False, 'profile_background_color': 'F5F8FA', 'profile_background_image_url': None, 'profile_background_image_url_https': None, 'profile_background_tile': False, 'profile_image_url': 'http://abs.twimg.com/sticky/default_profile_images/default_profile_normal.png', 'profile_image_url_https': 'https://abs.twimg.com/sticky/default_profile_images/default_profile_normal.png', 'profile_link_color': '1DA1F2', 'profile_sidebar_border_color': 'C0DEED', 'profile_sidebar_fill_color': 'DDEEF6', 'profile_text_color': '333333', 'profile_use_background_image': True, 'has_extended_profile': False, 'default_profile': True, 'default_profile_image': True, 'following': False, 'follow_request_sent': False, 'notifications': False, 'translator_type': 'none'}, id=718463394278477824, id_str='718463394278477824', name='Jeffrey MacAskill', screen_name='Jeffrey_MacAsk', location='', description='', url=None, entities={'description': {'urls': []}}, protected=False, followers_count=37, friends_count=1, listed_count=13, created_at=datetime.datetime(2016, 4, 8, 15, 39, 56), favourites_count=0, utc_offset=None, time_zone=None, geo_enabled=False, verified=False, statuses_count=182716, lang=None, contributors_enabled=False, is_translator=False, is_translation_enabled=False, profile_background_color='F5F8FA', profile_background_image_url=None, profile_background_image_url_https=None, profile_background_tile=False, profile_image_url='http://abs.twimg.com/sticky/default_profile_images/default_profile_normal.png', profile_image_url_https='https://abs.twimg.com/sticky/default_profile_images/default_profile_normal.png', profile_link_color='1DA1F2', profile_sidebar_border_color='C0DEED', profile_sidebar_fill_color='DDEEF6', profile_text_color='333333', profile_use_background_image=True, has_extended_profile=False, default_profile=True, default_profile_image=True, following=False, follow_request_sent=False, notifications=False, translator_type='none'), geo=None, coordinates=None, place=None, contributors=None, is_quote_status=False, retweet_count=0, favorite_count=0, favorited=False, retweeted=False, lang='en') \n",
      "\n",
      ".....................................\n",
      "\n",
      "Status(_api=<tweepy.api.API object at 0x000001650834A2E8>, _json={'created_at': 'Fri Oct 30 08:54:23 +0000 2020', 'id': 1322099518402342913, 'id_str': '1322099518402342913', 'full_text': 'Creating a new programming language.... is it that necessary? or working and improving those we have already. #developers #programmers #programming #coding #CodeNewbie #100DaysOfCode #WomenWhoCode #python #developing #programminglang #webdevelopment #Java', 'truncated': False, 'display_text_range': [0, 255], 'entities': {'hashtags': [{'text': 'developers', 'indices': [110, 121]}, {'text': 'programmers', 'indices': [122, 134]}, {'text': 'programming', 'indices': [135, 147]}, {'text': 'coding', 'indices': [148, 155]}, {'text': 'CodeNewbie', 'indices': [156, 167]}, {'text': '100DaysOfCode', 'indices': [168, 182]}, {'text': 'WomenWhoCode', 'indices': [183, 196]}, {'text': 'python', 'indices': [197, 204]}, {'text': 'developing', 'indices': [205, 216]}, {'text': 'programminglang', 'indices': [217, 233]}, {'text': 'webdevelopment', 'indices': [234, 249]}, {'text': 'Java', 'indices': [250, 255]}], 'symbols': [], 'user_mentions': [], 'urls': []}, 'metadata': {'iso_language_code': 'en', 'result_type': 'recent'}, 'source': '<a href=\"https://mobile.twitter.com\" rel=\"nofollow\">Twitter Web App</a>', 'in_reply_to_status_id': None, 'in_reply_to_status_id_str': None, 'in_reply_to_user_id': None, 'in_reply_to_user_id_str': None, 'in_reply_to_screen_name': None, 'user': {'id': 1228693864405487616, 'id_str': '1228693864405487616', 'name': 'Alaba Olanrewaju💻🎮', 'screen_name': 'Alaba_Lanre13', 'location': 'Africa ', 'description': 'a lover of Christ || #python #django #programmer || IG: https://t.co/ha8KjpViS4… adding value to lives #udemycoupon code', 'url': 'https://t.co/KLOndmZYFx', 'entities': {'url': {'urls': [{'url': 'https://t.co/KLOndmZYFx', 'expanded_url': 'https://olanrewajualaba.wixsite.com/lanre', 'display_url': 'olanrewajualaba.wixsite.com/lanre', 'indices': [0, 23]}]}, 'description': {'urls': [{'url': 'https://t.co/ha8KjpViS4', 'expanded_url': 'http://instagram.com/@alaba_lanre13', 'display_url': 'instagram.com/@alaba_lanre13', 'indices': [56, 79]}]}}, 'protected': False, 'followers_count': 55, 'friends_count': 34, 'listed_count': 1, 'created_at': 'Sat Feb 15 14:54:48 +0000 2020', 'favourites_count': 376, 'utc_offset': None, 'time_zone': None, 'geo_enabled': False, 'verified': False, 'statuses_count': 253, 'lang': None, 'contributors_enabled': False, 'is_translator': False, 'is_translation_enabled': False, 'profile_background_color': 'F5F8FA', 'profile_background_image_url': None, 'profile_background_image_url_https': None, 'profile_background_tile': False, 'profile_image_url': 'http://pbs.twimg.com/profile_images/1320716551771856896/7-vmQzX1_normal.jpg', 'profile_image_url_https': 'https://pbs.twimg.com/profile_images/1320716551771856896/7-vmQzX1_normal.jpg', 'profile_banner_url': 'https://pbs.twimg.com/profile_banners/1228693864405487616/1603718354', 'profile_link_color': '1DA1F2', 'profile_sidebar_border_color': 'C0DEED', 'profile_sidebar_fill_color': 'DDEEF6', 'profile_text_color': '333333', 'profile_use_background_image': True, 'has_extended_profile': True, 'default_profile': True, 'default_profile_image': False, 'following': False, 'follow_request_sent': False, 'notifications': False, 'translator_type': 'none'}, 'geo': None, 'coordinates': None, 'place': None, 'contributors': None, 'is_quote_status': False, 'retweet_count': 8, 'favorite_count': 6, 'favorited': False, 'retweeted': False, 'lang': 'en'}, created_at=datetime.datetime(2020, 10, 30, 8, 54, 23), id=1322099518402342913, id_str='1322099518402342913', full_text='Creating a new programming language.... is it that necessary? or working and improving those we have already. #developers #programmers #programming #coding #CodeNewbie #100DaysOfCode #WomenWhoCode #python #developing #programminglang #webdevelopment #Java', truncated=False, display_text_range=[0, 255], entities={'hashtags': [{'text': 'developers', 'indices': [110, 121]}, {'text': 'programmers', 'indices': [122, 134]}, {'text': 'programming', 'indices': [135, 147]}, {'text': 'coding', 'indices': [148, 155]}, {'text': 'CodeNewbie', 'indices': [156, 167]}, {'text': '100DaysOfCode', 'indices': [168, 182]}, {'text': 'WomenWhoCode', 'indices': [183, 196]}, {'text': 'python', 'indices': [197, 204]}, {'text': 'developing', 'indices': [205, 216]}, {'text': 'programminglang', 'indices': [217, 233]}, {'text': 'webdevelopment', 'indices': [234, 249]}, {'text': 'Java', 'indices': [250, 255]}], 'symbols': [], 'user_mentions': [], 'urls': []}, metadata={'iso_language_code': 'en', 'result_type': 'recent'}, source='Twitter Web App', source_url='https://mobile.twitter.com', in_reply_to_status_id=None, in_reply_to_status_id_str=None, in_reply_to_user_id=None, in_reply_to_user_id_str=None, in_reply_to_screen_name=None, author=User(_api=<tweepy.api.API object at 0x000001650834A2E8>, _json={'id': 1228693864405487616, 'id_str': '1228693864405487616', 'name': 'Alaba Olanrewaju💻🎮', 'screen_name': 'Alaba_Lanre13', 'location': 'Africa ', 'description': 'a lover of Christ || #python #django #programmer || IG: https://t.co/ha8KjpViS4… adding value to lives #udemycoupon code', 'url': 'https://t.co/KLOndmZYFx', 'entities': {'url': {'urls': [{'url': 'https://t.co/KLOndmZYFx', 'expanded_url': 'https://olanrewajualaba.wixsite.com/lanre', 'display_url': 'olanrewajualaba.wixsite.com/lanre', 'indices': [0, 23]}]}, 'description': {'urls': [{'url': 'https://t.co/ha8KjpViS4', 'expanded_url': 'http://instagram.com/@alaba_lanre13', 'display_url': 'instagram.com/@alaba_lanre13', 'indices': [56, 79]}]}}, 'protected': False, 'followers_count': 55, 'friends_count': 34, 'listed_count': 1, 'created_at': 'Sat Feb 15 14:54:48 +0000 2020', 'favourites_count': 376, 'utc_offset': None, 'time_zone': None, 'geo_enabled': False, 'verified': False, 'statuses_count': 253, 'lang': None, 'contributors_enabled': False, 'is_translator': False, 'is_translation_enabled': False, 'profile_background_color': 'F5F8FA', 'profile_background_image_url': None, 'profile_background_image_url_https': None, 'profile_background_tile': False, 'profile_image_url': 'http://pbs.twimg.com/profile_images/1320716551771856896/7-vmQzX1_normal.jpg', 'profile_image_url_https': 'https://pbs.twimg.com/profile_images/1320716551771856896/7-vmQzX1_normal.jpg', 'profile_banner_url': 'https://pbs.twimg.com/profile_banners/1228693864405487616/1603718354', 'profile_link_color': '1DA1F2', 'profile_sidebar_border_color': 'C0DEED', 'profile_sidebar_fill_color': 'DDEEF6', 'profile_text_color': '333333', 'profile_use_background_image': True, 'has_extended_profile': True, 'default_profile': True, 'default_profile_image': False, 'following': False, 'follow_request_sent': False, 'notifications': False, 'translator_type': 'none'}, id=1228693864405487616, id_str='1228693864405487616', name='Alaba Olanrewaju💻🎮', screen_name='Alaba_Lanre13', location='Africa ', description='a lover of Christ || #python #django #programmer || IG: https://t.co/ha8KjpViS4… adding value to lives #udemycoupon code', url='https://t.co/KLOndmZYFx', entities={'url': {'urls': [{'url': 'https://t.co/KLOndmZYFx', 'expanded_url': 'https://olanrewajualaba.wixsite.com/lanre', 'display_url': 'olanrewajualaba.wixsite.com/lanre', 'indices': [0, 23]}]}, 'description': {'urls': [{'url': 'https://t.co/ha8KjpViS4', 'expanded_url': 'http://instagram.com/@alaba_lanre13', 'display_url': 'instagram.com/@alaba_lanre13', 'indices': [56, 79]}]}}, protected=False, followers_count=55, friends_count=34, listed_count=1, created_at=datetime.datetime(2020, 2, 15, 14, 54, 48), favourites_count=376, utc_offset=None, time_zone=None, geo_enabled=False, verified=False, statuses_count=253, lang=None, contributors_enabled=False, is_translator=False, is_translation_enabled=False, profile_background_color='F5F8FA', profile_background_image_url=None, profile_background_image_url_https=None, profile_background_tile=False, profile_image_url='http://pbs.twimg.com/profile_images/1320716551771856896/7-vmQzX1_normal.jpg', profile_image_url_https='https://pbs.twimg.com/profile_images/1320716551771856896/7-vmQzX1_normal.jpg', profile_banner_url='https://pbs.twimg.com/profile_banners/1228693864405487616/1603718354', profile_link_color='1DA1F2', profile_sidebar_border_color='C0DEED', profile_sidebar_fill_color='DDEEF6', profile_text_color='333333', profile_use_background_image=True, has_extended_profile=True, default_profile=True, default_profile_image=False, following=False, follow_request_sent=False, notifications=False, translator_type='none'), user=User(_api=<tweepy.api.API object at 0x000001650834A2E8>, _json={'id': 1228693864405487616, 'id_str': '1228693864405487616', 'name': 'Alaba Olanrewaju💻🎮', 'screen_name': 'Alaba_Lanre13', 'location': 'Africa ', 'description': 'a lover of Christ || #python #django #programmer || IG: https://t.co/ha8KjpViS4… adding value to lives #udemycoupon code', 'url': 'https://t.co/KLOndmZYFx', 'entities': {'url': {'urls': [{'url': 'https://t.co/KLOndmZYFx', 'expanded_url': 'https://olanrewajualaba.wixsite.com/lanre', 'display_url': 'olanrewajualaba.wixsite.com/lanre', 'indices': [0, 23]}]}, 'description': {'urls': [{'url': 'https://t.co/ha8KjpViS4', 'expanded_url': 'http://instagram.com/@alaba_lanre13', 'display_url': 'instagram.com/@alaba_lanre13', 'indices': [56, 79]}]}}, 'protected': False, 'followers_count': 55, 'friends_count': 34, 'listed_count': 1, 'created_at': 'Sat Feb 15 14:54:48 +0000 2020', 'favourites_count': 376, 'utc_offset': None, 'time_zone': None, 'geo_enabled': False, 'verified': False, 'statuses_count': 253, 'lang': None, 'contributors_enabled': False, 'is_translator': False, 'is_translation_enabled': False, 'profile_background_color': 'F5F8FA', 'profile_background_image_url': None, 'profile_background_image_url_https': None, 'profile_background_tile': False, 'profile_image_url': 'http://pbs.twimg.com/profile_images/1320716551771856896/7-vmQzX1_normal.jpg', 'profile_image_url_https': 'https://pbs.twimg.com/profile_images/1320716551771856896/7-vmQzX1_normal.jpg', 'profile_banner_url': 'https://pbs.twimg.com/profile_banners/1228693864405487616/1603718354', 'profile_link_color': '1DA1F2', 'profile_sidebar_border_color': 'C0DEED', 'profile_sidebar_fill_color': 'DDEEF6', 'profile_text_color': '333333', 'profile_use_background_image': True, 'has_extended_profile': True, 'default_profile': True, 'default_profile_image': False, 'following': False, 'follow_request_sent': False, 'notifications': False, 'translator_type': 'none'}, id=1228693864405487616, id_str='1228693864405487616', name='Alaba Olanrewaju💻🎮', screen_name='Alaba_Lanre13', location='Africa ', description='a lover of Christ || #python #django #programmer || IG: https://t.co/ha8KjpViS4… adding value to lives #udemycoupon code', url='https://t.co/KLOndmZYFx', entities={'url': {'urls': [{'url': 'https://t.co/KLOndmZYFx', 'expanded_url': 'https://olanrewajualaba.wixsite.com/lanre', 'display_url': 'olanrewajualaba.wixsite.com/lanre', 'indices': [0, 23]}]}, 'description': {'urls': [{'url': 'https://t.co/ha8KjpViS4', 'expanded_url': 'http://instagram.com/@alaba_lanre13', 'display_url': 'instagram.com/@alaba_lanre13', 'indices': [56, 79]}]}}, protected=False, followers_count=55, friends_count=34, listed_count=1, created_at=datetime.datetime(2020, 2, 15, 14, 54, 48), favourites_count=376, utc_offset=None, time_zone=None, geo_enabled=False, verified=False, statuses_count=253, lang=None, contributors_enabled=False, is_translator=False, is_translation_enabled=False, profile_background_color='F5F8FA', profile_background_image_url=None, profile_background_image_url_https=None, profile_background_tile=False, profile_image_url='http://pbs.twimg.com/profile_images/1320716551771856896/7-vmQzX1_normal.jpg', profile_image_url_https='https://pbs.twimg.com/profile_images/1320716551771856896/7-vmQzX1_normal.jpg', profile_banner_url='https://pbs.twimg.com/profile_banners/1228693864405487616/1603718354', profile_link_color='1DA1F2', profile_sidebar_border_color='C0DEED', profile_sidebar_fill_color='DDEEF6', profile_text_color='333333', profile_use_background_image=True, has_extended_profile=True, default_profile=True, default_profile_image=False, following=False, follow_request_sent=False, notifications=False, translator_type='none'), geo=None, coordinates=None, place=None, contributors=None, is_quote_status=False, retweet_count=8, favorite_count=6, favorited=False, retweeted=False, lang='en') \n",
      "\n",
      ".....................................\n",
      "\n",
      "Status(_api=<tweepy.api.API object at 0x000001650834A2E8>, _json={'created_at': 'Fri Oct 30 08:41:51 +0000 2020', 'id': 1322096365120282624, 'id_str': '1322096365120282624', 'full_text': '@CodingThunder @AdityaGameDev @ritvikdubey27 @Deepak_python @Wikipedia 10th time on Twitter:\\n“HTML is a programming language”\\nIt belongs to the category of declarative programming languages among css, sql, xml, prolog, markdown, and others.\\nMore specifically it belongs to the family of markup languages.', 'truncated': False, 'display_text_range': [71, 304], 'entities': {'hashtags': [], 'symbols': [], 'user_mentions': [{'screen_name': 'CodingThunder', 'name': 'YAKSH BARIYA 👨\\u200d💻', 'id': 1271807677920735232, 'id_str': '1271807677920735232', 'indices': [0, 14]}, {'screen_name': 'AdityaGameDev', 'name': 'Aditya Chaudhary👨\\u200d💻', 'id': 1160604591810994176, 'id_str': '1160604591810994176', 'indices': [15, 29]}, {'screen_name': 'ritvikdubey27', 'name': 'Ritvik Dubey', 'id': 1142137768891437057, 'id_str': '1142137768891437057', 'indices': [30, 44]}, {'screen_name': 'Deepak_python', 'name': 'Deepak', 'id': 1279336059348717568, 'id_str': '1279336059348717568', 'indices': [45, 59]}, {'screen_name': 'Wikipedia', 'name': 'Wikipedia', 'id': 86390214, 'id_str': '86390214', 'indices': [60, 70]}], 'urls': []}, 'metadata': {'iso_language_code': 'en', 'result_type': 'recent'}, 'source': '<a href=\"https://mobile.twitter.com\" rel=\"nofollow\">Twitter Web App</a>', 'in_reply_to_status_id': 1322091171024232450, 'in_reply_to_status_id_str': '1322091171024232450', 'in_reply_to_user_id': 1271807677920735232, 'in_reply_to_user_id_str': '1271807677920735232', 'in_reply_to_screen_name': 'CodingThunder', 'user': {'id': 1170938468333080576, 'id_str': '1170938468333080576', 'name': 'Jithu Joshy Jy', 'screen_name': 'JithuJoshyJy', 'location': 'India, Kerala, Kannur', 'description': \"I'm a Jesus Youth | Clasher | WebDev & ML | JS | Python | Java | Learning Haskell\", 'url': None, 'entities': {'description': {'urls': []}}, 'protected': False, 'followers_count': 67, 'friends_count': 238, 'listed_count': 0, 'created_at': 'Mon Sep 09 05:54:39 +0000 2019', 'favourites_count': 1605, 'utc_offset': None, 'time_zone': None, 'geo_enabled': False, 'verified': False, 'statuses_count': 812, 'lang': None, 'contributors_enabled': False, 'is_translator': False, 'is_translation_enabled': False, 'profile_background_color': 'F5F8FA', 'profile_background_image_url': None, 'profile_background_image_url_https': None, 'profile_background_tile': False, 'profile_image_url': 'http://pbs.twimg.com/profile_images/1286632460860547073/4DokEbX7_normal.jpg', 'profile_image_url_https': 'https://pbs.twimg.com/profile_images/1286632460860547073/4DokEbX7_normal.jpg', 'profile_banner_url': 'https://pbs.twimg.com/profile_banners/1170938468333080576/1577597144', 'profile_link_color': '1DA1F2', 'profile_sidebar_border_color': 'C0DEED', 'profile_sidebar_fill_color': 'DDEEF6', 'profile_text_color': '333333', 'profile_use_background_image': True, 'has_extended_profile': True, 'default_profile': True, 'default_profile_image': False, 'following': False, 'follow_request_sent': False, 'notifications': False, 'translator_type': 'none'}, 'geo': None, 'coordinates': None, 'place': None, 'contributors': None, 'is_quote_status': False, 'retweet_count': 0, 'favorite_count': 1, 'favorited': False, 'retweeted': False, 'lang': 'en'}, created_at=datetime.datetime(2020, 10, 30, 8, 41, 51), id=1322096365120282624, id_str='1322096365120282624', full_text='@CodingThunder @AdityaGameDev @ritvikdubey27 @Deepak_python @Wikipedia 10th time on Twitter:\\n“HTML is a programming language”\\nIt belongs to the category of declarative programming languages among css, sql, xml, prolog, markdown, and others.\\nMore specifically it belongs to the family of markup languages.', truncated=False, display_text_range=[71, 304], entities={'hashtags': [], 'symbols': [], 'user_mentions': [{'screen_name': 'CodingThunder', 'name': 'YAKSH BARIYA 👨\\u200d💻', 'id': 1271807677920735232, 'id_str': '1271807677920735232', 'indices': [0, 14]}, {'screen_name': 'AdityaGameDev', 'name': 'Aditya Chaudhary👨\\u200d💻', 'id': 1160604591810994176, 'id_str': '1160604591810994176', 'indices': [15, 29]}, {'screen_name': 'ritvikdubey27', 'name': 'Ritvik Dubey', 'id': 1142137768891437057, 'id_str': '1142137768891437057', 'indices': [30, 44]}, {'screen_name': 'Deepak_python', 'name': 'Deepak', 'id': 1279336059348717568, 'id_str': '1279336059348717568', 'indices': [45, 59]}, {'screen_name': 'Wikipedia', 'name': 'Wikipedia', 'id': 86390214, 'id_str': '86390214', 'indices': [60, 70]}], 'urls': []}, metadata={'iso_language_code': 'en', 'result_type': 'recent'}, source='Twitter Web App', source_url='https://mobile.twitter.com', in_reply_to_status_id=1322091171024232450, in_reply_to_status_id_str='1322091171024232450', in_reply_to_user_id=1271807677920735232, in_reply_to_user_id_str='1271807677920735232', in_reply_to_screen_name='CodingThunder', author=User(_api=<tweepy.api.API object at 0x000001650834A2E8>, _json={'id': 1170938468333080576, 'id_str': '1170938468333080576', 'name': 'Jithu Joshy Jy', 'screen_name': 'JithuJoshyJy', 'location': 'India, Kerala, Kannur', 'description': \"I'm a Jesus Youth | Clasher | WebDev & ML | JS | Python | Java | Learning Haskell\", 'url': None, 'entities': {'description': {'urls': []}}, 'protected': False, 'followers_count': 67, 'friends_count': 238, 'listed_count': 0, 'created_at': 'Mon Sep 09 05:54:39 +0000 2019', 'favourites_count': 1605, 'utc_offset': None, 'time_zone': None, 'geo_enabled': False, 'verified': False, 'statuses_count': 812, 'lang': None, 'contributors_enabled': False, 'is_translator': False, 'is_translation_enabled': False, 'profile_background_color': 'F5F8FA', 'profile_background_image_url': None, 'profile_background_image_url_https': None, 'profile_background_tile': False, 'profile_image_url': 'http://pbs.twimg.com/profile_images/1286632460860547073/4DokEbX7_normal.jpg', 'profile_image_url_https': 'https://pbs.twimg.com/profile_images/1286632460860547073/4DokEbX7_normal.jpg', 'profile_banner_url': 'https://pbs.twimg.com/profile_banners/1170938468333080576/1577597144', 'profile_link_color': '1DA1F2', 'profile_sidebar_border_color': 'C0DEED', 'profile_sidebar_fill_color': 'DDEEF6', 'profile_text_color': '333333', 'profile_use_background_image': True, 'has_extended_profile': True, 'default_profile': True, 'default_profile_image': False, 'following': False, 'follow_request_sent': False, 'notifications': False, 'translator_type': 'none'}, id=1170938468333080576, id_str='1170938468333080576', name='Jithu Joshy Jy', screen_name='JithuJoshyJy', location='India, Kerala, Kannur', description=\"I'm a Jesus Youth | Clasher | WebDev & ML | JS | Python | Java | Learning Haskell\", url=None, entities={'description': {'urls': []}}, protected=False, followers_count=67, friends_count=238, listed_count=0, created_at=datetime.datetime(2019, 9, 9, 5, 54, 39), favourites_count=1605, utc_offset=None, time_zone=None, geo_enabled=False, verified=False, statuses_count=812, lang=None, contributors_enabled=False, is_translator=False, is_translation_enabled=False, profile_background_color='F5F8FA', profile_background_image_url=None, profile_background_image_url_https=None, profile_background_tile=False, profile_image_url='http://pbs.twimg.com/profile_images/1286632460860547073/4DokEbX7_normal.jpg', profile_image_url_https='https://pbs.twimg.com/profile_images/1286632460860547073/4DokEbX7_normal.jpg', profile_banner_url='https://pbs.twimg.com/profile_banners/1170938468333080576/1577597144', profile_link_color='1DA1F2', profile_sidebar_border_color='C0DEED', profile_sidebar_fill_color='DDEEF6', profile_text_color='333333', profile_use_background_image=True, has_extended_profile=True, default_profile=True, default_profile_image=False, following=False, follow_request_sent=False, notifications=False, translator_type='none'), user=User(_api=<tweepy.api.API object at 0x000001650834A2E8>, _json={'id': 1170938468333080576, 'id_str': '1170938468333080576', 'name': 'Jithu Joshy Jy', 'screen_name': 'JithuJoshyJy', 'location': 'India, Kerala, Kannur', 'description': \"I'm a Jesus Youth | Clasher | WebDev & ML | JS | Python | Java | Learning Haskell\", 'url': None, 'entities': {'description': {'urls': []}}, 'protected': False, 'followers_count': 67, 'friends_count': 238, 'listed_count': 0, 'created_at': 'Mon Sep 09 05:54:39 +0000 2019', 'favourites_count': 1605, 'utc_offset': None, 'time_zone': None, 'geo_enabled': False, 'verified': False, 'statuses_count': 812, 'lang': None, 'contributors_enabled': False, 'is_translator': False, 'is_translation_enabled': False, 'profile_background_color': 'F5F8FA', 'profile_background_image_url': None, 'profile_background_image_url_https': None, 'profile_background_tile': False, 'profile_image_url': 'http://pbs.twimg.com/profile_images/1286632460860547073/4DokEbX7_normal.jpg', 'profile_image_url_https': 'https://pbs.twimg.com/profile_images/1286632460860547073/4DokEbX7_normal.jpg', 'profile_banner_url': 'https://pbs.twimg.com/profile_banners/1170938468333080576/1577597144', 'profile_link_color': '1DA1F2', 'profile_sidebar_border_color': 'C0DEED', 'profile_sidebar_fill_color': 'DDEEF6', 'profile_text_color': '333333', 'profile_use_background_image': True, 'has_extended_profile': True, 'default_profile': True, 'default_profile_image': False, 'following': False, 'follow_request_sent': False, 'notifications': False, 'translator_type': 'none'}, id=1170938468333080576, id_str='1170938468333080576', name='Jithu Joshy Jy', screen_name='JithuJoshyJy', location='India, Kerala, Kannur', description=\"I'm a Jesus Youth | Clasher | WebDev & ML | JS | Python | Java | Learning Haskell\", url=None, entities={'description': {'urls': []}}, protected=False, followers_count=67, friends_count=238, listed_count=0, created_at=datetime.datetime(2019, 9, 9, 5, 54, 39), favourites_count=1605, utc_offset=None, time_zone=None, geo_enabled=False, verified=False, statuses_count=812, lang=None, contributors_enabled=False, is_translator=False, is_translation_enabled=False, profile_background_color='F5F8FA', profile_background_image_url=None, profile_background_image_url_https=None, profile_background_tile=False, profile_image_url='http://pbs.twimg.com/profile_images/1286632460860547073/4DokEbX7_normal.jpg', profile_image_url_https='https://pbs.twimg.com/profile_images/1286632460860547073/4DokEbX7_normal.jpg', profile_banner_url='https://pbs.twimg.com/profile_banners/1170938468333080576/1577597144', profile_link_color='1DA1F2', profile_sidebar_border_color='C0DEED', profile_sidebar_fill_color='DDEEF6', profile_text_color='333333', profile_use_background_image=True, has_extended_profile=True, default_profile=True, default_profile_image=False, following=False, follow_request_sent=False, notifications=False, translator_type='none'), geo=None, coordinates=None, place=None, contributors=None, is_quote_status=False, retweet_count=0, favorite_count=1, favorited=False, retweeted=False, lang='en') \n",
      "\n",
      ".....................................\n",
      "\n",
      "Status(_api=<tweepy.api.API object at 0x000001650834A2E8>, _json={'created_at': 'Fri Oct 30 08:41:35 +0000 2020', 'id': 1322096298154143745, 'id_str': '1322096298154143745', 'full_text': \"[2/2] In today's video, I will cover the topic of selecting a programming language, which different kinds of languages exist, and my personal experience on why I started with .NET, switched to Python, and now mainly using Go.\", 'truncated': False, 'display_text_range': [0, 225], 'entities': {'hashtags': [], 'symbols': [], 'user_mentions': [], 'urls': []}, 'metadata': {'iso_language_code': 'en', 'result_type': 'recent'}, 'source': '<a href=\"https://mobile.twitter.com\" rel=\"nofollow\">Twitter Web App</a>', 'in_reply_to_status_id': 1322096296799383552, 'in_reply_to_status_id_str': '1322096296799383552', 'in_reply_to_user_id': 1267596401200058369, 'in_reply_to_user_id_str': '1267596401200058369', 'in_reply_to_screen_name': 'KananRahimovCOM', 'user': {'id': 1267596401200058369, 'id_str': '1267596401200058369', 'name': 'KenanBek', 'screen_name': 'KananRahimovCOM', 'location': 'Amsterdam', 'description': 'software engineer / @golang / #python / author @ https://t.co/DkSxSfYIdR / team lead @ https://t.co/k7KFZBbn4A', 'url': 'https://t.co/a2ghniVf05', 'entities': {'url': {'urls': [{'url': 'https://t.co/a2ghniVf05', 'expanded_url': 'https://kenanbek.github.io', 'display_url': 'kenanbek.github.io', 'indices': [0, 23]}]}, 'description': {'urls': [{'url': 'https://t.co/DkSxSfYIdR', 'expanded_url': 'http://youtube.com/codervlogger', 'display_url': 'youtube.com/codervlogger', 'indices': [49, 72]}, {'url': 'https://t.co/k7KFZBbn4A', 'expanded_url': 'http://thebeat.co', 'display_url': 'thebeat.co', 'indices': [87, 110]}]}}, 'protected': False, 'followers_count': 19, 'friends_count': 155, 'listed_count': 0, 'created_at': 'Mon Jun 01 23:18:55 +0000 2020', 'favourites_count': 35, 'utc_offset': None, 'time_zone': None, 'geo_enabled': False, 'verified': False, 'statuses_count': 100, 'lang': None, 'contributors_enabled': False, 'is_translator': False, 'is_translation_enabled': False, 'profile_background_color': 'F5F8FA', 'profile_background_image_url': None, 'profile_background_image_url_https': None, 'profile_background_tile': False, 'profile_image_url': 'http://pbs.twimg.com/profile_images/1284894393367920640/ACQF9e_P_normal.jpg', 'profile_image_url_https': 'https://pbs.twimg.com/profile_images/1284894393367920640/ACQF9e_P_normal.jpg', 'profile_banner_url': 'https://pbs.twimg.com/profile_banners/1267596401200058369/1595177863', 'profile_link_color': '1DA1F2', 'profile_sidebar_border_color': 'C0DEED', 'profile_sidebar_fill_color': 'DDEEF6', 'profile_text_color': '333333', 'profile_use_background_image': True, 'has_extended_profile': False, 'default_profile': True, 'default_profile_image': False, 'following': False, 'follow_request_sent': False, 'notifications': False, 'translator_type': 'none'}, 'geo': None, 'coordinates': None, 'place': None, 'contributors': None, 'is_quote_status': False, 'retweet_count': 0, 'favorite_count': 0, 'favorited': False, 'retweeted': False, 'lang': 'en'}, created_at=datetime.datetime(2020, 10, 30, 8, 41, 35), id=1322096298154143745, id_str='1322096298154143745', full_text=\"[2/2] In today's video, I will cover the topic of selecting a programming language, which different kinds of languages exist, and my personal experience on why I started with .NET, switched to Python, and now mainly using Go.\", truncated=False, display_text_range=[0, 225], entities={'hashtags': [], 'symbols': [], 'user_mentions': [], 'urls': []}, metadata={'iso_language_code': 'en', 'result_type': 'recent'}, source='Twitter Web App', source_url='https://mobile.twitter.com', in_reply_to_status_id=1322096296799383552, in_reply_to_status_id_str='1322096296799383552', in_reply_to_user_id=1267596401200058369, in_reply_to_user_id_str='1267596401200058369', in_reply_to_screen_name='KananRahimovCOM', author=User(_api=<tweepy.api.API object at 0x000001650834A2E8>, _json={'id': 1267596401200058369, 'id_str': '1267596401200058369', 'name': 'KenanBek', 'screen_name': 'KananRahimovCOM', 'location': 'Amsterdam', 'description': 'software engineer / @golang / #python / author @ https://t.co/DkSxSfYIdR / team lead @ https://t.co/k7KFZBbn4A', 'url': 'https://t.co/a2ghniVf05', 'entities': {'url': {'urls': [{'url': 'https://t.co/a2ghniVf05', 'expanded_url': 'https://kenanbek.github.io', 'display_url': 'kenanbek.github.io', 'indices': [0, 23]}]}, 'description': {'urls': [{'url': 'https://t.co/DkSxSfYIdR', 'expanded_url': 'http://youtube.com/codervlogger', 'display_url': 'youtube.com/codervlogger', 'indices': [49, 72]}, {'url': 'https://t.co/k7KFZBbn4A', 'expanded_url': 'http://thebeat.co', 'display_url': 'thebeat.co', 'indices': [87, 110]}]}}, 'protected': False, 'followers_count': 19, 'friends_count': 155, 'listed_count': 0, 'created_at': 'Mon Jun 01 23:18:55 +0000 2020', 'favourites_count': 35, 'utc_offset': None, 'time_zone': None, 'geo_enabled': False, 'verified': False, 'statuses_count': 100, 'lang': None, 'contributors_enabled': False, 'is_translator': False, 'is_translation_enabled': False, 'profile_background_color': 'F5F8FA', 'profile_background_image_url': None, 'profile_background_image_url_https': None, 'profile_background_tile': False, 'profile_image_url': 'http://pbs.twimg.com/profile_images/1284894393367920640/ACQF9e_P_normal.jpg', 'profile_image_url_https': 'https://pbs.twimg.com/profile_images/1284894393367920640/ACQF9e_P_normal.jpg', 'profile_banner_url': 'https://pbs.twimg.com/profile_banners/1267596401200058369/1595177863', 'profile_link_color': '1DA1F2', 'profile_sidebar_border_color': 'C0DEED', 'profile_sidebar_fill_color': 'DDEEF6', 'profile_text_color': '333333', 'profile_use_background_image': True, 'has_extended_profile': False, 'default_profile': True, 'default_profile_image': False, 'following': False, 'follow_request_sent': False, 'notifications': False, 'translator_type': 'none'}, id=1267596401200058369, id_str='1267596401200058369', name='KenanBek', screen_name='KananRahimovCOM', location='Amsterdam', description='software engineer / @golang / #python / author @ https://t.co/DkSxSfYIdR / team lead @ https://t.co/k7KFZBbn4A', url='https://t.co/a2ghniVf05', entities={'url': {'urls': [{'url': 'https://t.co/a2ghniVf05', 'expanded_url': 'https://kenanbek.github.io', 'display_url': 'kenanbek.github.io', 'indices': [0, 23]}]}, 'description': {'urls': [{'url': 'https://t.co/DkSxSfYIdR', 'expanded_url': 'http://youtube.com/codervlogger', 'display_url': 'youtube.com/codervlogger', 'indices': [49, 72]}, {'url': 'https://t.co/k7KFZBbn4A', 'expanded_url': 'http://thebeat.co', 'display_url': 'thebeat.co', 'indices': [87, 110]}]}}, protected=False, followers_count=19, friends_count=155, listed_count=0, created_at=datetime.datetime(2020, 6, 1, 23, 18, 55), favourites_count=35, utc_offset=None, time_zone=None, geo_enabled=False, verified=False, statuses_count=100, lang=None, contributors_enabled=False, is_translator=False, is_translation_enabled=False, profile_background_color='F5F8FA', profile_background_image_url=None, profile_background_image_url_https=None, profile_background_tile=False, profile_image_url='http://pbs.twimg.com/profile_images/1284894393367920640/ACQF9e_P_normal.jpg', profile_image_url_https='https://pbs.twimg.com/profile_images/1284894393367920640/ACQF9e_P_normal.jpg', profile_banner_url='https://pbs.twimg.com/profile_banners/1267596401200058369/1595177863', profile_link_color='1DA1F2', profile_sidebar_border_color='C0DEED', profile_sidebar_fill_color='DDEEF6', profile_text_color='333333', profile_use_background_image=True, has_extended_profile=False, default_profile=True, default_profile_image=False, following=False, follow_request_sent=False, notifications=False, translator_type='none'), user=User(_api=<tweepy.api.API object at 0x000001650834A2E8>, _json={'id': 1267596401200058369, 'id_str': '1267596401200058369', 'name': 'KenanBek', 'screen_name': 'KananRahimovCOM', 'location': 'Amsterdam', 'description': 'software engineer / @golang / #python / author @ https://t.co/DkSxSfYIdR / team lead @ https://t.co/k7KFZBbn4A', 'url': 'https://t.co/a2ghniVf05', 'entities': {'url': {'urls': [{'url': 'https://t.co/a2ghniVf05', 'expanded_url': 'https://kenanbek.github.io', 'display_url': 'kenanbek.github.io', 'indices': [0, 23]}]}, 'description': {'urls': [{'url': 'https://t.co/DkSxSfYIdR', 'expanded_url': 'http://youtube.com/codervlogger', 'display_url': 'youtube.com/codervlogger', 'indices': [49, 72]}, {'url': 'https://t.co/k7KFZBbn4A', 'expanded_url': 'http://thebeat.co', 'display_url': 'thebeat.co', 'indices': [87, 110]}]}}, 'protected': False, 'followers_count': 19, 'friends_count': 155, 'listed_count': 0, 'created_at': 'Mon Jun 01 23:18:55 +0000 2020', 'favourites_count': 35, 'utc_offset': None, 'time_zone': None, 'geo_enabled': False, 'verified': False, 'statuses_count': 100, 'lang': None, 'contributors_enabled': False, 'is_translator': False, 'is_translation_enabled': False, 'profile_background_color': 'F5F8FA', 'profile_background_image_url': None, 'profile_background_image_url_https': None, 'profile_background_tile': False, 'profile_image_url': 'http://pbs.twimg.com/profile_images/1284894393367920640/ACQF9e_P_normal.jpg', 'profile_image_url_https': 'https://pbs.twimg.com/profile_images/1284894393367920640/ACQF9e_P_normal.jpg', 'profile_banner_url': 'https://pbs.twimg.com/profile_banners/1267596401200058369/1595177863', 'profile_link_color': '1DA1F2', 'profile_sidebar_border_color': 'C0DEED', 'profile_sidebar_fill_color': 'DDEEF6', 'profile_text_color': '333333', 'profile_use_background_image': True, 'has_extended_profile': False, 'default_profile': True, 'default_profile_image': False, 'following': False, 'follow_request_sent': False, 'notifications': False, 'translator_type': 'none'}, id=1267596401200058369, id_str='1267596401200058369', name='KenanBek', screen_name='KananRahimovCOM', location='Amsterdam', description='software engineer / @golang / #python / author @ https://t.co/DkSxSfYIdR / team lead @ https://t.co/k7KFZBbn4A', url='https://t.co/a2ghniVf05', entities={'url': {'urls': [{'url': 'https://t.co/a2ghniVf05', 'expanded_url': 'https://kenanbek.github.io', 'display_url': 'kenanbek.github.io', 'indices': [0, 23]}]}, 'description': {'urls': [{'url': 'https://t.co/DkSxSfYIdR', 'expanded_url': 'http://youtube.com/codervlogger', 'display_url': 'youtube.com/codervlogger', 'indices': [49, 72]}, {'url': 'https://t.co/k7KFZBbn4A', 'expanded_url': 'http://thebeat.co', 'display_url': 'thebeat.co', 'indices': [87, 110]}]}}, protected=False, followers_count=19, friends_count=155, listed_count=0, created_at=datetime.datetime(2020, 6, 1, 23, 18, 55), favourites_count=35, utc_offset=None, time_zone=None, geo_enabled=False, verified=False, statuses_count=100, lang=None, contributors_enabled=False, is_translator=False, is_translation_enabled=False, profile_background_color='F5F8FA', profile_background_image_url=None, profile_background_image_url_https=None, profile_background_tile=False, profile_image_url='http://pbs.twimg.com/profile_images/1284894393367920640/ACQF9e_P_normal.jpg', profile_image_url_https='https://pbs.twimg.com/profile_images/1284894393367920640/ACQF9e_P_normal.jpg', profile_banner_url='https://pbs.twimg.com/profile_banners/1267596401200058369/1595177863', profile_link_color='1DA1F2', profile_sidebar_border_color='C0DEED', profile_sidebar_fill_color='DDEEF6', profile_text_color='333333', profile_use_background_image=True, has_extended_profile=False, default_profile=True, default_profile_image=False, following=False, follow_request_sent=False, notifications=False, translator_type='none'), geo=None, coordinates=None, place=None, contributors=None, is_quote_status=False, retweet_count=0, favorite_count=0, favorited=False, retweeted=False, lang='en') \n",
      "\n",
      ".....................................\n",
      "\n",
      "Status(_api=<tweepy.api.API object at 0x000001650834A2E8>, _json={'created_at': 'Fri Oct 30 08:40:05 +0000 2020', 'id': 1322095921358807040, 'id_str': '1322095921358807040', 'full_text': '@AdityaGameDev @ritvikdubey27 @Deepak_python 9th time on Twitter:\\n“HTML is a programming language”\\nIt belongs to the category of declarative programming languages among css, sql, xml, prolog, markdown, and others.\\nMore specifically it belongs to the family of markup languages.', 'truncated': False, 'display_text_range': [45, 277], 'entities': {'hashtags': [], 'symbols': [], 'user_mentions': [{'screen_name': 'AdityaGameDev', 'name': 'Aditya Chaudhary👨\\u200d💻', 'id': 1160604591810994176, 'id_str': '1160604591810994176', 'indices': [0, 14]}, {'screen_name': 'ritvikdubey27', 'name': 'Ritvik Dubey', 'id': 1142137768891437057, 'id_str': '1142137768891437057', 'indices': [15, 29]}, {'screen_name': 'Deepak_python', 'name': 'Deepak', 'id': 1279336059348717568, 'id_str': '1279336059348717568', 'indices': [30, 44]}], 'urls': []}, 'metadata': {'iso_language_code': 'en', 'result_type': 'recent'}, 'source': '<a href=\"https://mobile.twitter.com\" rel=\"nofollow\">Twitter Web App</a>', 'in_reply_to_status_id': 1322053695568113665, 'in_reply_to_status_id_str': '1322053695568113665', 'in_reply_to_user_id': 1160604591810994176, 'in_reply_to_user_id_str': '1160604591810994176', 'in_reply_to_screen_name': 'AdityaGameDev', 'user': {'id': 1170938468333080576, 'id_str': '1170938468333080576', 'name': 'Jithu Joshy Jy', 'screen_name': 'JithuJoshyJy', 'location': 'India, Kerala, Kannur', 'description': \"I'm a Jesus Youth | Clasher | WebDev & ML | JS | Python | Java | Learning Haskell\", 'url': None, 'entities': {'description': {'urls': []}}, 'protected': False, 'followers_count': 67, 'friends_count': 238, 'listed_count': 0, 'created_at': 'Mon Sep 09 05:54:39 +0000 2019', 'favourites_count': 1605, 'utc_offset': None, 'time_zone': None, 'geo_enabled': False, 'verified': False, 'statuses_count': 812, 'lang': None, 'contributors_enabled': False, 'is_translator': False, 'is_translation_enabled': False, 'profile_background_color': 'F5F8FA', 'profile_background_image_url': None, 'profile_background_image_url_https': None, 'profile_background_tile': False, 'profile_image_url': 'http://pbs.twimg.com/profile_images/1286632460860547073/4DokEbX7_normal.jpg', 'profile_image_url_https': 'https://pbs.twimg.com/profile_images/1286632460860547073/4DokEbX7_normal.jpg', 'profile_banner_url': 'https://pbs.twimg.com/profile_banners/1170938468333080576/1577597144', 'profile_link_color': '1DA1F2', 'profile_sidebar_border_color': 'C0DEED', 'profile_sidebar_fill_color': 'DDEEF6', 'profile_text_color': '333333', 'profile_use_background_image': True, 'has_extended_profile': True, 'default_profile': True, 'default_profile_image': False, 'following': False, 'follow_request_sent': False, 'notifications': False, 'translator_type': 'none'}, 'geo': None, 'coordinates': None, 'place': None, 'contributors': None, 'is_quote_status': False, 'retweet_count': 0, 'favorite_count': 1, 'favorited': False, 'retweeted': False, 'lang': 'en'}, created_at=datetime.datetime(2020, 10, 30, 8, 40, 5), id=1322095921358807040, id_str='1322095921358807040', full_text='@AdityaGameDev @ritvikdubey27 @Deepak_python 9th time on Twitter:\\n“HTML is a programming language”\\nIt belongs to the category of declarative programming languages among css, sql, xml, prolog, markdown, and others.\\nMore specifically it belongs to the family of markup languages.', truncated=False, display_text_range=[45, 277], entities={'hashtags': [], 'symbols': [], 'user_mentions': [{'screen_name': 'AdityaGameDev', 'name': 'Aditya Chaudhary👨\\u200d💻', 'id': 1160604591810994176, 'id_str': '1160604591810994176', 'indices': [0, 14]}, {'screen_name': 'ritvikdubey27', 'name': 'Ritvik Dubey', 'id': 1142137768891437057, 'id_str': '1142137768891437057', 'indices': [15, 29]}, {'screen_name': 'Deepak_python', 'name': 'Deepak', 'id': 1279336059348717568, 'id_str': '1279336059348717568', 'indices': [30, 44]}], 'urls': []}, metadata={'iso_language_code': 'en', 'result_type': 'recent'}, source='Twitter Web App', source_url='https://mobile.twitter.com', in_reply_to_status_id=1322053695568113665, in_reply_to_status_id_str='1322053695568113665', in_reply_to_user_id=1160604591810994176, in_reply_to_user_id_str='1160604591810994176', in_reply_to_screen_name='AdityaGameDev', author=User(_api=<tweepy.api.API object at 0x000001650834A2E8>, _json={'id': 1170938468333080576, 'id_str': '1170938468333080576', 'name': 'Jithu Joshy Jy', 'screen_name': 'JithuJoshyJy', 'location': 'India, Kerala, Kannur', 'description': \"I'm a Jesus Youth | Clasher | WebDev & ML | JS | Python | Java | Learning Haskell\", 'url': None, 'entities': {'description': {'urls': []}}, 'protected': False, 'followers_count': 67, 'friends_count': 238, 'listed_count': 0, 'created_at': 'Mon Sep 09 05:54:39 +0000 2019', 'favourites_count': 1605, 'utc_offset': None, 'time_zone': None, 'geo_enabled': False, 'verified': False, 'statuses_count': 812, 'lang': None, 'contributors_enabled': False, 'is_translator': False, 'is_translation_enabled': False, 'profile_background_color': 'F5F8FA', 'profile_background_image_url': None, 'profile_background_image_url_https': None, 'profile_background_tile': False, 'profile_image_url': 'http://pbs.twimg.com/profile_images/1286632460860547073/4DokEbX7_normal.jpg', 'profile_image_url_https': 'https://pbs.twimg.com/profile_images/1286632460860547073/4DokEbX7_normal.jpg', 'profile_banner_url': 'https://pbs.twimg.com/profile_banners/1170938468333080576/1577597144', 'profile_link_color': '1DA1F2', 'profile_sidebar_border_color': 'C0DEED', 'profile_sidebar_fill_color': 'DDEEF6', 'profile_text_color': '333333', 'profile_use_background_image': True, 'has_extended_profile': True, 'default_profile': True, 'default_profile_image': False, 'following': False, 'follow_request_sent': False, 'notifications': False, 'translator_type': 'none'}, id=1170938468333080576, id_str='1170938468333080576', name='Jithu Joshy Jy', screen_name='JithuJoshyJy', location='India, Kerala, Kannur', description=\"I'm a Jesus Youth | Clasher | WebDev & ML | JS | Python | Java | Learning Haskell\", url=None, entities={'description': {'urls': []}}, protected=False, followers_count=67, friends_count=238, listed_count=0, created_at=datetime.datetime(2019, 9, 9, 5, 54, 39), favourites_count=1605, utc_offset=None, time_zone=None, geo_enabled=False, verified=False, statuses_count=812, lang=None, contributors_enabled=False, is_translator=False, is_translation_enabled=False, profile_background_color='F5F8FA', profile_background_image_url=None, profile_background_image_url_https=None, profile_background_tile=False, profile_image_url='http://pbs.twimg.com/profile_images/1286632460860547073/4DokEbX7_normal.jpg', profile_image_url_https='https://pbs.twimg.com/profile_images/1286632460860547073/4DokEbX7_normal.jpg', profile_banner_url='https://pbs.twimg.com/profile_banners/1170938468333080576/1577597144', profile_link_color='1DA1F2', profile_sidebar_border_color='C0DEED', profile_sidebar_fill_color='DDEEF6', profile_text_color='333333', profile_use_background_image=True, has_extended_profile=True, default_profile=True, default_profile_image=False, following=False, follow_request_sent=False, notifications=False, translator_type='none'), user=User(_api=<tweepy.api.API object at 0x000001650834A2E8>, _json={'id': 1170938468333080576, 'id_str': '1170938468333080576', 'name': 'Jithu Joshy Jy', 'screen_name': 'JithuJoshyJy', 'location': 'India, Kerala, Kannur', 'description': \"I'm a Jesus Youth | Clasher | WebDev & ML | JS | Python | Java | Learning Haskell\", 'url': None, 'entities': {'description': {'urls': []}}, 'protected': False, 'followers_count': 67, 'friends_count': 238, 'listed_count': 0, 'created_at': 'Mon Sep 09 05:54:39 +0000 2019', 'favourites_count': 1605, 'utc_offset': None, 'time_zone': None, 'geo_enabled': False, 'verified': False, 'statuses_count': 812, 'lang': None, 'contributors_enabled': False, 'is_translator': False, 'is_translation_enabled': False, 'profile_background_color': 'F5F8FA', 'profile_background_image_url': None, 'profile_background_image_url_https': None, 'profile_background_tile': False, 'profile_image_url': 'http://pbs.twimg.com/profile_images/1286632460860547073/4DokEbX7_normal.jpg', 'profile_image_url_https': 'https://pbs.twimg.com/profile_images/1286632460860547073/4DokEbX7_normal.jpg', 'profile_banner_url': 'https://pbs.twimg.com/profile_banners/1170938468333080576/1577597144', 'profile_link_color': '1DA1F2', 'profile_sidebar_border_color': 'C0DEED', 'profile_sidebar_fill_color': 'DDEEF6', 'profile_text_color': '333333', 'profile_use_background_image': True, 'has_extended_profile': True, 'default_profile': True, 'default_profile_image': False, 'following': False, 'follow_request_sent': False, 'notifications': False, 'translator_type': 'none'}, id=1170938468333080576, id_str='1170938468333080576', name='Jithu Joshy Jy', screen_name='JithuJoshyJy', location='India, Kerala, Kannur', description=\"I'm a Jesus Youth | Clasher | WebDev & ML | JS | Python | Java | Learning Haskell\", url=None, entities={'description': {'urls': []}}, protected=False, followers_count=67, friends_count=238, listed_count=0, created_at=datetime.datetime(2019, 9, 9, 5, 54, 39), favourites_count=1605, utc_offset=None, time_zone=None, geo_enabled=False, verified=False, statuses_count=812, lang=None, contributors_enabled=False, is_translator=False, is_translation_enabled=False, profile_background_color='F5F8FA', profile_background_image_url=None, profile_background_image_url_https=None, profile_background_tile=False, profile_image_url='http://pbs.twimg.com/profile_images/1286632460860547073/4DokEbX7_normal.jpg', profile_image_url_https='https://pbs.twimg.com/profile_images/1286632460860547073/4DokEbX7_normal.jpg', profile_banner_url='https://pbs.twimg.com/profile_banners/1170938468333080576/1577597144', profile_link_color='1DA1F2', profile_sidebar_border_color='C0DEED', profile_sidebar_fill_color='DDEEF6', profile_text_color='333333', profile_use_background_image=True, has_extended_profile=True, default_profile=True, default_profile_image=False, following=False, follow_request_sent=False, notifications=False, translator_type='none'), geo=None, coordinates=None, place=None, contributors=None, is_quote_status=False, retweet_count=0, favorite_count=1, favorited=False, retweeted=False, lang='en') \n",
      "\n",
      ".....................................\n",
      "\n",
      "Status(_api=<tweepy.api.API object at 0x000001650834A2E8>, _json={'created_at': 'Fri Oct 30 08:25:08 +0000 2020', 'id': 1322092159596679168, 'id_str': '1322092159596679168', 'full_text': 'Once upon a time, Python the outstanding object oriented language set out for adventures. Python went home.', 'truncated': False, 'display_text_range': [0, 107], 'entities': {'hashtags': [], 'symbols': [], 'user_mentions': [], 'urls': []}, 'metadata': {'iso_language_code': 'en', 'result_type': 'recent'}, 'source': '<a href=\"https://cheapbotsdonequick.com\" rel=\"nofollow\">Cheap Bots, Done Quick!</a>', 'in_reply_to_status_id': None, 'in_reply_to_status_id_str': None, 'in_reply_to_user_id': None, 'in_reply_to_user_id_str': None, 'in_reply_to_screen_name': None, 'user': {'id': 718463394278477824, 'id_str': '718463394278477824', 'name': 'Jeffrey MacAskill', 'screen_name': 'Jeffrey_MacAsk', 'location': '', 'description': '', 'url': None, 'entities': {'description': {'urls': []}}, 'protected': False, 'followers_count': 37, 'friends_count': 1, 'listed_count': 13, 'created_at': 'Fri Apr 08 15:39:56 +0000 2016', 'favourites_count': 0, 'utc_offset': None, 'time_zone': None, 'geo_enabled': False, 'verified': False, 'statuses_count': 182716, 'lang': None, 'contributors_enabled': False, 'is_translator': False, 'is_translation_enabled': False, 'profile_background_color': 'F5F8FA', 'profile_background_image_url': None, 'profile_background_image_url_https': None, 'profile_background_tile': False, 'profile_image_url': 'http://abs.twimg.com/sticky/default_profile_images/default_profile_normal.png', 'profile_image_url_https': 'https://abs.twimg.com/sticky/default_profile_images/default_profile_normal.png', 'profile_link_color': '1DA1F2', 'profile_sidebar_border_color': 'C0DEED', 'profile_sidebar_fill_color': 'DDEEF6', 'profile_text_color': '333333', 'profile_use_background_image': True, 'has_extended_profile': False, 'default_profile': True, 'default_profile_image': True, 'following': False, 'follow_request_sent': False, 'notifications': False, 'translator_type': 'none'}, 'geo': None, 'coordinates': None, 'place': None, 'contributors': None, 'is_quote_status': False, 'retweet_count': 0, 'favorite_count': 0, 'favorited': False, 'retweeted': False, 'lang': 'en'}, created_at=datetime.datetime(2020, 10, 30, 8, 25, 8), id=1322092159596679168, id_str='1322092159596679168', full_text='Once upon a time, Python the outstanding object oriented language set out for adventures. Python went home.', truncated=False, display_text_range=[0, 107], entities={'hashtags': [], 'symbols': [], 'user_mentions': [], 'urls': []}, metadata={'iso_language_code': 'en', 'result_type': 'recent'}, source='Cheap Bots, Done Quick!', source_url='https://cheapbotsdonequick.com', in_reply_to_status_id=None, in_reply_to_status_id_str=None, in_reply_to_user_id=None, in_reply_to_user_id_str=None, in_reply_to_screen_name=None, author=User(_api=<tweepy.api.API object at 0x000001650834A2E8>, _json={'id': 718463394278477824, 'id_str': '718463394278477824', 'name': 'Jeffrey MacAskill', 'screen_name': 'Jeffrey_MacAsk', 'location': '', 'description': '', 'url': None, 'entities': {'description': {'urls': []}}, 'protected': False, 'followers_count': 37, 'friends_count': 1, 'listed_count': 13, 'created_at': 'Fri Apr 08 15:39:56 +0000 2016', 'favourites_count': 0, 'utc_offset': None, 'time_zone': None, 'geo_enabled': False, 'verified': False, 'statuses_count': 182716, 'lang': None, 'contributors_enabled': False, 'is_translator': False, 'is_translation_enabled': False, 'profile_background_color': 'F5F8FA', 'profile_background_image_url': None, 'profile_background_image_url_https': None, 'profile_background_tile': False, 'profile_image_url': 'http://abs.twimg.com/sticky/default_profile_images/default_profile_normal.png', 'profile_image_url_https': 'https://abs.twimg.com/sticky/default_profile_images/default_profile_normal.png', 'profile_link_color': '1DA1F2', 'profile_sidebar_border_color': 'C0DEED', 'profile_sidebar_fill_color': 'DDEEF6', 'profile_text_color': '333333', 'profile_use_background_image': True, 'has_extended_profile': False, 'default_profile': True, 'default_profile_image': True, 'following': False, 'follow_request_sent': False, 'notifications': False, 'translator_type': 'none'}, id=718463394278477824, id_str='718463394278477824', name='Jeffrey MacAskill', screen_name='Jeffrey_MacAsk', location='', description='', url=None, entities={'description': {'urls': []}}, protected=False, followers_count=37, friends_count=1, listed_count=13, created_at=datetime.datetime(2016, 4, 8, 15, 39, 56), favourites_count=0, utc_offset=None, time_zone=None, geo_enabled=False, verified=False, statuses_count=182716, lang=None, contributors_enabled=False, is_translator=False, is_translation_enabled=False, profile_background_color='F5F8FA', profile_background_image_url=None, profile_background_image_url_https=None, profile_background_tile=False, profile_image_url='http://abs.twimg.com/sticky/default_profile_images/default_profile_normal.png', profile_image_url_https='https://abs.twimg.com/sticky/default_profile_images/default_profile_normal.png', profile_link_color='1DA1F2', profile_sidebar_border_color='C0DEED', profile_sidebar_fill_color='DDEEF6', profile_text_color='333333', profile_use_background_image=True, has_extended_profile=False, default_profile=True, default_profile_image=True, following=False, follow_request_sent=False, notifications=False, translator_type='none'), user=User(_api=<tweepy.api.API object at 0x000001650834A2E8>, _json={'id': 718463394278477824, 'id_str': '718463394278477824', 'name': 'Jeffrey MacAskill', 'screen_name': 'Jeffrey_MacAsk', 'location': '', 'description': '', 'url': None, 'entities': {'description': {'urls': []}}, 'protected': False, 'followers_count': 37, 'friends_count': 1, 'listed_count': 13, 'created_at': 'Fri Apr 08 15:39:56 +0000 2016', 'favourites_count': 0, 'utc_offset': None, 'time_zone': None, 'geo_enabled': False, 'verified': False, 'statuses_count': 182716, 'lang': None, 'contributors_enabled': False, 'is_translator': False, 'is_translation_enabled': False, 'profile_background_color': 'F5F8FA', 'profile_background_image_url': None, 'profile_background_image_url_https': None, 'profile_background_tile': False, 'profile_image_url': 'http://abs.twimg.com/sticky/default_profile_images/default_profile_normal.png', 'profile_image_url_https': 'https://abs.twimg.com/sticky/default_profile_images/default_profile_normal.png', 'profile_link_color': '1DA1F2', 'profile_sidebar_border_color': 'C0DEED', 'profile_sidebar_fill_color': 'DDEEF6', 'profile_text_color': '333333', 'profile_use_background_image': True, 'has_extended_profile': False, 'default_profile': True, 'default_profile_image': True, 'following': False, 'follow_request_sent': False, 'notifications': False, 'translator_type': 'none'}, id=718463394278477824, id_str='718463394278477824', name='Jeffrey MacAskill', screen_name='Jeffrey_MacAsk', location='', description='', url=None, entities={'description': {'urls': []}}, protected=False, followers_count=37, friends_count=1, listed_count=13, created_at=datetime.datetime(2016, 4, 8, 15, 39, 56), favourites_count=0, utc_offset=None, time_zone=None, geo_enabled=False, verified=False, statuses_count=182716, lang=None, contributors_enabled=False, is_translator=False, is_translation_enabled=False, profile_background_color='F5F8FA', profile_background_image_url=None, profile_background_image_url_https=None, profile_background_tile=False, profile_image_url='http://abs.twimg.com/sticky/default_profile_images/default_profile_normal.png', profile_image_url_https='https://abs.twimg.com/sticky/default_profile_images/default_profile_normal.png', profile_link_color='1DA1F2', profile_sidebar_border_color='C0DEED', profile_sidebar_fill_color='DDEEF6', profile_text_color='333333', profile_use_background_image=True, has_extended_profile=False, default_profile=True, default_profile_image=True, following=False, follow_request_sent=False, notifications=False, translator_type='none'), geo=None, coordinates=None, place=None, contributors=None, is_quote_status=False, retweet_count=0, favorite_count=0, favorited=False, retweeted=False, lang='en') \n",
      "\n",
      ".....................................\n",
      "\n",
      "Status(_api=<tweepy.api.API object at 0x000001650834A2E8>, _json={'created_at': 'Fri Oct 30 08:22:00 +0000 2020', 'id': 1322091368962019328, 'id_str': '1322091368962019328', 'full_text': 'Pragma: A Language for Building #GraphQL APIs In No Time #python #pythonprogramming #pythondev #dormosheio #showdev #javascript #webdev #frontenddev https://t.co/kmSXzRAZII', 'truncated': False, 'display_text_range': [0, 172], 'entities': {'hashtags': [{'text': 'GraphQL', 'indices': [32, 40]}, {'text': 'python', 'indices': [57, 64]}, {'text': 'pythonprogramming', 'indices': [65, 83]}, {'text': 'pythondev', 'indices': [84, 94]}, {'text': 'dormosheio', 'indices': [95, 106]}, {'text': 'showdev', 'indices': [107, 115]}, {'text': 'javascript', 'indices': [116, 127]}, {'text': 'webdev', 'indices': [128, 135]}, {'text': 'frontenddev', 'indices': [136, 148]}], 'symbols': [], 'user_mentions': [], 'urls': [{'url': 'https://t.co/kmSXzRAZII', 'expanded_url': 'https://dormoshe.io/trending-news/pragma-a-language-for-building-graphql-apis-in-no-time-800-15733?utm_source=twitter&utm_campaign=twitter', 'display_url': 'dormoshe.io/trending-news/…', 'indices': [149, 172]}]}, 'metadata': {'iso_language_code': 'en', 'result_type': 'recent'}, 'source': '<a href=\"https://dormoshe.io\" rel=\"nofollow\">GraphQL Trends</a>', 'in_reply_to_status_id': None, 'in_reply_to_status_id_str': None, 'in_reply_to_user_id': None, 'in_reply_to_user_id_str': None, 'in_reply_to_screen_name': None, 'user': {'id': 1182669353478737921, 'id_str': '1182669353478737921', 'name': 'GraphQL Trends', 'screen_name': 'GraphqlTrends', 'location': '', 'description': 'All #GraphQL Hottest Trends', 'url': 'https://t.co/aA4dbw7uyh', 'entities': {'url': {'urls': [{'url': 'https://t.co/aA4dbw7uyh', 'expanded_url': 'http://dormoshe.io', 'display_url': 'dormoshe.io', 'indices': [0, 23]}]}, 'description': {'urls': []}}, 'protected': False, 'followers_count': 205, 'friends_count': 3, 'listed_count': 3, 'created_at': 'Fri Oct 11 14:48:54 +0000 2019', 'favourites_count': 230, 'utc_offset': None, 'time_zone': None, 'geo_enabled': False, 'verified': False, 'statuses_count': 1171, 'lang': None, 'contributors_enabled': False, 'is_translator': False, 'is_translation_enabled': False, 'profile_background_color': 'F5F8FA', 'profile_background_image_url': None, 'profile_background_image_url_https': None, 'profile_background_tile': False, 'profile_image_url': 'http://pbs.twimg.com/profile_images/1182669871630487552/FKrrM_U6_normal.jpg', 'profile_image_url_https': 'https://pbs.twimg.com/profile_images/1182669871630487552/FKrrM_U6_normal.jpg', 'profile_link_color': '1DA1F2', 'profile_sidebar_border_color': 'C0DEED', 'profile_sidebar_fill_color': 'DDEEF6', 'profile_text_color': '333333', 'profile_use_background_image': True, 'has_extended_profile': False, 'default_profile': True, 'default_profile_image': False, 'following': False, 'follow_request_sent': False, 'notifications': False, 'translator_type': 'none'}, 'geo': None, 'coordinates': None, 'place': None, 'contributors': None, 'is_quote_status': False, 'retweet_count': 6, 'favorite_count': 3, 'favorited': False, 'retweeted': False, 'possibly_sensitive': False, 'lang': 'en'}, created_at=datetime.datetime(2020, 10, 30, 8, 22), id=1322091368962019328, id_str='1322091368962019328', full_text='Pragma: A Language for Building #GraphQL APIs In No Time #python #pythonprogramming #pythondev #dormosheio #showdev #javascript #webdev #frontenddev https://t.co/kmSXzRAZII', truncated=False, display_text_range=[0, 172], entities={'hashtags': [{'text': 'GraphQL', 'indices': [32, 40]}, {'text': 'python', 'indices': [57, 64]}, {'text': 'pythonprogramming', 'indices': [65, 83]}, {'text': 'pythondev', 'indices': [84, 94]}, {'text': 'dormosheio', 'indices': [95, 106]}, {'text': 'showdev', 'indices': [107, 115]}, {'text': 'javascript', 'indices': [116, 127]}, {'text': 'webdev', 'indices': [128, 135]}, {'text': 'frontenddev', 'indices': [136, 148]}], 'symbols': [], 'user_mentions': [], 'urls': [{'url': 'https://t.co/kmSXzRAZII', 'expanded_url': 'https://dormoshe.io/trending-news/pragma-a-language-for-building-graphql-apis-in-no-time-800-15733?utm_source=twitter&utm_campaign=twitter', 'display_url': 'dormoshe.io/trending-news/…', 'indices': [149, 172]}]}, metadata={'iso_language_code': 'en', 'result_type': 'recent'}, source='GraphQL Trends', source_url='https://dormoshe.io', in_reply_to_status_id=None, in_reply_to_status_id_str=None, in_reply_to_user_id=None, in_reply_to_user_id_str=None, in_reply_to_screen_name=None, author=User(_api=<tweepy.api.API object at 0x000001650834A2E8>, _json={'id': 1182669353478737921, 'id_str': '1182669353478737921', 'name': 'GraphQL Trends', 'screen_name': 'GraphqlTrends', 'location': '', 'description': 'All #GraphQL Hottest Trends', 'url': 'https://t.co/aA4dbw7uyh', 'entities': {'url': {'urls': [{'url': 'https://t.co/aA4dbw7uyh', 'expanded_url': 'http://dormoshe.io', 'display_url': 'dormoshe.io', 'indices': [0, 23]}]}, 'description': {'urls': []}}, 'protected': False, 'followers_count': 205, 'friends_count': 3, 'listed_count': 3, 'created_at': 'Fri Oct 11 14:48:54 +0000 2019', 'favourites_count': 230, 'utc_offset': None, 'time_zone': None, 'geo_enabled': False, 'verified': False, 'statuses_count': 1171, 'lang': None, 'contributors_enabled': False, 'is_translator': False, 'is_translation_enabled': False, 'profile_background_color': 'F5F8FA', 'profile_background_image_url': None, 'profile_background_image_url_https': None, 'profile_background_tile': False, 'profile_image_url': 'http://pbs.twimg.com/profile_images/1182669871630487552/FKrrM_U6_normal.jpg', 'profile_image_url_https': 'https://pbs.twimg.com/profile_images/1182669871630487552/FKrrM_U6_normal.jpg', 'profile_link_color': '1DA1F2', 'profile_sidebar_border_color': 'C0DEED', 'profile_sidebar_fill_color': 'DDEEF6', 'profile_text_color': '333333', 'profile_use_background_image': True, 'has_extended_profile': False, 'default_profile': True, 'default_profile_image': False, 'following': False, 'follow_request_sent': False, 'notifications': False, 'translator_type': 'none'}, id=1182669353478737921, id_str='1182669353478737921', name='GraphQL Trends', screen_name='GraphqlTrends', location='', description='All #GraphQL Hottest Trends', url='https://t.co/aA4dbw7uyh', entities={'url': {'urls': [{'url': 'https://t.co/aA4dbw7uyh', 'expanded_url': 'http://dormoshe.io', 'display_url': 'dormoshe.io', 'indices': [0, 23]}]}, 'description': {'urls': []}}, protected=False, followers_count=205, friends_count=3, listed_count=3, created_at=datetime.datetime(2019, 10, 11, 14, 48, 54), favourites_count=230, utc_offset=None, time_zone=None, geo_enabled=False, verified=False, statuses_count=1171, lang=None, contributors_enabled=False, is_translator=False, is_translation_enabled=False, profile_background_color='F5F8FA', profile_background_image_url=None, profile_background_image_url_https=None, profile_background_tile=False, profile_image_url='http://pbs.twimg.com/profile_images/1182669871630487552/FKrrM_U6_normal.jpg', profile_image_url_https='https://pbs.twimg.com/profile_images/1182669871630487552/FKrrM_U6_normal.jpg', profile_link_color='1DA1F2', profile_sidebar_border_color='C0DEED', profile_sidebar_fill_color='DDEEF6', profile_text_color='333333', profile_use_background_image=True, has_extended_profile=False, default_profile=True, default_profile_image=False, following=False, follow_request_sent=False, notifications=False, translator_type='none'), user=User(_api=<tweepy.api.API object at 0x000001650834A2E8>, _json={'id': 1182669353478737921, 'id_str': '1182669353478737921', 'name': 'GraphQL Trends', 'screen_name': 'GraphqlTrends', 'location': '', 'description': 'All #GraphQL Hottest Trends', 'url': 'https://t.co/aA4dbw7uyh', 'entities': {'url': {'urls': [{'url': 'https://t.co/aA4dbw7uyh', 'expanded_url': 'http://dormoshe.io', 'display_url': 'dormoshe.io', 'indices': [0, 23]}]}, 'description': {'urls': []}}, 'protected': False, 'followers_count': 205, 'friends_count': 3, 'listed_count': 3, 'created_at': 'Fri Oct 11 14:48:54 +0000 2019', 'favourites_count': 230, 'utc_offset': None, 'time_zone': None, 'geo_enabled': False, 'verified': False, 'statuses_count': 1171, 'lang': None, 'contributors_enabled': False, 'is_translator': False, 'is_translation_enabled': False, 'profile_background_color': 'F5F8FA', 'profile_background_image_url': None, 'profile_background_image_url_https': None, 'profile_background_tile': False, 'profile_image_url': 'http://pbs.twimg.com/profile_images/1182669871630487552/FKrrM_U6_normal.jpg', 'profile_image_url_https': 'https://pbs.twimg.com/profile_images/1182669871630487552/FKrrM_U6_normal.jpg', 'profile_link_color': '1DA1F2', 'profile_sidebar_border_color': 'C0DEED', 'profile_sidebar_fill_color': 'DDEEF6', 'profile_text_color': '333333', 'profile_use_background_image': True, 'has_extended_profile': False, 'default_profile': True, 'default_profile_image': False, 'following': False, 'follow_request_sent': False, 'notifications': False, 'translator_type': 'none'}, id=1182669353478737921, id_str='1182669353478737921', name='GraphQL Trends', screen_name='GraphqlTrends', location='', description='All #GraphQL Hottest Trends', url='https://t.co/aA4dbw7uyh', entities={'url': {'urls': [{'url': 'https://t.co/aA4dbw7uyh', 'expanded_url': 'http://dormoshe.io', 'display_url': 'dormoshe.io', 'indices': [0, 23]}]}, 'description': {'urls': []}}, protected=False, followers_count=205, friends_count=3, listed_count=3, created_at=datetime.datetime(2019, 10, 11, 14, 48, 54), favourites_count=230, utc_offset=None, time_zone=None, geo_enabled=False, verified=False, statuses_count=1171, lang=None, contributors_enabled=False, is_translator=False, is_translation_enabled=False, profile_background_color='F5F8FA', profile_background_image_url=None, profile_background_image_url_https=None, profile_background_tile=False, profile_image_url='http://pbs.twimg.com/profile_images/1182669871630487552/FKrrM_U6_normal.jpg', profile_image_url_https='https://pbs.twimg.com/profile_images/1182669871630487552/FKrrM_U6_normal.jpg', profile_link_color='1DA1F2', profile_sidebar_border_color='C0DEED', profile_sidebar_fill_color='DDEEF6', profile_text_color='333333', profile_use_background_image=True, has_extended_profile=False, default_profile=True, default_profile_image=False, following=False, follow_request_sent=False, notifications=False, translator_type='none'), geo=None, coordinates=None, place=None, contributors=None, is_quote_status=False, retweet_count=6, favorite_count=3, favorited=False, retweeted=False, possibly_sensitive=False, lang='en') \n",
      "\n",
      ".....................................\n",
      "\n",
      "Status(_api=<tweepy.api.API object at 0x000001650834A2E8>, _json={'created_at': 'Fri Oct 30 08:21:13 +0000 2020', 'id': 1322091171024232450, 'id_str': '1322091171024232450', 'full_text': '@AdityaGameDev @ritvikdubey27 @Deepak_python Wikipedia is not always correct\\n\\n@Wikipedia, HTML is not a programming language https://t.co/KYzgZJw8Hq', 'truncated': False, 'display_text_range': [45, 124], 'entities': {'hashtags': [], 'symbols': [], 'user_mentions': [{'screen_name': 'AdityaGameDev', 'name': 'Aditya Chaudhary👨\\u200d💻', 'id': 1160604591810994176, 'id_str': '1160604591810994176', 'indices': [0, 14]}, {'screen_name': 'ritvikdubey27', 'name': 'Ritvik Dubey', 'id': 1142137768891437057, 'id_str': '1142137768891437057', 'indices': [15, 29]}, {'screen_name': 'Deepak_python', 'name': 'Deepak', 'id': 1279336059348717568, 'id_str': '1279336059348717568', 'indices': [30, 44]}, {'screen_name': 'Wikipedia', 'name': 'Wikipedia', 'id': 86390214, 'id_str': '86390214', 'indices': [78, 88]}], 'urls': [], 'media': [{'id': 1322091168209854465, 'id_str': '1322091168209854465', 'indices': [125, 148], 'media_url': 'http://pbs.twimg.com/media/ElkC6anUYAEUSzH.jpg', 'media_url_https': 'https://pbs.twimg.com/media/ElkC6anUYAEUSzH.jpg', 'url': 'https://t.co/KYzgZJw8Hq', 'display_url': 'pic.twitter.com/KYzgZJw8Hq', 'expanded_url': 'https://twitter.com/CodingThunder/status/1322091171024232450/photo/1', 'type': 'photo', 'sizes': {'large': {'w': 373, 'h': 185, 'resize': 'fit'}, 'thumb': {'w': 150, 'h': 150, 'resize': 'crop'}, 'small': {'w': 373, 'h': 185, 'resize': 'fit'}, 'medium': {'w': 373, 'h': 185, 'resize': 'fit'}}}]}, 'extended_entities': {'media': [{'id': 1322091168209854465, 'id_str': '1322091168209854465', 'indices': [125, 148], 'media_url': 'http://pbs.twimg.com/media/ElkC6anUYAEUSzH.jpg', 'media_url_https': 'https://pbs.twimg.com/media/ElkC6anUYAEUSzH.jpg', 'url': 'https://t.co/KYzgZJw8Hq', 'display_url': 'pic.twitter.com/KYzgZJw8Hq', 'expanded_url': 'https://twitter.com/CodingThunder/status/1322091171024232450/photo/1', 'type': 'photo', 'sizes': {'large': {'w': 373, 'h': 185, 'resize': 'fit'}, 'thumb': {'w': 150, 'h': 150, 'resize': 'crop'}, 'small': {'w': 373, 'h': 185, 'resize': 'fit'}, 'medium': {'w': 373, 'h': 185, 'resize': 'fit'}}}]}, 'metadata': {'iso_language_code': 'en', 'result_type': 'recent'}, 'source': '<a href=\"http://twitter.com/download/android\" rel=\"nofollow\">Twitter for Android</a>', 'in_reply_to_status_id': 1322053695568113665, 'in_reply_to_status_id_str': '1322053695568113665', 'in_reply_to_user_id': 1160604591810994176, 'in_reply_to_user_id_str': '1160604591810994176', 'in_reply_to_screen_name': 'AdityaGameDev', 'user': {'id': 1271807677920735232, 'id_str': '1271807677920735232', 'name': 'YAKSH BARIYA 👨\\u200d💻', 'screen_name': 'CodingThunder', 'location': 'INDIA', 'description': '🇮🇳\\nI create amazing things using the knowledge I have gained so far. \\n\\nWe all are learning till our last breath....', 'url': 'https://t.co/rGa0kW7hjQ', 'entities': {'url': {'urls': [{'url': 'https://t.co/rGa0kW7hjQ', 'expanded_url': 'http://CodingThunder.hashnode.dev', 'display_url': 'CodingThunder.hashnode.dev', 'indices': [0, 23]}]}, 'description': {'urls': []}}, 'protected': False, 'followers_count': 205, 'friends_count': 51, 'listed_count': 0, 'created_at': 'Sat Jun 13 14:12:54 +0000 2020', 'favourites_count': 8140, 'utc_offset': None, 'time_zone': None, 'geo_enabled': True, 'verified': False, 'statuses_count': 1827, 'lang': None, 'contributors_enabled': False, 'is_translator': False, 'is_translation_enabled': False, 'profile_background_color': 'F5F8FA', 'profile_background_image_url': None, 'profile_background_image_url_https': None, 'profile_background_tile': False, 'profile_image_url': 'http://pbs.twimg.com/profile_images/1297087479510478848/rkmugKKp_normal.jpg', 'profile_image_url_https': 'https://pbs.twimg.com/profile_images/1297087479510478848/rkmugKKp_normal.jpg', 'profile_banner_url': 'https://pbs.twimg.com/profile_banners/1271807677920735232/1596895841', 'profile_link_color': '1DA1F2', 'profile_sidebar_border_color': 'C0DEED', 'profile_sidebar_fill_color': 'DDEEF6', 'profile_text_color': '333333', 'profile_use_background_image': True, 'has_extended_profile': False, 'default_profile': True, 'default_profile_image': False, 'following': False, 'follow_request_sent': False, 'notifications': False, 'translator_type': 'none'}, 'geo': None, 'coordinates': None, 'place': None, 'contributors': None, 'is_quote_status': False, 'retweet_count': 0, 'favorite_count': 2, 'favorited': False, 'retweeted': False, 'possibly_sensitive': False, 'lang': 'en'}, created_at=datetime.datetime(2020, 10, 30, 8, 21, 13), id=1322091171024232450, id_str='1322091171024232450', full_text='@AdityaGameDev @ritvikdubey27 @Deepak_python Wikipedia is not always correct\\n\\n@Wikipedia, HTML is not a programming language https://t.co/KYzgZJw8Hq', truncated=False, display_text_range=[45, 124], entities={'hashtags': [], 'symbols': [], 'user_mentions': [{'screen_name': 'AdityaGameDev', 'name': 'Aditya Chaudhary👨\\u200d💻', 'id': 1160604591810994176, 'id_str': '1160604591810994176', 'indices': [0, 14]}, {'screen_name': 'ritvikdubey27', 'name': 'Ritvik Dubey', 'id': 1142137768891437057, 'id_str': '1142137768891437057', 'indices': [15, 29]}, {'screen_name': 'Deepak_python', 'name': 'Deepak', 'id': 1279336059348717568, 'id_str': '1279336059348717568', 'indices': [30, 44]}, {'screen_name': 'Wikipedia', 'name': 'Wikipedia', 'id': 86390214, 'id_str': '86390214', 'indices': [78, 88]}], 'urls': [], 'media': [{'id': 1322091168209854465, 'id_str': '1322091168209854465', 'indices': [125, 148], 'media_url': 'http://pbs.twimg.com/media/ElkC6anUYAEUSzH.jpg', 'media_url_https': 'https://pbs.twimg.com/media/ElkC6anUYAEUSzH.jpg', 'url': 'https://t.co/KYzgZJw8Hq', 'display_url': 'pic.twitter.com/KYzgZJw8Hq', 'expanded_url': 'https://twitter.com/CodingThunder/status/1322091171024232450/photo/1', 'type': 'photo', 'sizes': {'large': {'w': 373, 'h': 185, 'resize': 'fit'}, 'thumb': {'w': 150, 'h': 150, 'resize': 'crop'}, 'small': {'w': 373, 'h': 185, 'resize': 'fit'}, 'medium': {'w': 373, 'h': 185, 'resize': 'fit'}}}]}, extended_entities={'media': [{'id': 1322091168209854465, 'id_str': '1322091168209854465', 'indices': [125, 148], 'media_url': 'http://pbs.twimg.com/media/ElkC6anUYAEUSzH.jpg', 'media_url_https': 'https://pbs.twimg.com/media/ElkC6anUYAEUSzH.jpg', 'url': 'https://t.co/KYzgZJw8Hq', 'display_url': 'pic.twitter.com/KYzgZJw8Hq', 'expanded_url': 'https://twitter.com/CodingThunder/status/1322091171024232450/photo/1', 'type': 'photo', 'sizes': {'large': {'w': 373, 'h': 185, 'resize': 'fit'}, 'thumb': {'w': 150, 'h': 150, 'resize': 'crop'}, 'small': {'w': 373, 'h': 185, 'resize': 'fit'}, 'medium': {'w': 373, 'h': 185, 'resize': 'fit'}}}]}, metadata={'iso_language_code': 'en', 'result_type': 'recent'}, source='Twitter for Android', source_url='http://twitter.com/download/android', in_reply_to_status_id=1322053695568113665, in_reply_to_status_id_str='1322053695568113665', in_reply_to_user_id=1160604591810994176, in_reply_to_user_id_str='1160604591810994176', in_reply_to_screen_name='AdityaGameDev', author=User(_api=<tweepy.api.API object at 0x000001650834A2E8>, _json={'id': 1271807677920735232, 'id_str': '1271807677920735232', 'name': 'YAKSH BARIYA 👨\\u200d💻', 'screen_name': 'CodingThunder', 'location': 'INDIA', 'description': '🇮🇳\\nI create amazing things using the knowledge I have gained so far. \\n\\nWe all are learning till our last breath....', 'url': 'https://t.co/rGa0kW7hjQ', 'entities': {'url': {'urls': [{'url': 'https://t.co/rGa0kW7hjQ', 'expanded_url': 'http://CodingThunder.hashnode.dev', 'display_url': 'CodingThunder.hashnode.dev', 'indices': [0, 23]}]}, 'description': {'urls': []}}, 'protected': False, 'followers_count': 205, 'friends_count': 51, 'listed_count': 0, 'created_at': 'Sat Jun 13 14:12:54 +0000 2020', 'favourites_count': 8140, 'utc_offset': None, 'time_zone': None, 'geo_enabled': True, 'verified': False, 'statuses_count': 1827, 'lang': None, 'contributors_enabled': False, 'is_translator': False, 'is_translation_enabled': False, 'profile_background_color': 'F5F8FA', 'profile_background_image_url': None, 'profile_background_image_url_https': None, 'profile_background_tile': False, 'profile_image_url': 'http://pbs.twimg.com/profile_images/1297087479510478848/rkmugKKp_normal.jpg', 'profile_image_url_https': 'https://pbs.twimg.com/profile_images/1297087479510478848/rkmugKKp_normal.jpg', 'profile_banner_url': 'https://pbs.twimg.com/profile_banners/1271807677920735232/1596895841', 'profile_link_color': '1DA1F2', 'profile_sidebar_border_color': 'C0DEED', 'profile_sidebar_fill_color': 'DDEEF6', 'profile_text_color': '333333', 'profile_use_background_image': True, 'has_extended_profile': False, 'default_profile': True, 'default_profile_image': False, 'following': False, 'follow_request_sent': False, 'notifications': False, 'translator_type': 'none'}, id=1271807677920735232, id_str='1271807677920735232', name='YAKSH BARIYA 👨\\u200d💻', screen_name='CodingThunder', location='INDIA', description='🇮🇳\\nI create amazing things using the knowledge I have gained so far. \\n\\nWe all are learning till our last breath....', url='https://t.co/rGa0kW7hjQ', entities={'url': {'urls': [{'url': 'https://t.co/rGa0kW7hjQ', 'expanded_url': 'http://CodingThunder.hashnode.dev', 'display_url': 'CodingThunder.hashnode.dev', 'indices': [0, 23]}]}, 'description': {'urls': []}}, protected=False, followers_count=205, friends_count=51, listed_count=0, created_at=datetime.datetime(2020, 6, 13, 14, 12, 54), favourites_count=8140, utc_offset=None, time_zone=None, geo_enabled=True, verified=False, statuses_count=1827, lang=None, contributors_enabled=False, is_translator=False, is_translation_enabled=False, profile_background_color='F5F8FA', profile_background_image_url=None, profile_background_image_url_https=None, profile_background_tile=False, profile_image_url='http://pbs.twimg.com/profile_images/1297087479510478848/rkmugKKp_normal.jpg', profile_image_url_https='https://pbs.twimg.com/profile_images/1297087479510478848/rkmugKKp_normal.jpg', profile_banner_url='https://pbs.twimg.com/profile_banners/1271807677920735232/1596895841', profile_link_color='1DA1F2', profile_sidebar_border_color='C0DEED', profile_sidebar_fill_color='DDEEF6', profile_text_color='333333', profile_use_background_image=True, has_extended_profile=False, default_profile=True, default_profile_image=False, following=False, follow_request_sent=False, notifications=False, translator_type='none'), user=User(_api=<tweepy.api.API object at 0x000001650834A2E8>, _json={'id': 1271807677920735232, 'id_str': '1271807677920735232', 'name': 'YAKSH BARIYA 👨\\u200d💻', 'screen_name': 'CodingThunder', 'location': 'INDIA', 'description': '🇮🇳\\nI create amazing things using the knowledge I have gained so far. \\n\\nWe all are learning till our last breath....', 'url': 'https://t.co/rGa0kW7hjQ', 'entities': {'url': {'urls': [{'url': 'https://t.co/rGa0kW7hjQ', 'expanded_url': 'http://CodingThunder.hashnode.dev', 'display_url': 'CodingThunder.hashnode.dev', 'indices': [0, 23]}]}, 'description': {'urls': []}}, 'protected': False, 'followers_count': 205, 'friends_count': 51, 'listed_count': 0, 'created_at': 'Sat Jun 13 14:12:54 +0000 2020', 'favourites_count': 8140, 'utc_offset': None, 'time_zone': None, 'geo_enabled': True, 'verified': False, 'statuses_count': 1827, 'lang': None, 'contributors_enabled': False, 'is_translator': False, 'is_translation_enabled': False, 'profile_background_color': 'F5F8FA', 'profile_background_image_url': None, 'profile_background_image_url_https': None, 'profile_background_tile': False, 'profile_image_url': 'http://pbs.twimg.com/profile_images/1297087479510478848/rkmugKKp_normal.jpg', 'profile_image_url_https': 'https://pbs.twimg.com/profile_images/1297087479510478848/rkmugKKp_normal.jpg', 'profile_banner_url': 'https://pbs.twimg.com/profile_banners/1271807677920735232/1596895841', 'profile_link_color': '1DA1F2', 'profile_sidebar_border_color': 'C0DEED', 'profile_sidebar_fill_color': 'DDEEF6', 'profile_text_color': '333333', 'profile_use_background_image': True, 'has_extended_profile': False, 'default_profile': True, 'default_profile_image': False, 'following': False, 'follow_request_sent': False, 'notifications': False, 'translator_type': 'none'}, id=1271807677920735232, id_str='1271807677920735232', name='YAKSH BARIYA 👨\\u200d💻', screen_name='CodingThunder', location='INDIA', description='🇮🇳\\nI create amazing things using the knowledge I have gained so far. \\n\\nWe all are learning till our last breath....', url='https://t.co/rGa0kW7hjQ', entities={'url': {'urls': [{'url': 'https://t.co/rGa0kW7hjQ', 'expanded_url': 'http://CodingThunder.hashnode.dev', 'display_url': 'CodingThunder.hashnode.dev', 'indices': [0, 23]}]}, 'description': {'urls': []}}, protected=False, followers_count=205, friends_count=51, listed_count=0, created_at=datetime.datetime(2020, 6, 13, 14, 12, 54), favourites_count=8140, utc_offset=None, time_zone=None, geo_enabled=True, verified=False, statuses_count=1827, lang=None, contributors_enabled=False, is_translator=False, is_translation_enabled=False, profile_background_color='F5F8FA', profile_background_image_url=None, profile_background_image_url_https=None, profile_background_tile=False, profile_image_url='http://pbs.twimg.com/profile_images/1297087479510478848/rkmugKKp_normal.jpg', profile_image_url_https='https://pbs.twimg.com/profile_images/1297087479510478848/rkmugKKp_normal.jpg', profile_banner_url='https://pbs.twimg.com/profile_banners/1271807677920735232/1596895841', profile_link_color='1DA1F2', profile_sidebar_border_color='C0DEED', profile_sidebar_fill_color='DDEEF6', profile_text_color='333333', profile_use_background_image=True, has_extended_profile=False, default_profile=True, default_profile_image=False, following=False, follow_request_sent=False, notifications=False, translator_type='none'), geo=None, coordinates=None, place=None, contributors=None, is_quote_status=False, retweet_count=0, favorite_count=2, favorited=False, retweeted=False, possibly_sensitive=False, lang='en') \n",
      "\n",
      ".....................................\n",
      "\n"
     ]
    }
   ],
   "source": [
    "Tweets = api.search( query , count=10 , lang='en' , exclude='retweets' , tweet_mode='extended' )\n",
    "# tweet_mode='extended'\n",
    "# tweet_mode='compat'\n",
    "\n",
    "for tweet in Tweets:\n",
    "    print(tweet,\"\\n\")\n",
    "    print(\".....................................\\n\")"
   ]
  },
  {
   "cell_type": "code",
   "execution_count": 137,
   "metadata": {},
   "outputs": [
    {
     "name": "stdout",
     "output_type": "stream",
     "text": [
      "Empty DataFrame\n",
      "Columns: [Tweets, User, User_statuses_count, user_followers, User_location, User_verified, fav_count, rt_count, tweet_date]\n",
      "Index: []\n"
     ]
    }
   ],
   "source": [
    "df = pd.DataFrame(columns = ['Tweets' , 'User' , 'User_statuses_count' , \n",
    "                            'user_followers' , 'User_location' , 'User_verified' ,\n",
    "                            'fav_count' , 'rt_count' , 'tweet_date'] )\n",
    "print(df)\n",
    "# print(df.shape)"
   ]
  },
  {
   "cell_type": "code",
   "execution_count": 154,
   "metadata": {},
   "outputs": [],
   "source": [
    "def stream(data, file_name):\n",
    "    i = 0\n",
    "    for tweet in tweepy.Cursor(api.search, q=data, count=100, lang='en').items():\n",
    "        print(i, end='\\r')\n",
    "        df.loc[i, 'Tweets'] = tweet.text\n",
    "        df.loc[i, 'User'] = tweet.user.name\n",
    "        df.loc[i, 'User_statuses_count'] = tweet.user.statuses_count\n",
    "        df.loc[i, 'user_followers'] = tweet.user.followers_count\n",
    "        df.loc[i, 'User_location'] = tweet.user.location\n",
    "        df.loc[i, 'User_verified'] = tweet.user.verified\n",
    "        df.loc[i, 'fav_count'] = tweet.favorite_count\n",
    "        df.loc[i, 'rt_count'] = tweet.retweet_count\n",
    "        df.loc[i, 'tweet_date'] = tweet.created_at\n",
    "        df.to_excel('{}.xlsx'.format(file_name))\n",
    "        i = i+1\n",
    "        if i == 2000:\n",
    "            break\n",
    "        else:\n",
    "            pass"
   ]
  },
  {
   "cell_type": "code",
   "execution_count": 155,
   "metadata": {},
   "outputs": [
    {
     "name": "stdout",
     "output_type": "stream",
     "text": [
      "1999\r"
     ]
    }
   ],
   "source": [
    "df=pd.DataFrame()\n",
    "stream(data=[\"Python language\"] , file_name='my_tweets')"
   ]
  },
  {
   "cell_type": "code",
   "execution_count": 156,
   "metadata": {},
   "outputs": [
    {
     "data": {
      "text/html": [
       "<div>\n",
       "<style scoped>\n",
       "    .dataframe tbody tr th:only-of-type {\n",
       "        vertical-align: middle;\n",
       "    }\n",
       "\n",
       "    .dataframe tbody tr th {\n",
       "        vertical-align: top;\n",
       "    }\n",
       "\n",
       "    .dataframe thead th {\n",
       "        text-align: right;\n",
       "    }\n",
       "</style>\n",
       "<table border=\"1\" class=\"dataframe\">\n",
       "  <thead>\n",
       "    <tr style=\"text-align: right;\">\n",
       "      <th></th>\n",
       "      <th>Tweets</th>\n",
       "      <th>User</th>\n",
       "      <th>User_statuses_count</th>\n",
       "      <th>user_followers</th>\n",
       "      <th>User_location</th>\n",
       "      <th>User_verified</th>\n",
       "      <th>fav_count</th>\n",
       "      <th>rt_count</th>\n",
       "      <th>tweet_date</th>\n",
       "    </tr>\n",
       "  </thead>\n",
       "  <tbody>\n",
       "    <tr>\n",
       "      <th>0</th>\n",
       "      <td>RT @RandiAthenas: Ƹ̵̡Ӝ̵̨̄Ʒ●●✯✮❉♥ WOW! ♥❉✮✯●Ƹ̵̡...</td>\n",
       "      <td>PythonProgrammingHub_Bot</td>\n",
       "      <td>10343.0</td>\n",
       "      <td>151.0</td>\n",
       "      <td></td>\n",
       "      <td>False</td>\n",
       "      <td>0.0</td>\n",
       "      <td>5.0</td>\n",
       "      <td>2020-10-30 09:06:22</td>\n",
       "    </tr>\n",
       "    <tr>\n",
       "      <th>1</th>\n",
       "      <td>RT @RandiAthenas: Ƹ̵̡Ӝ̵̨̄Ʒ●●✯✮❉♥ WOW! ♥❉✮✯●Ƹ̵̡...</td>\n",
       "      <td>Aaron ''Midlife Coder'' Cuddeback</td>\n",
       "      <td>999301.0</td>\n",
       "      <td>14879.0</td>\n",
       "      <td>Sacramento, CA</td>\n",
       "      <td>False</td>\n",
       "      <td>0.0</td>\n",
       "      <td>5.0</td>\n",
       "      <td>2020-10-30 09:06:21</td>\n",
       "    </tr>\n",
       "    <tr>\n",
       "      <th>2</th>\n",
       "      <td>RT @RandiAthenas: Ƹ̵̡Ӝ̵̨̄Ʒ●●✯✮❉♥ WOW! ♥❉✮✯●Ƹ̵̡...</td>\n",
       "      <td>Eric Brooks</td>\n",
       "      <td>17317.0</td>\n",
       "      <td>9751.0</td>\n",
       "      <td>Hershey, PA</td>\n",
       "      <td>False</td>\n",
       "      <td>0.0</td>\n",
       "      <td>5.0</td>\n",
       "      <td>2020-10-30 09:04:48</td>\n",
       "    </tr>\n",
       "    <tr>\n",
       "      <th>3</th>\n",
       "      <td>Ƹ̵̡Ӝ̵̨̄Ʒ●●✯✮❉♥ WOW! ♥❉✮✯●Ƹ̵̡Ӝ̵̨̄Ʒ ♦ 40 Algorit...</td>\n",
       "      <td>Randi Athenas</td>\n",
       "      <td>48090.0</td>\n",
       "      <td>25677.0</td>\n",
       "      <td>CyberTown, CA</td>\n",
       "      <td>False</td>\n",
       "      <td>1.0</td>\n",
       "      <td>5.0</td>\n",
       "      <td>2020-10-30 09:03:03</td>\n",
       "    </tr>\n",
       "    <tr>\n",
       "      <th>4</th>\n",
       "      <td>RT @GraphqlTrends: Pragma: A Language for Buil...</td>\n",
       "      <td>Gnuts about Code</td>\n",
       "      <td>433535.0</td>\n",
       "      <td>2901.0</td>\n",
       "      <td></td>\n",
       "      <td>False</td>\n",
       "      <td>0.0</td>\n",
       "      <td>6.0</td>\n",
       "      <td>2020-10-30 09:01:35</td>\n",
       "    </tr>\n",
       "  </tbody>\n",
       "</table>\n",
       "</div>"
      ],
      "text/plain": [
       "                                              Tweets  \\\n",
       "0  RT @RandiAthenas: Ƹ̵̡Ӝ̵̨̄Ʒ●●✯✮❉♥ WOW! ♥❉✮✯●Ƹ̵̡...   \n",
       "1  RT @RandiAthenas: Ƹ̵̡Ӝ̵̨̄Ʒ●●✯✮❉♥ WOW! ♥❉✮✯●Ƹ̵̡...   \n",
       "2  RT @RandiAthenas: Ƹ̵̡Ӝ̵̨̄Ʒ●●✯✮❉♥ WOW! ♥❉✮✯●Ƹ̵̡...   \n",
       "3  Ƹ̵̡Ӝ̵̨̄Ʒ●●✯✮❉♥ WOW! ♥❉✮✯●Ƹ̵̡Ӝ̵̨̄Ʒ ♦ 40 Algorit...   \n",
       "4  RT @GraphqlTrends: Pragma: A Language for Buil...   \n",
       "\n",
       "                                User  User_statuses_count  user_followers  \\\n",
       "0           PythonProgrammingHub_Bot              10343.0           151.0   \n",
       "1  Aaron ''Midlife Coder'' Cuddeback             999301.0         14879.0   \n",
       "2                        Eric Brooks              17317.0          9751.0   \n",
       "3                      Randi Athenas              48090.0         25677.0   \n",
       "4                   Gnuts about Code             433535.0          2901.0   \n",
       "\n",
       "    User_location User_verified  fav_count  rt_count          tweet_date  \n",
       "0                         False        0.0       5.0 2020-10-30 09:06:22  \n",
       "1  Sacramento, CA         False        0.0       5.0 2020-10-30 09:06:21  \n",
       "2     Hershey, PA         False        0.0       5.0 2020-10-30 09:04:48  \n",
       "3   CyberTown, CA         False        1.0       5.0 2020-10-30 09:03:03  \n",
       "4                         False        0.0       6.0 2020-10-30 09:01:35  "
      ]
     },
     "execution_count": 156,
     "metadata": {},
     "output_type": "execute_result"
    }
   ],
   "source": [
    "df.head()"
   ]
  },
  {
   "cell_type": "markdown",
   "metadata": {},
   "source": [
    "Sentiment(polarity, subjectivity)\n",
    "\n",
    "Polarity score: [-1 , +1]\n",
    "\n",
    "Subjectivity: [0.0 , 1.0] \n",
    "where 0.0 is very Objective and 1.0 is very Subjective."
   ]
  },
  {
   "cell_type": "code",
   "execution_count": 157,
   "metadata": {},
   "outputs": [],
   "source": [
    "# Blob:- binary large object file/text\n",
    "# Clob:- Character large object \n",
    "from textblob import TextBlob"
   ]
  },
  {
   "cell_type": "code",
   "execution_count": 158,
   "metadata": {},
   "outputs": [],
   "source": [
    "import re   # re:- Regular Expression\n",
    "def clean_tweet(tweet):\n",
    "    return ' '.join(re.sub('(@[A-Za-z0-9]+)|([^0-9A-Za-z \\t])|(\\w+:\\/\\/\\S+)', ' ', tweet).split())"
   ]
  },
  {
   "cell_type": "code",
   "execution_count": 159,
   "metadata": {},
   "outputs": [],
   "source": [
    "def analyze_sentiment(tweet):\n",
    "    analysis = TextBlob(tweet)\n",
    "    if analysis.sentiment.polarity > 0:\n",
    "        return 'Positive'\n",
    "    elif analysis.sentiment.polarity == 0:\n",
    "        return 'Neutral'\n",
    "    else:\n",
    "        return 'Negative'"
   ]
  },
  {
   "cell_type": "code",
   "execution_count": 160,
   "metadata": {},
   "outputs": [],
   "source": [
    "df[\"clean_tweet\"]=df[\"Tweets\"].apply(lambda x: clean_tweet(x))"
   ]
  },
  {
   "cell_type": "code",
   "execution_count": 161,
   "metadata": {},
   "outputs": [
    {
     "data": {
      "text/html": [
       "<div>\n",
       "<style scoped>\n",
       "    .dataframe tbody tr th:only-of-type {\n",
       "        vertical-align: middle;\n",
       "    }\n",
       "\n",
       "    .dataframe tbody tr th {\n",
       "        vertical-align: top;\n",
       "    }\n",
       "\n",
       "    .dataframe thead th {\n",
       "        text-align: right;\n",
       "    }\n",
       "</style>\n",
       "<table border=\"1\" class=\"dataframe\">\n",
       "  <thead>\n",
       "    <tr style=\"text-align: right;\">\n",
       "      <th></th>\n",
       "      <th>Tweets</th>\n",
       "      <th>User</th>\n",
       "      <th>User_statuses_count</th>\n",
       "      <th>user_followers</th>\n",
       "      <th>User_location</th>\n",
       "      <th>User_verified</th>\n",
       "      <th>fav_count</th>\n",
       "      <th>rt_count</th>\n",
       "      <th>tweet_date</th>\n",
       "      <th>clean_tweet</th>\n",
       "    </tr>\n",
       "  </thead>\n",
       "  <tbody>\n",
       "    <tr>\n",
       "      <th>0</th>\n",
       "      <td>RT @RandiAthenas: Ƹ̵̡Ӝ̵̨̄Ʒ●●✯✮❉♥ WOW! ♥❉✮✯●Ƹ̵̡...</td>\n",
       "      <td>PythonProgrammingHub_Bot</td>\n",
       "      <td>10343.0</td>\n",
       "      <td>151.0</td>\n",
       "      <td></td>\n",
       "      <td>False</td>\n",
       "      <td>0.0</td>\n",
       "      <td>5.0</td>\n",
       "      <td>2020-10-30 09:06:22</td>\n",
       "      <td>RT WOW 40 Algorithms Every Programmer Should K...</td>\n",
       "    </tr>\n",
       "    <tr>\n",
       "      <th>1</th>\n",
       "      <td>RT @RandiAthenas: Ƹ̵̡Ӝ̵̨̄Ʒ●●✯✮❉♥ WOW! ♥❉✮✯●Ƹ̵̡...</td>\n",
       "      <td>Aaron ''Midlife Coder'' Cuddeback</td>\n",
       "      <td>999301.0</td>\n",
       "      <td>14879.0</td>\n",
       "      <td>Sacramento, CA</td>\n",
       "      <td>False</td>\n",
       "      <td>0.0</td>\n",
       "      <td>5.0</td>\n",
       "      <td>2020-10-30 09:06:21</td>\n",
       "      <td>RT WOW 40 Algorithms Every Programmer Should K...</td>\n",
       "    </tr>\n",
       "    <tr>\n",
       "      <th>2</th>\n",
       "      <td>RT @RandiAthenas: Ƹ̵̡Ӝ̵̨̄Ʒ●●✯✮❉♥ WOW! ♥❉✮✯●Ƹ̵̡...</td>\n",
       "      <td>Eric Brooks</td>\n",
       "      <td>17317.0</td>\n",
       "      <td>9751.0</td>\n",
       "      <td>Hershey, PA</td>\n",
       "      <td>False</td>\n",
       "      <td>0.0</td>\n",
       "      <td>5.0</td>\n",
       "      <td>2020-10-30 09:04:48</td>\n",
       "      <td>RT WOW 40 Algorithms Every Programmer Should K...</td>\n",
       "    </tr>\n",
       "    <tr>\n",
       "      <th>3</th>\n",
       "      <td>Ƹ̵̡Ӝ̵̨̄Ʒ●●✯✮❉♥ WOW! ♥❉✮✯●Ƹ̵̡Ӝ̵̨̄Ʒ ♦ 40 Algorit...</td>\n",
       "      <td>Randi Athenas</td>\n",
       "      <td>48090.0</td>\n",
       "      <td>25677.0</td>\n",
       "      <td>CyberTown, CA</td>\n",
       "      <td>False</td>\n",
       "      <td>1.0</td>\n",
       "      <td>5.0</td>\n",
       "      <td>2020-10-30 09:03:03</td>\n",
       "      <td>WOW 40 Algorithms Every Programmer Should Know...</td>\n",
       "    </tr>\n",
       "    <tr>\n",
       "      <th>4</th>\n",
       "      <td>RT @GraphqlTrends: Pragma: A Language for Buil...</td>\n",
       "      <td>Gnuts about Code</td>\n",
       "      <td>433535.0</td>\n",
       "      <td>2901.0</td>\n",
       "      <td></td>\n",
       "      <td>False</td>\n",
       "      <td>0.0</td>\n",
       "      <td>6.0</td>\n",
       "      <td>2020-10-30 09:01:35</td>\n",
       "      <td>RT Pragma A Language for Building GraphQL APIs...</td>\n",
       "    </tr>\n",
       "  </tbody>\n",
       "</table>\n",
       "</div>"
      ],
      "text/plain": [
       "                                              Tweets  \\\n",
       "0  RT @RandiAthenas: Ƹ̵̡Ӝ̵̨̄Ʒ●●✯✮❉♥ WOW! ♥❉✮✯●Ƹ̵̡...   \n",
       "1  RT @RandiAthenas: Ƹ̵̡Ӝ̵̨̄Ʒ●●✯✮❉♥ WOW! ♥❉✮✯●Ƹ̵̡...   \n",
       "2  RT @RandiAthenas: Ƹ̵̡Ӝ̵̨̄Ʒ●●✯✮❉♥ WOW! ♥❉✮✯●Ƹ̵̡...   \n",
       "3  Ƹ̵̡Ӝ̵̨̄Ʒ●●✯✮❉♥ WOW! ♥❉✮✯●Ƹ̵̡Ӝ̵̨̄Ʒ ♦ 40 Algorit...   \n",
       "4  RT @GraphqlTrends: Pragma: A Language for Buil...   \n",
       "\n",
       "                                User  User_statuses_count  user_followers  \\\n",
       "0           PythonProgrammingHub_Bot              10343.0           151.0   \n",
       "1  Aaron ''Midlife Coder'' Cuddeback             999301.0         14879.0   \n",
       "2                        Eric Brooks              17317.0          9751.0   \n",
       "3                      Randi Athenas              48090.0         25677.0   \n",
       "4                   Gnuts about Code             433535.0          2901.0   \n",
       "\n",
       "    User_location User_verified  fav_count  rt_count          tweet_date  \\\n",
       "0                         False        0.0       5.0 2020-10-30 09:06:22   \n",
       "1  Sacramento, CA         False        0.0       5.0 2020-10-30 09:06:21   \n",
       "2     Hershey, PA         False        0.0       5.0 2020-10-30 09:04:48   \n",
       "3   CyberTown, CA         False        1.0       5.0 2020-10-30 09:03:03   \n",
       "4                         False        0.0       6.0 2020-10-30 09:01:35   \n",
       "\n",
       "                                         clean_tweet  \n",
       "0  RT WOW 40 Algorithms Every Programmer Should K...  \n",
       "1  RT WOW 40 Algorithms Every Programmer Should K...  \n",
       "2  RT WOW 40 Algorithms Every Programmer Should K...  \n",
       "3  WOW 40 Algorithms Every Programmer Should Know...  \n",
       "4  RT Pragma A Language for Building GraphQL APIs...  "
      ]
     },
     "execution_count": 161,
     "metadata": {},
     "output_type": "execute_result"
    }
   ],
   "source": [
    "df.head()"
   ]
  },
  {
   "cell_type": "code",
   "execution_count": 162,
   "metadata": {},
   "outputs": [
    {
     "data": {
      "text/html": [
       "<div>\n",
       "<style scoped>\n",
       "    .dataframe tbody tr th:only-of-type {\n",
       "        vertical-align: middle;\n",
       "    }\n",
       "\n",
       "    .dataframe tbody tr th {\n",
       "        vertical-align: top;\n",
       "    }\n",
       "\n",
       "    .dataframe thead th {\n",
       "        text-align: right;\n",
       "    }\n",
       "</style>\n",
       "<table border=\"1\" class=\"dataframe\">\n",
       "  <thead>\n",
       "    <tr style=\"text-align: right;\">\n",
       "      <th></th>\n",
       "      <th>Tweets</th>\n",
       "      <th>User</th>\n",
       "      <th>User_statuses_count</th>\n",
       "      <th>user_followers</th>\n",
       "      <th>User_location</th>\n",
       "      <th>User_verified</th>\n",
       "      <th>fav_count</th>\n",
       "      <th>rt_count</th>\n",
       "      <th>tweet_date</th>\n",
       "      <th>clean_tweet</th>\n",
       "      <th>Sentiment</th>\n",
       "    </tr>\n",
       "  </thead>\n",
       "  <tbody>\n",
       "    <tr>\n",
       "      <th>0</th>\n",
       "      <td>RT @RandiAthenas: Ƹ̵̡Ӝ̵̨̄Ʒ●●✯✮❉♥ WOW! ♥❉✮✯●Ƹ̵̡...</td>\n",
       "      <td>PythonProgrammingHub_Bot</td>\n",
       "      <td>10343.0</td>\n",
       "      <td>151.0</td>\n",
       "      <td></td>\n",
       "      <td>False</td>\n",
       "      <td>0.0</td>\n",
       "      <td>5.0</td>\n",
       "      <td>2020-10-30 09:06:22</td>\n",
       "      <td>RT WOW 40 Algorithms Every Programmer Should K...</td>\n",
       "      <td>Positive</td>\n",
       "    </tr>\n",
       "    <tr>\n",
       "      <th>1</th>\n",
       "      <td>RT @RandiAthenas: Ƹ̵̡Ӝ̵̨̄Ʒ●●✯✮❉♥ WOW! ♥❉✮✯●Ƹ̵̡...</td>\n",
       "      <td>Aaron ''Midlife Coder'' Cuddeback</td>\n",
       "      <td>999301.0</td>\n",
       "      <td>14879.0</td>\n",
       "      <td>Sacramento, CA</td>\n",
       "      <td>False</td>\n",
       "      <td>0.0</td>\n",
       "      <td>5.0</td>\n",
       "      <td>2020-10-30 09:06:21</td>\n",
       "      <td>RT WOW 40 Algorithms Every Programmer Should K...</td>\n",
       "      <td>Positive</td>\n",
       "    </tr>\n",
       "    <tr>\n",
       "      <th>2</th>\n",
       "      <td>RT @RandiAthenas: Ƹ̵̡Ӝ̵̨̄Ʒ●●✯✮❉♥ WOW! ♥❉✮✯●Ƹ̵̡...</td>\n",
       "      <td>Eric Brooks</td>\n",
       "      <td>17317.0</td>\n",
       "      <td>9751.0</td>\n",
       "      <td>Hershey, PA</td>\n",
       "      <td>False</td>\n",
       "      <td>0.0</td>\n",
       "      <td>5.0</td>\n",
       "      <td>2020-10-30 09:04:48</td>\n",
       "      <td>RT WOW 40 Algorithms Every Programmer Should K...</td>\n",
       "      <td>Positive</td>\n",
       "    </tr>\n",
       "    <tr>\n",
       "      <th>3</th>\n",
       "      <td>Ƹ̵̡Ӝ̵̨̄Ʒ●●✯✮❉♥ WOW! ♥❉✮✯●Ƹ̵̡Ӝ̵̨̄Ʒ ♦ 40 Algorit...</td>\n",
       "      <td>Randi Athenas</td>\n",
       "      <td>48090.0</td>\n",
       "      <td>25677.0</td>\n",
       "      <td>CyberTown, CA</td>\n",
       "      <td>False</td>\n",
       "      <td>1.0</td>\n",
       "      <td>5.0</td>\n",
       "      <td>2020-10-30 09:03:03</td>\n",
       "      <td>WOW 40 Algorithms Every Programmer Should Know...</td>\n",
       "      <td>Positive</td>\n",
       "    </tr>\n",
       "    <tr>\n",
       "      <th>4</th>\n",
       "      <td>RT @GraphqlTrends: Pragma: A Language for Buil...</td>\n",
       "      <td>Gnuts about Code</td>\n",
       "      <td>433535.0</td>\n",
       "      <td>2901.0</td>\n",
       "      <td></td>\n",
       "      <td>False</td>\n",
       "      <td>0.0</td>\n",
       "      <td>6.0</td>\n",
       "      <td>2020-10-30 09:01:35</td>\n",
       "      <td>RT Pragma A Language for Building GraphQL APIs...</td>\n",
       "      <td>Neutral</td>\n",
       "    </tr>\n",
       "  </tbody>\n",
       "</table>\n",
       "</div>"
      ],
      "text/plain": [
       "                                              Tweets  \\\n",
       "0  RT @RandiAthenas: Ƹ̵̡Ӝ̵̨̄Ʒ●●✯✮❉♥ WOW! ♥❉✮✯●Ƹ̵̡...   \n",
       "1  RT @RandiAthenas: Ƹ̵̡Ӝ̵̨̄Ʒ●●✯✮❉♥ WOW! ♥❉✮✯●Ƹ̵̡...   \n",
       "2  RT @RandiAthenas: Ƹ̵̡Ӝ̵̨̄Ʒ●●✯✮❉♥ WOW! ♥❉✮✯●Ƹ̵̡...   \n",
       "3  Ƹ̵̡Ӝ̵̨̄Ʒ●●✯✮❉♥ WOW! ♥❉✮✯●Ƹ̵̡Ӝ̵̨̄Ʒ ♦ 40 Algorit...   \n",
       "4  RT @GraphqlTrends: Pragma: A Language for Buil...   \n",
       "\n",
       "                                User  User_statuses_count  user_followers  \\\n",
       "0           PythonProgrammingHub_Bot              10343.0           151.0   \n",
       "1  Aaron ''Midlife Coder'' Cuddeback             999301.0         14879.0   \n",
       "2                        Eric Brooks              17317.0          9751.0   \n",
       "3                      Randi Athenas              48090.0         25677.0   \n",
       "4                   Gnuts about Code             433535.0          2901.0   \n",
       "\n",
       "    User_location User_verified  fav_count  rt_count          tweet_date  \\\n",
       "0                         False        0.0       5.0 2020-10-30 09:06:22   \n",
       "1  Sacramento, CA         False        0.0       5.0 2020-10-30 09:06:21   \n",
       "2     Hershey, PA         False        0.0       5.0 2020-10-30 09:04:48   \n",
       "3   CyberTown, CA         False        1.0       5.0 2020-10-30 09:03:03   \n",
       "4                         False        0.0       6.0 2020-10-30 09:01:35   \n",
       "\n",
       "                                         clean_tweet Sentiment  \n",
       "0  RT WOW 40 Algorithms Every Programmer Should K...  Positive  \n",
       "1  RT WOW 40 Algorithms Every Programmer Should K...  Positive  \n",
       "2  RT WOW 40 Algorithms Every Programmer Should K...  Positive  \n",
       "3  WOW 40 Algorithms Every Programmer Should Know...  Positive  \n",
       "4  RT Pragma A Language for Building GraphQL APIs...   Neutral  "
      ]
     },
     "execution_count": 162,
     "metadata": {},
     "output_type": "execute_result"
    }
   ],
   "source": [
    "df['Sentiment'] = df['clean_tweet'].apply(lambda x : analyze_sentiment(x) )\n",
    "df.head()"
   ]
  },
  {
   "cell_type": "code",
   "execution_count": 163,
   "metadata": {},
   "outputs": [],
   "source": [
    "df.to_csv(\"python_Sentiment_Analysis.csv\")"
   ]
  },
  {
   "cell_type": "code",
   "execution_count": 164,
   "metadata": {},
   "outputs": [
    {
     "name": "stdout",
     "output_type": "stream",
     "text": [
      "Original tweet:\n",
      " RT @RandiAthenas: Ƹ̵̡Ӝ̵̨̄Ʒ●●✯✮❉♥ WOW! ♥❉✮✯●Ƹ̵̡Ӝ̵̨̄Ʒ ♦ 40 Algorithms Every Programmer Should Know: Hone your problem-solving skills by learn…\n",
      "\n",
      "Clean tweet:\n",
      " RT WOW 40 Algorithms Every Programmer Should Know Hone your problem solving skills by learn\n",
      "\n",
      "Sentiment of the tweet:\n",
      " Positive\n"
     ]
    }
   ],
   "source": [
    "n = 1\n",
    "print(\"Original tweet:\\n\",df[\"Tweets\"][n])\n",
    "print()\n",
    "print(\"Clean tweet:\\n\",df[\"clean_tweet\"][n])\n",
    "print()\n",
    "print(\"Sentiment of the tweet:\\n\",df[\"Sentiment\"][n])"
   ]
  },
  {
   "cell_type": "code",
   "execution_count": 165,
   "metadata": {},
   "outputs": [
    {
     "name": "stdout",
     "output_type": "stream",
     "text": [
      "1999\n",
      "Original tweet:\n",
      " RT @amigoshubIN: (1/2) Some people think machine learning can only be implemented using Python, but no, you can actually implement machine…\n",
      "\n",
      "Clean tweet:\n",
      " RT 1 2 Some people think machine learning can only be implemented using Python but no you can actually implement machine\n",
      "\n",
      "Sentiment of the tweet:\n",
      " Neutral\n"
     ]
    }
   ],
   "source": [
    "n = df.shape[0]-1\n",
    "print(n)\n",
    "print(\"Original tweet:\\n\",df[\"Tweets\"][n])\n",
    "print()\n",
    "print(\"Clean tweet:\\n\",df[\"clean_tweet\"][n])\n",
    "print()\n",
    "print(\"Sentiment of the tweet:\\n\",df[\"Sentiment\"][n])"
   ]
  },
  {
   "cell_type": "code",
   "execution_count": 166,
   "metadata": {},
   "outputs": [
    {
     "data": {
      "text/plain": [
       "(1119, 11)"
      ]
     },
     "execution_count": 166,
     "metadata": {},
     "output_type": "execute_result"
    }
   ],
   "source": [
    "df[df.Sentiment == \"Positive\"].shape"
   ]
  },
  {
   "cell_type": "code",
   "execution_count": 167,
   "metadata": {},
   "outputs": [
    {
     "name": "stdout",
     "output_type": "stream",
     "text": [
      "Positive:-  1119\n",
      "Neutral:-  732\n",
      "Negative:-  149\n"
     ]
    }
   ],
   "source": [
    "print(\"Positive:- \",df[df.Sentiment == \"Positive\"].shape[0])\n",
    "print(\"Neutral:- \",df[df.Sentiment == \"Neutral\"].shape[0])\n",
    "print(\"Negative:- \",df[df.Sentiment == \"Negative\"].shape[0])"
   ]
  },
  {
   "cell_type": "markdown",
   "metadata": {},
   "source": [
    "#### This Analysis in the favour of Python language. "
   ]
  },
  {
   "cell_type": "code",
   "execution_count": null,
   "metadata": {},
   "outputs": [],
   "source": []
  }
 ],
 "metadata": {
  "kernelspec": {
   "display_name": "Python 3",
   "language": "python",
   "name": "python3"
  },
  "language_info": {
   "codemirror_mode": {
    "name": "ipython",
    "version": 3
   },
   "file_extension": ".py",
   "mimetype": "text/x-python",
   "name": "python",
   "nbconvert_exporter": "python",
   "pygments_lexer": "ipython3",
   "version": "3.7.0"
  }
 },
 "nbformat": 4,
 "nbformat_minor": 2
}

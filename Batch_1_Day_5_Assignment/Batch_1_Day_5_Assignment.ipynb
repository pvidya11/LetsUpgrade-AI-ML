{
 "cells": [
  {
   "cell_type": "markdown",
   "metadata": {},
   "source": [
    "## Question 1: Write a program to find first 20 non-even prime natural numbers?"
   ]
  },
  {
   "cell_type": "code",
   "execution_count": 22,
   "metadata": {},
   "outputs": [
    {
     "name": "stdout",
     "output_type": "stream",
     "text": [
      "3 5 7 11 13 17 19 23 29 31 37 41 43 47 53 59 61 67 71 73 "
     ]
    }
   ],
   "source": [
    "\n",
    "non_even_prime=1\n",
    "count=0\n",
    "while count<20:\n",
    "    is_prime=True\n",
    "    non_even_prime+=2\n",
    "    for int1 in range(3,non_even_prime,2):\n",
    "        if non_even_prime%int1==0:\n",
    "            is_prime=False\n",
    "            break\n",
    "    if non_even_prime!=0 and is_prime:\n",
    "        print(non_even_prime,end=' ')\n",
    "        count+=1"
   ]
  },
  {
   "cell_type": "markdown",
   "metadata": {},
   "source": [
    "## Question 2: Write a python program to implement 15 functions of string?"
   ]
  },
  {
   "cell_type": "code",
   "execution_count": 69,
   "metadata": {},
   "outputs": [
    {
     "name": "stdout",
     "output_type": "stream",
     "text": [
      "1.   vidy@ s@d@shiv ~munde123  .\t\n",
      "2.   VIDY@ S@D@SHIV ~MUNDE123  .\t\n",
      "3. 6\n",
      "4.   vidya sadashiv ~munde123  .\t\n",
      "5. 30\n",
      "6.   vidy@ s@d@shiv ~munde123  .\t\n",
      "7.   vidy@ s@d@shiv ~munde123  .\t\n",
      "8. 3\n",
      "9. False\n",
      "10. False\n",
      "11. True\n",
      "12. False\n",
      "13. False\n",
      "14. True\n",
      "15 vidy@ s@d@shiv ~munde123  .\t\n",
      "16   vidy@ s@d@shiv ~munde123  .\n",
      "17 vidy@ s@d@shiv ~munde123  .\n",
      "18 ['', '', 'vidy@', 's@d@shiv', '~munde123', '', '.\\t']\n",
      "15 vidy@ s@d@shiv ~munde123  .\t\n"
     ]
    }
   ],
   "source": [
    "string=\"  vidy@ s@d@shiv ~munde123  .\\t\"\n",
    "\n",
    "print(\"1.\",string.lower())\n",
    "print(\"2.\",string.upper())\n",
    "print(\"3.\",string.find(\"@\",5))\n",
    "print(\"4.\",string.replace(\"@\",\"a\"))\n",
    "print(\"5.\",len(string))\n",
    "print(\"6.\",string.capitalize())\n",
    "print(\"7.\",string.casefold())\n",
    "print(\"8.\",string.count(\"@\"))\n",
    "print(\"9.\",string.isalnum())\n",
    "print(\"10.\",string.isalpha())\n",
    "print(\"11.\",string.islower())\n",
    "print(\"12.\",string.isupper())\n",
    "print(\"13.\",string.isdigit())\n",
    "print(\"14.\",\"123\".isdigit())\n",
    "print(\"15\",string.lstrip())\n",
    "print(\"16\",string.rstrip())\n",
    "print(\"17\",string.strip())\n",
    "print(\"18\",string.split(\" \"))\n",
    "print(\"15\",string.lstrip())"
   ]
  },
  {
   "cell_type": "markdown",
   "metadata": {},
   "source": [
    "## Question 3: Write a program to check if the given string is a palindrome or Anagram or None of them display the message accordingly to the user?"
   ]
  },
  {
   "cell_type": "code",
   "execution_count": 104,
   "metadata": {},
   "outputs": [
    {
     "name": "stdout",
     "output_type": "stream",
     "text": [
      "Enter First String:- madam\n",
      "Enter Second String:- listen\n",
      "Given String string_1 'madam' is a palindrome and String_2 'listen is not a Palindrome and both are not Anagram of each other.\n"
     ]
    }
   ],
   "source": [
    "def check_palindrome(string_1):\n",
    "    if(string_1 == string_1[:: - 1]):\n",
    "        return True\n",
    "    else:\n",
    "        return False\n",
    "\n",
    "def check_Anagram(string_1,string_2):\n",
    "    if sorted(string_1)==sorted(string_2):\n",
    "        return True\n",
    "    else:\n",
    "        return False\n",
    "\n",
    "string_1=input(\"Enter First String:- \")\n",
    "string_2=input(\"Enter Second String:- \")\n",
    "if (len(string_1)>0 and len(string_2)>0):\n",
    "    if (check_palindrome(string_1) and check_palindrome(string_2) and check_Anagram(string_1,string_2)):\n",
    "        print(\"Given Both Strings string_1 '{0}' and String_2 '{1} are Palindrome and both are Anagram of each other.\".format(string_1,string_2))\n",
    "    elif (check_palindrome(string_1) and check_palindrome(string_2) and not check_Anagram(string_1,string_2)):\n",
    "        print(\"Given Both Strings string_1 '{0}' and String_2 '{1} are Palindrome and both are not Anagram of each other.\".format(string_1,string_2))\n",
    "    elif (check_palindrome(string_1) and not check_palindrome(string_2) and check_Anagram(string_1,string_2)):\n",
    "        print(\"Given String string_1 '{0}' is a palindrome and String_2 '{1} is not a Palindrome and both are Anagram of each other.\".format(string_1,string_2))\n",
    "    elif (check_palindrome(string_1) and not check_palindrome(string_2) and not check_Anagram(string_1,string_2)):\n",
    "        print(\"Given String string_1 '{0}' is a palindrome and String_2 '{1} is not a Palindrome and both are not Anagram of each other.\".format(string_1,string_2))\n",
    "    elif (not check_palindrome(string_1) and  check_palindrome(string_2) and check_Anagram(string_1,string_2)):\n",
    "        print(\"Given String string_1 '{0}' is not a palindrome and String_2 '{1} is a Palindrome and both are Anagram of each other.\".format(string_1,string_2))\n",
    "    elif (not check_palindrome(string_1) and check_palindrome(string_2) and not check_Anagram(string_1,string_2)):\n",
    "        print(\"Given String string_1 '{0}' is not a palindrome and String_2 '{1} is a Palindrome and both are not Anagram of each other.\".format(string_1,string_2))\n",
    "    elif (not check_palindrome(string_1) and not check_palindrome(string_2) and check_Anagram(string_1,string_2)):\n",
    "        print(\"Given Both Strings string_1 '{0}' and String_2 '{1} are not a Palindrome and both are Anagram of each other.\".format(string_1,string_2))\n",
    "    elif (not check_palindrome(string_1) and not check_palindrome(string_2) and not check_Anagram(string_1,string_2)):\n",
    "        print(\"Given Both Strings string_1 '{0}' and String_2 '{1}  are not a Palindrome and both are not Anagram of each other.\".format(string_1,string_2))\n",
    "    else:\n",
    "        print(\"all possible combinations are checked, error some where else.\")\n",
    "else:\n",
    "    print(\"please enter proper length string.\")"
   ]
  },
  {
   "cell_type": "markdown",
   "metadata": {},
   "source": [
    "## Question4: Write a python user defined function that removes all the additional chracters from the string and converts it finally to lowercase using built-in lower(). eg. If the string is \"Dr.Darshan Ingle @AI-ML Trainer\". the output be \"drdarshaningleaimltrainer\""
   ]
  },
  {
   "cell_type": "code",
   "execution_count": 107,
   "metadata": {},
   "outputs": [
    {
     "name": "stdout",
     "output_type": "stream",
     "text": [
      "Enter any string:- Dr.Darshan Ingle @AI-ML Trainer\n",
      "drdarshaningleaimltrainer"
     ]
    }
   ],
   "source": [
    "str1=input(\"Enter any string:- \")\n",
    "for i in str1:\n",
    "    if i.isalpha():\n",
    "        print(i.lower(),end=\"\")"
   ]
  }
 ],
 "metadata": {
  "kernelspec": {
   "display_name": "Python 3",
   "language": "python",
   "name": "python3"
  },
  "language_info": {
   "codemirror_mode": {
    "name": "ipython",
    "version": 3
   },
   "file_extension": ".py",
   "mimetype": "text/x-python",
   "name": "python",
   "nbconvert_exporter": "python",
   "pygments_lexer": "ipython3",
   "version": "3.7.0"
  }
 },
 "nbformat": 4,
 "nbformat_minor": 2
}
